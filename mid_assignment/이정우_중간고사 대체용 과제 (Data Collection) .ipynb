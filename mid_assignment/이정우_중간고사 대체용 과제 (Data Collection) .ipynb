{
 "cells": [
  {
   "cell_type": "markdown",
   "id": "1dda4112",
   "metadata": {},
   "source": [
    "# 중간고사 대체용 과제 (Data Collection) : 총 20점"
   ]
  },
  {
   "cell_type": "markdown",
   "id": "59a14f9d",
   "metadata": {},
   "source": [
    "### ● Web crawler 만들기 (수업시간에 실습했던 한국관광공사, 네이버는 제외)\n",
    "#### 과제로 제출할 파일 : \n",
    "이름_중간고사 대체용 과제 (Data Collection). ipyny 파일 1개와 txt, csv, xlsx 데이터셋 파일 3개를 자신의 이름으로 압축하여 제출 "
   ]
  },
  {
   "cell_type": "markdown",
   "id": "98309c1b",
   "metadata": {},
   "source": [
    "---"
   ]
  },
  {
   "cell_type": "markdown",
   "id": "92807e75",
   "metadata": {},
   "source": [
    " <span style=\"color:blue\">   \n",
    "1)  Web crawler를 이용하여 데이터셋 구축 : 총 10점   \n",
    "</span> \n",
    "\n",
    "구축된 데이터셋 항목 개수  \n",
    "● txt, csv, xlsx 데이터셋 파일의 항목 개수가 3개 미만  : 2점  \n",
    "● txt, csv, xlsx 데이터셋 파일의 항목 개수가 4개 ~ 5개 : 3점  \n",
    "● txt, csv, xlsx 데이터셋 파일의 항목 개수가 6개 ~ 7개 : 4점  \n",
    "● txt, csv, xlsx 데이터셋 파일의 항목 개수가 8개 이상  : 5점    \n",
    "\n",
    "구축된 데이터셋 길이   \n",
    "● txt, csv, xlsx 데이터셋 길이 1,000개 미만      : 2점   \n",
    "● txt, csv, xlsx 데이터셋 길이 1,000개 ~ 1,500개 : 3점   \n",
    "● txt, csv, xlsx 데이터셋 길이 1,501개 ~ 2,000개 : 4점  \n",
    "● txt, csv, xlsx 데이터셋 길이 2,001개 이상      : 5점  "
   ]
  },
  {
   "cell_type": "markdown",
   "id": "3595757e",
   "metadata": {},
   "source": [
    " <span style=\"color:blue\">   \n",
    "2) 아래의 Web crawler site, Web crawler 구현 시 해당 사이트를 선택한 이유, Web crawler 구현 후 느낀점 기록 : 총 3 점   \n",
    "</span> "
   ]
  },
  {
   "cell_type": "markdown",
   "id": "47cbe560",
   "metadata": {},
   "source": [
    "2.1) Web crawler site (여러 사이트를 활용했을 경우, 활용한 사이트를 모두 기록)"
   ]
  },
  {
   "cell_type": "markdown",
   "source": [
    "https://www.dafont.com/"
   ],
   "metadata": {
    "collapsed": false
   },
   "id": "55fe2eb2efc7e81e"
  },
  {
   "cell_type": "markdown",
   "id": "6f29c162",
   "metadata": {},
   "source": [
    "2.2) Web crawler 구현 시 해당 사이트를 선택한 이유"
   ]
  },
  {
   "cell_type": "markdown",
   "source": [
    "디자인 일을 많이 하다 보니 평소에 폰트에 굉장히 관심이 많았고, 다양하고 이색적인 글꼴이 넘쳐나는 dafont 사이트를 애용했다. 그러다 보니 이 사이트에 어떤 글꼴들이 있고 그 글꼴의 원작자가 누구이며 라이선스는 어떤지 알고 싶어졌다. 특히 라이선스 정보를 크롤링을 통해 얻을 수 있다면 어떤 글꼴을 쓰는 게 유용한지 결정하는 데 도움이 될 것이라 생각했다."
   ],
   "metadata": {
    "collapsed": false
   },
   "id": "df8bff177dc863c6"
  },
  {
   "cell_type": "markdown",
   "id": "18798257",
   "metadata": {},
   "source": [
    "2.3) Web crawler 구현 후 느낀점 "
   ]
  },
  {
   "cell_type": "markdown",
   "source": [
    "많은 데이터를 크롤링하려다 보니 빠른 크롤링 속도가 더욱 중요하게 다가왔다. 어떻게 크롤링을 빠르게 실행할 수 있는지, 또 그러면서 에러 처리와 좋은 코드 원칙들을 동시에 준수하는 방법을 배우는 기회가 되었다. 또한 Windows에서 Chrome, Mac에서 Firefox 브라우저를 이용해 크롤링을 해보면서 다양한 환경에서 크롤링해보는 경험이 되었다."
   ],
   "metadata": {
    "collapsed": false
   },
   "id": "9a3659b87b26244e"
  },
  {
   "cell_type": "markdown",
   "id": "0378cecd",
   "metadata": {},
   "source": [
    "<span style=\"color:blue\">\n",
    "3) 웹크롤러 소스 코드 : 총 7점 <br>    \n",
    "</span>   \n",
    "\n",
    "● 에러 없이 크롤링이 수행되면 기본 점수 : 3점  \n",
    "에러가 발견되면 감점이 적용됩니다. \n",
    " \n",
    " \n",
    "● 소스 코드의 질적 평가 (상대 평가) : 4점   \n",
    "웹크롤러 구현시 질적으로 우수하다고 생각되는 소스 코드 부분에는 Markdown을 이용하여 반드시 설명을 기록하세요.   \n",
    "여러분이 Markdown을 이용하여 설명을 기록한 부분을 중심으로 질적 평가를 실시할 계획입니다.  \n",
    "Markdown으로 기록되지 않는 부분은 질적 평가에서 제외될 예정입니다. \n",
    "\n",
    "참고 : 소스 코드의 질적 평가 요소 예시  \n",
    "① 코딩 시, 코드 라인은 줄이면서 논리적 흐름은 명확하게 구현했다면 해당 부분에 관련 설명을 기록    \n",
    "② 제출된 소스코드를 테스트할 때 입력하는 과정을 최소화했거나 생략해서 코딩 테스팅을 편리하게 할 수 있도록 구현했다면 해당 부분에 설명을 기록  \n",
    "③ 강의 시간에 언급되지 않은 다양한 함수를 활용하여 데이터셋을 구축했다면 활용한 함수에 관한 설명을 기록     \n",
    "\n",
    "만약, 위와 같은 사항들을 고려하여 코딩했다면 Markdown을 이용하여 해당 부분에 반드시 설명을 기록합니다.  \n",
    "위에서 언급하지 않은 또 다른 좋은 방법을 소스 코드 구현시 활용했다면 그 부분을 Markdown으로 기록하면 됩니다. \n",
    "\n"
   ]
  },
  {
   "cell_type": "markdown",
   "id": "d5cc5a56",
   "metadata": {},
   "source": [
    "소스 코드 "
   ]
  },
  {
   "cell_type": "markdown",
   "source": [
    "# Mac OS를 위한 setting"
   ],
   "metadata": {
    "collapsed": false
   },
   "id": "947f9f1b07947f04"
  },
  {
   "cell_type": "code",
   "execution_count": 29,
   "outputs": [],
   "source": [
    "# webdriver setting\n",
    "from selenium import webdriver\n",
    "from webdriver_manager.firefox import GeckoDriverManager\n",
    "\n",
    "from selenium.webdriver.support.ui import WebDriverWait\n",
    "from selenium.webdriver.support import expected_conditions as EC\n",
    "from selenium.webdriver.common.by import By\n",
    "from selenium.webdriver.common.desired_capabilities import DesiredCapabilities\n",
    "\n",
    "driver = webdriver.Firefox(executable_path=GeckoDriverManager().install())\n",
    "caps = DesiredCapabilities().FIREFOX\n",
    "caps[\"pageLoadStrategy\"] = \"none\"\n",
    "\n",
    "# pandas setting\n",
    "import pandas as pd\n",
    "\n",
    "# os, time setting\n",
    "import os\n",
    "import copy\n",
    "import re"
   ],
   "metadata": {
    "collapsed": false,
    "ExecuteTime": {
     "end_time": "2023-10-30T10:11:30.429657Z",
     "start_time": "2023-10-30T10:11:27.481896Z"
    }
   },
   "id": "eb4f61d0"
  },
  {
   "cell_type": "markdown",
   "source": [
    "# Windows OS를 위한 setting"
   ],
   "metadata": {
    "collapsed": false
   },
   "id": "c3b64df2824a7d1"
  },
  {
   "cell_type": "code",
   "execution_count": null,
   "outputs": [],
   "source": [],
   "metadata": {
    "collapsed": false
   },
   "id": "f3b9dc530ab241fc"
  },
  {
   "cell_type": "markdown",
   "source": [
    "### 크롤링 전략\n",
    "전체 페이지를 soup에 저장한 뒤 selector을 이용해 특정 element를 탐색하는 것은 분명 편리하긴 하나 속도 측면에서 비효율적이다.\n",
    "이를 위해 soup에 저장하는 과정을 없애고 driver에서 직접 추출한다."
   ],
   "metadata": {
    "collapsed": false
   },
   "id": "4b4bf3cb239b7c3"
  },
  {
   "cell_type": "markdown",
   "source": [
    "### 크롤링하고자 하는 데이터\n",
    "1. name: 글꼴 이름\n",
    "2. author: 제작자\n",
    "3. downloads: 다운로드 수\n",
    "4. link: 폰트의 dafont 페이지 링크\n",
    "5. theme: 폰트의 하위 테마\n",
    "6. license: 폰트의 라이센스\n",
    "7. supported_glyphs: 지원되는 문체 (accent, euro)\n",
    "8. thumbnail_image: 폰트의 미리보기 이미지 url\n",
    "\n",
    "### 크롤링할 웹사이트\n",
    "https://www.dafont.com/mtheme.php?id=1\n",
    "dafont에서 'Fancy'라는 테마를 가진 글꼴들을 대상으로 크롤링한다."
   ],
   "metadata": {
    "collapsed": false
   },
   "id": "f2cb81f8a3380108"
  },
  {
   "cell_type": "code",
   "execution_count": 30,
   "outputs": [],
   "source": [
    "font_data = {\n",
    "    'name': None,\n",
    "    'author': None,\n",
    "    'downloads': None,\n",
    "    'link': None,\n",
    "    'theme': None,\n",
    "    'license': None,\n",
    "    'supported_glyphs': None,\n",
    "    'thumbnail_image': None\n",
    "}\n",
    "\n",
    "base_url = \"https://www.dafont.com\"\n",
    "theme_url = f\"{base_url}/mtheme.php?id=1\"\n",
    "\n",
    "fonts_info = []\n",
    "\n",
    "page = 1\n",
    "objective = 10"
   ],
   "metadata": {
    "collapsed": false,
    "ExecuteTime": {
     "start_time": "2023-10-30T10:11:37.019669Z"
    }
   },
   "id": "1721394a55f26f83"
  },
  {
   "cell_type": "markdown",
   "source": [
    "## <span style=\"color: cyan\">safe_extract(), safe_extract_thumbnail_image() 함수</span>\n",
    "이 함수들은 폰트 상세 페이지에서 요소들을 수집하는 <span style=\"color: cyan\">crawl_font_info()</span>함수에 사용되는 함수이다. 요소를 크롤링할 path와 CSS selector로 특정 요소를 지정하고, 이 요소의 text를 추출하곤 한다. 만약 추출하는 과정에서 요소를 찾을 수 없는 등의 에러가 발생한다면 대신 \"not provided\"(정보 제공되지 않음)라는 값을 넣는다. 이 과정이 각 데이터셋 항목을 추출할 때 반복적으로 발생하므로 <span style=\"color: cyan\">safe_extract()</span>라는 함수로 묶어 처리하고, 각 항목마다 다른 후처리가 필요한 경우 post_process parameter에 lambda 함수를 넣어 적용될 수 있도록 하였다.\n",
    "\n",
    "thumbnail 이미지의 경우 style의 background-image 속성 안의 url 추출 후 정규식을 적용하는 등의 별도의 복잡한 과정이 필요했기 때문에 <span style=\"color: cyan\">safe_extract()</span>와는 별개의 <span style=\"color: cyan\">safe_extract_thumbnail_image()</span> 함수로 빌드하였다.\n",
    "\n",
    "이렇게 중복되는 과정을 아래 함수들을 통해 제거함으로써 dry원칙을 준수하였다."
   ],
   "metadata": {
    "collapsed": false
   },
   "id": "64edaff2c819f0c8"
  },
  {
   "cell_type": "code",
   "execution_count": 31,
   "outputs": [],
   "source": [
    "def safe_extract(driver, css_selector, post_process=None):\n",
    "    try:\n",
    "        elem = driver.find_element(By.CSS_SELECTOR, css_selector)\n",
    "        text = elem.text.strip() if elem else 'not provided'\n",
    "        \n",
    "        final_value = post_process(text) if post_process else text\n",
    "        return final_value\n",
    "    \n",
    "    except Exception as e:\n",
    "        return \"not provided\"\n",
    "    \n",
    "def safe_extract_thumbnail_image(driver):\n",
    "    try:\n",
    "        elem = driver.find_element(By.CSS_SELECTOR, 'div.preview')\n",
    "        style = elem.get_attribute('style')\n",
    "\n",
    "        # Using Python string manipulation to extract URL\n",
    "        url_start = style.find('url(\"') + 5\n",
    "        url_end = style.find('\")')\n",
    "        background_image_url = style[url_start:url_end]\n",
    "        \n",
    "        return background_image_url\n",
    "    except Exception as e:\n",
    "        return \"not provided\""
   ],
   "metadata": {
    "collapsed": false,
    "ExecuteTime": {
     "start_time": "2023-10-30T10:11:39.783600Z"
    }
   },
   "id": "15a0c6115c95dd8c"
  },
  {
   "cell_type": "markdown",
   "source": [
    "## <span style=\"color: cyan\">crawl_font_info() 함수</span>\n",
    "위에서 작성한 <span style=\"color: cyan\">safe_extract(), safe_extract_thumbnail_image()</span>함수를 통해 얻은 값들을 font_info라는 객체에 넣고 반환하는 함수이다.\n",
    "크롤링을 진행하는 코드에서 사용하는데, 이렇게 별개의 함수로 감싸놓음으로써 코드를 알아보기 쉽도록 하는 semantic 원칙을 준수하였다."
   ],
   "metadata": {
    "collapsed": false
   },
   "id": "b20cb7aa3b0c494"
  },
  {
   "cell_type": "code",
   "execution_count": null,
   "outputs": [],
   "source": [
    "def crawl_font_info(driver):\n",
    "    font_info = copy.deepcopy(font_data)\n",
    "    font_info['name'] = safe_extract(driver, 'div.lv1left > strong')\n",
    "    font_info['author'] = safe_extract(driver, 'div.lv1left > a')\n",
    "    font_info['downloads'] = safe_extract(driver, 'div.lv2right > span', post_process=lambda x: int(re.sub(',', '', re.search(r'([\\d,]+)', x).group(1))) if re.search(r'([\\d,]+)', x) else 'not provided')\n",
    "    font_info['link'] = font_url\n",
    "    font_info['theme'] = safe_extract(driver, 'div.lv1right > a:nth-of-type(2)')\n",
    "    font_info['license'] = safe_extract(driver, 'a.tdn.help.black')\n",
    "    font_info['supported_glyphs'] = safe_extract(driver, 'div.lv1left > span.contain', post_process=lambda x: ', '.join([elem.text for elem in driver.find_elements(By.CSS_SELECTOR, 'div.lv1left > span.contain')]) if driver.find_elements(By.CSS_SELECTOR, 'div.lv1left > span.contain') else 'not provided')\n",
    "    font_info['thumbnail_image'] = base_url + safe_extract_thumbnail_image(driver)\n",
    "    \n",
    "    return font_info"
   ],
   "metadata": {
    "collapsed": false
   },
   "id": "edf7e6f190fb9ac8"
  },
  {
   "cell_type": "markdown",
   "source": [
    "# 크롤링 시작\n",
    "### 크롤링하는 순서와 방법론은 다음과 같다.\n",
    "1. url 파라미터로 페이지를 결정한다. (f\"{theme_url}&page=n\"에서 n을 조작함으로써 페이지를 옮길 수 있다.)\n",
    "2. 이 페이지의 폰트 리스트는 하나의 html element로 묶여 있지 않다. \"lv1left dfbg\" class값을 가진 div태그들을 모아 그 안에 있는 a태그의 href값을 추출하고 합쳐 임시 폰트 url 배열을 만든다.\n",
    "3. 임시 폰트 url 배열에 대해 순회하며 폰트 상세 페이지를 방문한다.\n",
    "4. crawl_font_info()로 데이터 수집을 끝마쳤으면 다음 페이지로 넘어간다.\n",
    "5. 추출된 url이 없으면 끝낸다."
   ],
   "metadata": {
    "collapsed": false
   },
   "id": "60da7c401d2913aa"
  },
  {
   "cell_type": "markdown",
   "source": [
    "### 특이사항\n",
    "- 크롤링 시, time.sleep으로 driver가 응답하는 데 충분한 시간을 주는 방법은 좋지 않다. 해당 시간이 지났는데도 로딩되지 않았을 수도 있고, 빨리 로딩되었는데 해당 시간만큼 더 기다리는 상황이 발생할 수 있어 크롤링 과정이 느리고 불안정해진다. 이 대신 WebDriverWait() 함수를 사용하였다. 이 함수는 특정 element들이 로딩되었는지 검사하고, 로딩되었다면 다음 코드를 실행하게 만든다."
   ],
   "metadata": {
    "collapsed": false
   },
   "id": "7fdc2904ad92292f"
  },
  {
   "cell_type": "code",
   "execution_count": 32,
   "outputs": [
    {
     "name": "stdout",
     "output_type": "stream",
     "text": [
      "['https://www.dafont.com/starborn.font', 'https://www.dafont.com/ghastly-panic.font', 'https://www.dafont.com/kg-red-hands.font', 'https://www.dafont.com/cheese-burger-4.font', 'https://www.dafont.com/cheri.font', 'https://www.dafont.com/varsity-2.font', 'https://www.dafont.com/doctor-glitch.font', 'https://www.dafont.com/another-danger.font', 'https://www.dafont.com/super-milk.font', 'https://www.dafont.com/adelia.font', 'https://www.dafont.com/harry-p.font', 'https://www.dafont.com/krifon.font', 'https://www.dafont.com/muloka-kerash.font', 'https://www.dafont.com/ruzack-mojok.font', 'https://www.dafont.com/melted-monster.font', 'https://www.dafont.com/valoon.font', 'https://www.dafont.com/komika-axis.font', 'https://www.dafont.com/marola.font', 'https://www.dafont.com/blastimo-sans.font', 'https://www.dafont.com/super-plants.font', 'https://www.dafont.com/chicken-pie.font', 'https://www.dafont.com/super-mario-256.font', 'https://www.dafont.com/hey-comic.font', 'https://www.dafont.com/sunday-mango.font', 'https://www.dafont.com/who-asks-satan.font']\n",
      "====================\n",
      "visiting https://www.dafont.com/starborn.font\n",
      "{'name': 'Starborn', 'author': 'Hawtpixel', 'downloads': 2340299, 'link': 'https://www.dafont.com/starborn.font', 'theme': 'Cartoon', 'license': 'Free for personal use', 'supported_glyphs': '€', 'thumbnail_image': 'https://www.dafont.com/img/preview/s/t/starborn1.png'}\n",
      "====================\n",
      "visiting https://www.dafont.com/ghastly-panic.font\n",
      "{'name': 'Ghastly Panic', 'author': 'Sinister Fonts', 'downloads': 3181078, 'link': 'https://www.dafont.com/ghastly-panic.font', 'theme': 'Horror', 'license': '100% Free', 'supported_glyphs': 'not provided', 'thumbnail_image': 'https://www.dafont.com/img/preview/g/h/ghastly_panic0.png'}\n",
      "====================\n",
      "visiting https://www.dafont.com/kg-red-hands.font\n",
      "{'name': 'KG Red Hands', 'author': 'Kimberly Geswein', 'downloads': 2953265, 'link': 'https://www.dafont.com/kg-red-hands.font', 'theme': 'Various', 'license': 'Free for personal use', 'supported_glyphs': 'à, €', 'thumbnail_image': 'https://www.dafont.com/img/preview/k/g/kg_red_hands0.png'}\n",
      "====================\n",
      "visiting https://www.dafont.com/cheese-burger-4.font\n",
      "{'name': 'Cheese Burger', 'author': 'MJType', 'downloads': 145860, 'link': 'https://www.dafont.com/cheese-burger-4.font', 'theme': 'Cartoon', 'license': '100% Free', 'supported_glyphs': 'à, €', 'thumbnail_image': 'https://www.dafont.com/img/preview/c/h/cheese_burger_40.png'}\n",
      "====================\n",
      "visiting https://www.dafont.com/cheri.font\n",
      "{'name': 'Cheri', 'author': 'Fontalicious', 'downloads': 9688961, 'link': 'https://www.dafont.com/cheri.font', 'theme': 'Cartoon', 'license': 'Free for personal use', 'supported_glyphs': 'not provided', 'thumbnail_image': 'https://www.dafont.com/img/preview/c/h/cheri1.png'}\n",
      "====================\n",
      "visiting https://www.dafont.com/varsity-2.font\n",
      "{'name': 'Varsity', 'author': 'Brøderbund Software', 'downloads': 8648998, 'link': 'https://www.dafont.com/varsity-2.font', 'theme': 'Old School', 'license': 'not provided', 'supported_glyphs': 'à', 'thumbnail_image': 'https://www.dafont.com/img/preview/v/a/varsity_20.png'}\n",
      "====================\n",
      "visiting https://www.dafont.com/doctor-glitch.font\n",
      "{'name': 'Doctor Glitch', 'author': 'Woodcutter', 'downloads': 2456695, 'link': 'https://www.dafont.com/doctor-glitch.font', 'theme': 'Distorted', 'license': 'Free for personal use', 'supported_glyphs': 'not provided', 'thumbnail_image': 'https://www.dafont.com/img/preview/d/o/doctor_glitch0.png'}\n",
      "====================\n",
      "visiting https://www.dafont.com/another-danger.font\n",
      "{'name': 'Another Danger', 'author': 'The Branded Quotes', 'downloads': 4047489, 'link': 'https://www.dafont.com/another-danger.font', 'theme': 'Horror', 'license': 'Demo', 'supported_glyphs': 'not provided', 'thumbnail_image': 'https://www.dafont.com/img/preview/a/n/another_danger0.png'}\n",
      "====================\n",
      "visiting https://www.dafont.com/super-milk.font\n",
      "{'name': 'Super Milk', 'author': 'fsuarez913', 'downloads': 54560, 'link': 'https://www.dafont.com/super-milk.font', 'theme': 'Cartoon', 'license': '100% Free', 'supported_glyphs': 'à, €', 'thumbnail_image': 'https://www.dafont.com/img/preview/s/u/super_milk0.png'}\n",
      "====================\n",
      "visiting https://www.dafont.com/adelia.font\n",
      "{'name': 'Adelia', 'author': 'Fanastudio', 'downloads': 2146894, 'link': 'https://www.dafont.com/adelia.font', 'theme': 'Cartoon', 'license': 'Free for personal use', 'supported_glyphs': 'not provided', 'thumbnail_image': 'https://www.dafont.com/img/preview/a/d/adelia0.png'}\n"
     ]
    }
   ],
   "source": [
    "process_no = 1\n",
    "\n",
    "while True:\n",
    "    # 페이지 세팅 후 접속\n",
    "    url = f\"{theme_url}&page={page}\"\n",
    "    driver.get(url)\n",
    "    \n",
    "    WebDriverWait(driver, 10).until(EC.presence_of_element_located((By.CSS_SELECTOR, 'div.lv1left.dfbg > a')))\n",
    "    \n",
    "    # 현 페이지에 있는 폰트들의 url을 찾아 배열로 만든다.\n",
    "    font_url_elements = driver.find_elements(By.CSS_SELECTOR, 'div.lv1left.dfbg')\n",
    "    font_urls = [element.find_element(By.CSS_SELECTOR, 'a').get_attribute('href') for element in font_url_elements]\n",
    "    \n",
    "    if font_urls:\n",
    "        print(font_urls)\n",
    "    \n",
    "    # 폰트 url 배열이 없으면 크롤링 종료\n",
    "    if not font_urls:\n",
    "        break\n",
    "    \n",
    "\n",
    "    for font_url in font_urls:\n",
    "        # 추출한 url에 따라 페이지 방문\n",
    "        driver.get(font_url)\n",
    "        \n",
    "        print(\"=\" * 50)\n",
    "        print(\"Collecting Entry number \" + process_no + \", page \" + page)\n",
    "        print(\"visiting \" + font_url)\n",
    "        \n",
    "        # 혹시 모를 에러에 대비해 이중 에러 처리\n",
    "        try:\n",
    "            font_info = crawl_font_info(driver)\n",
    "            \n",
    "            print(font_info)\n",
    "            fonts_info.append(font_info)\n",
    "            \n",
    "            process_no += 1\n",
    "        \n",
    "            # 목표 데이터 수에 도달했다면 탈출\n",
    "            if len(fonts_info) >= objective:\n",
    "                break\n",
    "                \n",
    "        except Exception as e:\n",
    "            print(f\"An error occurred while processing {font_url}: {e}\")\n",
    "    \n",
    "    # 목표 데이터 수에 도달했다면 탈출\n",
    "    if len(fonts_info) >= objective:\n",
    "        break\n",
    "        \n",
    "    # 다음 페이지로 넘어감\n",
    "    page += 1\n",
    "        "
   ],
   "metadata": {
    "collapsed": false,
    "ExecuteTime": {
     "end_time": "2023-10-30T10:12:13.709860Z",
     "start_time": "2023-10-30T10:11:40.205427Z"
    }
   },
   "id": "5ef45c982b32097d"
  },
  {
   "cell_type": "code",
   "execution_count": 24,
   "outputs": [
    {
     "data": {
      "text/plain": "[{'name': 'Starborn',\n  'author': 'Hawtpixel',\n  'downloads': 2,\n  'link': 'https://www.dafont.com/starborn.font',\n  'theme': 'Cartoon',\n  'license': 'Free for personal use',\n  'supported_glyphs': '€',\n  'thumbnail_image': '/img/preview/s/t/starborn1.png'},\n {'name': 'Ghastly Panic',\n  'author': 'Sinister Fonts',\n  'downloads': 3,\n  'link': 'https://www.dafont.com/ghastly-panic.font',\n  'theme': 'Horror',\n  'license': '100% Free',\n  'supported_glyphs': 'not provided: Message: Unable to locate element: div.lv1left > span.contain\\n',\n  'thumbnail_image': '/img/preview/g/h/ghastly_panic0.png'},\n {'name': 'KG Red Hands',\n  'author': 'Kimberly Geswein',\n  'downloads': 2,\n  'link': 'https://www.dafont.com/kg-red-hands.font',\n  'theme': 'Various',\n  'license': 'Free for personal use',\n  'supported_glyphs': 'à, €',\n  'thumbnail_image': '/img/preview/k/g/kg_red_hands0.png'},\n {'name': 'Cheese Burger',\n  'author': 'MJType',\n  'downloads': 145,\n  'link': 'https://www.dafont.com/cheese-burger-4.font',\n  'theme': 'Cartoon',\n  'license': '100% Free',\n  'supported_glyphs': 'à, €',\n  'thumbnail_image': '/img/preview/c/h/cheese_burger_40.png'},\n {'name': 'Cheri',\n  'author': 'Fontalicious',\n  'downloads': 9,\n  'link': 'https://www.dafont.com/cheri.font',\n  'theme': 'Cartoon',\n  'license': 'Free for personal use',\n  'supported_glyphs': 'not provided: Message: Unable to locate element: div.lv1left > span.contain\\n',\n  'thumbnail_image': '/img/preview/c/h/cheri1.png'},\n {'name': 'Varsity',\n  'author': 'Brøderbund Software',\n  'downloads': 8,\n  'link': 'https://www.dafont.com/varsity-2.font',\n  'theme': 'Old School',\n  'license': 'not provided: Message: Unable to locate element: a.tdn.help.black\\n',\n  'supported_glyphs': 'à',\n  'thumbnail_image': '/img/preview/v/a/varsity_20.png'},\n {'name': 'Doctor Glitch',\n  'author': 'Woodcutter',\n  'downloads': 2,\n  'link': 'https://www.dafont.com/doctor-glitch.font',\n  'theme': 'Distorted',\n  'license': 'Free for personal use',\n  'supported_glyphs': 'not provided: Message: Unable to locate element: div.lv1left > span.contain\\n',\n  'thumbnail_image': '/img/preview/d/o/doctor_glitch0.png'},\n {'name': 'Another Danger',\n  'author': 'The Branded Quotes',\n  'downloads': 4,\n  'link': 'https://www.dafont.com/another-danger.font',\n  'theme': 'Horror',\n  'license': 'Demo',\n  'supported_glyphs': 'not provided: Message: Unable to locate element: div.lv1left > span.contain\\n',\n  'thumbnail_image': '/img/preview/a/n/another_danger0.png'},\n {'name': 'Super Milk',\n  'author': 'fsuarez913',\n  'downloads': 54,\n  'link': 'https://www.dafont.com/super-milk.font',\n  'theme': 'Cartoon',\n  'license': '100% Free',\n  'supported_glyphs': 'à, €',\n  'thumbnail_image': '/img/preview/s/u/super_milk0.png'},\n {'name': 'Adelia',\n  'author': 'Fanastudio',\n  'downloads': 2,\n  'link': 'https://www.dafont.com/adelia.font',\n  'theme': 'Cartoon',\n  'license': 'Free for personal use',\n  'supported_glyphs': 'not provided: Message: Unable to locate element: div.lv1left > span.contain\\n',\n  'thumbnail_image': '/img/preview/a/d/adelia0.png'},\n {'name': 'Harry P',\n  'author': 'GemFonts / Typotheticals',\n  'downloads': 7,\n  'link': 'https://www.dafont.com/harry-p.font',\n  'theme': 'Various',\n  'license': '100% Free',\n  'supported_glyphs': 'not provided: Message: Unable to locate element: div.lv1left > span.contain\\n',\n  'thumbnail_image': '/img/preview/h/a/harry_p0.png'},\n {'name': 'Krifon',\n  'author': 'Tebaltipis Studio',\n  'downloads': 20,\n  'link': 'https://www.dafont.com/krifon.font',\n  'theme': 'Retro',\n  'license': 'Free for personal use',\n  'supported_glyphs': 'à, €',\n  'thumbnail_image': '/img/preview/k/r/krifon0.png'},\n {'name': 'Muloka Kerash',\n  'author': 'Storytype Studio',\n  'downloads': 18,\n  'link': 'https://www.dafont.com/muloka-kerash.font',\n  'theme': 'Retro',\n  'license': 'Free for personal use',\n  'supported_glyphs': 'à, €',\n  'thumbnail_image': '/img/preview/m/u/muloka_kerash0.png'},\n {'name': 'Ruzack Mojok',\n  'author': 'Storytype Studio',\n  'downloads': 22,\n  'link': 'https://www.dafont.com/ruzack-mojok.font',\n  'theme': 'Cartoon',\n  'license': 'Free for personal use',\n  'supported_glyphs': 'à, €',\n  'thumbnail_image': '/img/preview/r/u/ruzack_mojok0.png'},\n {'name': 'Melted Monster',\n  'author': 'Dm Letter Studio - Dimas Prasetyo',\n  'downloads': 703,\n  'link': 'https://www.dafont.com/melted-monster.font',\n  'theme': 'Horror',\n  'license': 'Free for personal use',\n  'supported_glyphs': 'à, €',\n  'thumbnail_image': '/img/preview/m/e/melted_monster0.png'},\n {'name': 'Valoon',\n  'author': 'Modestype Studio',\n  'downloads': 43,\n  'link': 'https://www.dafont.com/valoon.font',\n  'theme': 'Cartoon',\n  'license': 'Free for personal use',\n  'supported_glyphs': 'not provided: Message: Unable to locate element: div.lv1left > span.contain\\n',\n  'thumbnail_image': '/img/preview/v/a/valoon0.png'},\n {'name': 'Komika Axis',\n  'author': 'Vigilante Typeface Corporation',\n  'downloads': 3,\n  'link': 'https://www.dafont.com/komika-axis.font',\n  'theme': 'Comic',\n  'license': 'Free for personal use',\n  'supported_glyphs': 'à, €',\n  'thumbnail_image': '/img/preview/k/o/komika_axis0.png'},\n {'name': 'Marola',\n  'author': 'Nú-Dës',\n  'downloads': 2,\n  'link': 'https://www.dafont.com/marola.font',\n  'theme': 'Distorted',\n  'license': '100% Free',\n  'supported_glyphs': 'à',\n  'thumbnail_image': '/img/preview/m/a/marola0.png'},\n {'name': 'Blastimo Sans',\n  'author': 'Debut Studio',\n  'downloads': 531,\n  'link': 'https://www.dafont.com/blastimo-sans.font',\n  'theme': 'Distorted',\n  'license': 'Demo',\n  'supported_glyphs': 'à, €',\n  'thumbnail_image': '/img/preview/b/l/blastimo_sans0.png'},\n {'name': 'Super Plants',\n  'author': 'fsuarez913',\n  'downloads': 46,\n  'link': 'https://www.dafont.com/super-plants.font',\n  'theme': 'Cartoon',\n  'license': '100% Free',\n  'supported_glyphs': 'à, €',\n  'thumbnail_image': '/img/preview/s/u/super_plants0.png'},\n {'name': 'Chicken Pie',\n  'author': 'Manjali Studio',\n  'downloads': 2,\n  'link': 'https://www.dafont.com/chicken-pie.font',\n  'theme': 'Cartoon',\n  'license': 'Free for personal use',\n  'supported_glyphs': 'à, €',\n  'thumbnail_image': '/img/preview/c/h/chicken_pie0.png'},\n {'name': 'Super Mario 256',\n  'author': 'fsuarez913',\n  'downloads': 3,\n  'link': 'https://www.dafont.com/super-mario-256.font',\n  'theme': 'Cartoon',\n  'license': '100% Free',\n  'supported_glyphs': 'not provided: Message: Unable to locate element: div.lv1left > span.contain\\n',\n  'thumbnail_image': '/img/preview/s/u/super_mario_2560.png'},\n {'name': 'Hey Comic',\n  'author': 'Khurasan',\n  'downloads': 1,\n  'link': 'https://www.dafont.com/hey-comic.font',\n  'theme': 'Comic',\n  'license': 'Free for personal use',\n  'supported_glyphs': 'à',\n  'thumbnail_image': '/img/preview/h/e/hey_comic1.png'},\n {'name': 'Sunday Mango',\n  'author': 'Khurasan',\n  'downloads': 104,\n  'link': 'https://www.dafont.com/sunday-mango.font',\n  'theme': 'Cartoon',\n  'license': '100% Free',\n  'supported_glyphs': '€',\n  'thumbnail_image': '/img/preview/s/u/sunday_mango1.png'},\n {'name': 'Who asks Satan',\n  'author': 'Font Monger',\n  'downloads': 1,\n  'link': 'https://www.dafont.com/who-asks-satan.font',\n  'theme': 'Horror',\n  'license': 'Free for personal use',\n  'supported_glyphs': 'not provided: Message: Unable to locate element: div.lv1left > span.contain\\n',\n  'thumbnail_image': '/img/preview/w/h/who_asks_satan0.png'},\n {'name': 'American Captain',\n  'author': 'Fontry',\n  'downloads': 6,\n  'link': 'https://www.dafont.com/american-captain.font',\n  'theme': 'Retro',\n  'license': 'Free for personal use',\n  'supported_glyphs': 'à, €',\n  'thumbnail_image': '/img/preview/a/m/american_captain1.png'},\n {'name': 'Aurora Pro',\n  'author': 'Moon Young URC',\n  'downloads': 612,\n  'link': 'https://www.dafont.com/aurora-pro.font',\n  'theme': 'Distorted',\n  'license': 'Free for personal use',\n  'supported_glyphs': 'not provided: Message: Unable to locate element: div.lv1left > span.contain\\n',\n  'thumbnail_image': '/img/preview/a/u/aurora_pro0.png'},\n {'name': 'Super Sedan',\n  'author': 'fsuarez913',\n  'downloads': 13,\n  'link': 'https://www.dafont.com/super-sedan.font',\n  'theme': 'Cartoon',\n  'license': '100% Free',\n  'supported_glyphs': 'à, €',\n  'thumbnail_image': '/img/preview/s/u/super_sedan0.png'},\n {'name': \"Keep on Truckin' FW\",\n  'author': 'Brain Eaters Font Co.',\n  'downloads': 6,\n  'link': 'https://www.dafont.com/keep-on-truckin-fw.font',\n  'theme': 'Groovy',\n  'license': 'Free for personal use',\n  'supported_glyphs': 'not provided: Message: Unable to locate element: div.lv1left > span.contain\\n',\n  'thumbnail_image': '/img/preview/k/e/keep_on_truckin_fw0.png'},\n {'name': 'BubbleGum',\n  'author': 'Thomas W. Ziller',\n  'downloads': 6,\n  'link': 'https://www.dafont.com/bubblegum.font',\n  'theme': 'Cartoon',\n  'license': 'Shareware',\n  'supported_glyphs': 'not provided: Message: Unable to locate element: div.lv1left > span.contain\\n',\n  'thumbnail_image': '/img/preview/b/u/bubblegum0.png'},\n {'name': 'New Romantics',\n  'author': 'Fonts a Go-Go',\n  'downloads': 3,\n  'link': 'https://www.dafont.com/new-romantics.font',\n  'theme': 'Distorted',\n  'license': 'Free for personal use',\n  'supported_glyphs': 'à, €',\n  'thumbnail_image': '/img/preview/n/e/new_romantics0.png'},\n {'name': 'Break',\n  'author': 'Vladimir Nikolic',\n  'downloads': 755,\n  'link': 'https://www.dafont.com/break-2.font',\n  'theme': 'Various',\n  'license': 'Free for personal use',\n  'supported_glyphs': 'not provided: Message: Unable to locate element: div.lv1left > span.contain\\n',\n  'thumbnail_image': '/img/preview/b/r/break_20.png'},\n {'name': 'Next Sunday',\n  'author': 'Khurasan',\n  'downloads': 47,\n  'link': 'https://www.dafont.com/next-sunday.font',\n  'theme': 'Comic',\n  'license': '100% Free',\n  'supported_glyphs': '€',\n  'thumbnail_image': '/img/preview/n/e/next_sunday1.png'},\n {'name': 'Horror Korpus',\n  'author': 'Mans Greback',\n  'downloads': 52,\n  'link': 'https://www.dafont.com/horror-korpus.font',\n  'theme': 'Horror',\n  'license': 'Free for personal use',\n  'supported_glyphs': 'à, €',\n  'thumbnail_image': '/img/preview/h/o/horror_korpus1.png'},\n {'name': 'Happy Dance',\n  'author': 'Pinisiart',\n  'downloads': 53,\n  'link': 'https://www.dafont.com/happy-dance.font',\n  'theme': 'Cartoon',\n  'license': 'Free for personal use',\n  'supported_glyphs': 'not provided: Message: Unable to locate element: div.lv1left > span.contain\\n',\n  'thumbnail_image': '/img/preview/h/a/happy_dance0.png'},\n {'name': 'Badaboom BB',\n  'author': 'Blambot',\n  'downloads': 7,\n  'link': 'https://www.dafont.com/badaboom-bb.font',\n  'theme': 'Comic',\n  'license': 'Free for personal use',\n  'supported_glyphs': 'not provided: Message: Unable to locate element: div.lv1left > span.contain\\n',\n  'thumbnail_image': '/img/preview/b/a/badaboom_bb0.png'},\n {'name': 'Super Cool',\n  'author': 'fsuarez913',\n  'downloads': 70,\n  'link': 'https://www.dafont.com/super-cool.font',\n  'theme': 'Groovy',\n  'license': 'Free for personal use',\n  'supported_glyphs': 'à, €',\n  'thumbnail_image': '/img/preview/s/u/super_cool0.png'},\n {'name': 'Blacklisted',\n  'author': 'Jayde Garrow',\n  'downloads': 4,\n  'link': 'https://www.dafont.com/blacklisted.font',\n  'theme': 'Distorted',\n  'license': 'Free for personal use',\n  'supported_glyphs': 'not provided: Message: Unable to locate element: div.lv1left > span.contain\\n',\n  'thumbnail_image': '/img/preview/b/l/blacklisted0.png'},\n {'name': 'Lostar',\n  'author': 'Riyadh Rahman',\n  'downloads': 326,\n  'link': 'https://www.dafont.com/lostar.font',\n  'theme': 'Groovy',\n  'license': 'Free for personal use',\n  'supported_glyphs': 'à, €',\n  'thumbnail_image': '/img/preview/l/o/lostar0.png'},\n {'name': 'Freshman',\n  'author': 'William Boyd',\n  'downloads': 4,\n  'link': 'https://www.dafont.com/freshman.font',\n  'theme': 'Old School',\n  'license': '100% Free',\n  'supported_glyphs': 'not provided: Message: Unable to locate element: div.lv1left > span.contain\\n',\n  'thumbnail_image': '/img/preview/f/r/freshman0.png'},\n {'name': \"Porky's\",\n  'author': 'Fontalicious',\n  'downloads': 2,\n  'link': 'https://www.dafont.com/porky-s.font',\n  'theme': 'Distorted',\n  'license': 'Free for personal use',\n  'supported_glyphs': 'à',\n  'thumbnail_image': '/img/preview/p/o/porky_s1.png'},\n {'name': 'Storm Gust',\n  'author': 'Hanzel Space',\n  'downloads': 395,\n  'link': 'https://www.dafont.com/storm-gust.font',\n  'theme': 'Horror',\n  'license': 'Free for personal use',\n  'supported_glyphs': 'à, €',\n  'thumbnail_image': '/img/preview/s/t/storm_gust1.png'},\n {'name': 'Pokémon',\n  'author': 'not provided: Message: Unable to locate element: div.lv1left > a\\n',\n  'downloads': 6,\n  'link': 'https://www.dafont.com/pokemon.font',\n  'theme': 'Cartoon',\n  'license': 'not provided: Message: Unable to locate element: a.tdn.help.black\\n',\n  'supported_glyphs': 'à',\n  'thumbnail_image': '/img/preview/p/o/pokemon0.png'},\n {'name': 'Urban Jungle',\n  'author': 'KC Fonts',\n  'downloads': 5,\n  'link': 'https://www.dafont.com/urban-jungle.font',\n  'theme': 'Eroded',\n  'license': 'Free for personal use',\n  'supported_glyphs': 'not provided: Message: Unable to locate element: div.lv1left > span.contain\\n',\n  'thumbnail_image': '/img/preview/u/r/urban_jungle0.png'},\n {'name': 'Brogte',\n  'author': 'Storytype Studio',\n  'downloads': 11,\n  'link': 'https://www.dafont.com/brogte.font',\n  'theme': 'Stencil, Army',\n  'license': 'Free for personal use',\n  'supported_glyphs': 'à, €',\n  'thumbnail_image': '/img/preview/b/r/brogte0.png'},\n {'name': 'Bakso Sapi',\n  'author': 'Locomotype',\n  'downloads': 3,\n  'link': 'https://www.dafont.com/bakso-sapi.font',\n  'theme': 'Comic',\n  'license': '100% Free',\n  'supported_glyphs': 'à, €',\n  'thumbnail_image': '/img/preview/b/a/bakso_sapi0.png'},\n {'name': 'Super Dessert',\n  'author': 'fsuarez913',\n  'downloads': 75,\n  'link': 'https://www.dafont.com/super-dessert.font',\n  'theme': 'Cartoon',\n  'license': '100% Free',\n  'supported_glyphs': 'à, €',\n  'thumbnail_image': '/img/preview/s/u/super_dessert0.png'},\n {'name': 'JMH Typewriter',\n  'author': 'Jorge Morón',\n  'downloads': 1,\n  'link': 'https://www.dafont.com/jmh-typewriter.font',\n  'theme': 'Typewriter',\n  'license': 'Free for personal use',\n  'supported_glyphs': 'à, €',\n  'thumbnail_image': '/img/preview/j/m/jmh_typewriter7.png'},\n {'name': 'Bouncy',\n  'author': 'Mans Greback',\n  'downloads': 1,\n  'link': 'https://www.dafont.com/bouncy-2.font',\n  'theme': 'Comic',\n  'license': 'Free for personal use',\n  'supported_glyphs': 'à, €',\n  'thumbnail_image': '/img/preview/b/o/bouncy_21.png'},\n {'name': 'Misologist',\n  'author': 'sronstudio',\n  'downloads': 11,\n  'link': 'https://www.dafont.com/misologist.font',\n  'theme': 'Retro',\n  'license': 'Free for personal use',\n  'supported_glyphs': 'à, €',\n  'thumbnail_image': '/img/preview/m/i/misologist0.png'},\n {'name': 'Grinched',\n  'author': 'Sharkshock',\n  'downloads': 1,\n  'link': 'https://www.dafont.com/grinched.font',\n  'theme': 'Cartoon',\n  'license': 'Free for personal use',\n  'supported_glyphs': 'not provided: Message: Unable to locate element: div.lv1left > span.contain\\n',\n  'thumbnail_image': '/img/preview/g/r/grinched0.png'},\n {'name': 'Grobold',\n  'author': 'Guy Buhry',\n  'downloads': 5,\n  'link': 'https://www.dafont.com/grobold.font',\n  'theme': 'Cartoon',\n  'license': 'Free for personal use',\n  'supported_glyphs': 'not provided: Message: Unable to locate element: div.lv1left > span.contain\\n',\n  'thumbnail_image': '/img/preview/g/r/grobold0.png'},\n {'name': 'Varsity Team',\n  'author': 'Don Marciano',\n  'downloads': 1,\n  'link': 'https://www.dafont.com/varsity-team.font',\n  'theme': 'Old School',\n  'license': '100% Free',\n  'supported_glyphs': 'à, €',\n  'thumbnail_image': '/img/preview/v/a/varsity_team0.png'},\n {'name': 'The Augusta',\n  'author': 'Subectype & Orenari',\n  'downloads': 733,\n  'link': 'https://www.dafont.com/the-augusta.font',\n  'theme': 'Groovy',\n  'license': 'Free for personal use',\n  'supported_glyphs': 'à, €',\n  'thumbnail_image': '/img/preview/t/h/the_augusta0.png'},\n {'name': 'Rhuma Sinera',\n  'author': 'Mabhal Studio',\n  'downloads': 202,\n  'link': 'https://www.dafont.com/rhuma-sinera.font',\n  'theme': 'Cartoon',\n  'license': 'Free for personal use',\n  'supported_glyphs': 'à, €',\n  'thumbnail_image': '/img/preview/r/h/rhuma_sinera1.png'},\n {'name': 'Panic',\n  'author': 'imagex',\n  'downloads': 1,\n  'link': 'https://www.dafont.com/panic.font',\n  'theme': 'Distorted',\n  'license': 'Free for personal use',\n  'supported_glyphs': 'not provided: Message: Unable to locate element: div.lv1left > span.contain\\n',\n  'thumbnail_image': '/img/preview/p/a/panic0.png'},\n {'name': 'Super Snack',\n  'author': 'fsuarez913',\n  'downloads': 62,\n  'link': 'https://www.dafont.com/super-snack.font',\n  'theme': 'Cartoon',\n  'license': 'Free for personal use',\n  'supported_glyphs': 'à, €',\n  'thumbnail_image': '/img/preview/s/u/super_snack0.png'},\n {'name': 'Cute Notes',\n  'author': 'Hawtpixel',\n  'downloads': 2,\n  'link': 'https://www.dafont.com/cute-notes.font',\n  'theme': 'Decorative',\n  'license': 'Free for personal use',\n  'supported_glyphs': '€',\n  'thumbnail_image': '/img/preview/c/u/cute_notes0.png'},\n {'name': 'Hip Horay',\n  'author': 'Khurasan',\n  'downloads': 45,\n  'link': 'https://www.dafont.com/hip-horay.font',\n  'theme': 'Cartoon',\n  'license': '100% Free',\n  'supported_glyphs': '€',\n  'thumbnail_image': '/img/preview/h/i/hip_horay1.png'},\n {'name': 'Heartless',\n  'author': 'Lettersiro Studio',\n  'downloads': 905,\n  'link': 'https://www.dafont.com/heartless.font',\n  'theme': 'Horror',\n  'license': 'Free for personal use',\n  'supported_glyphs': 'not provided: Message: Unable to locate element: div.lv1left > span.contain\\n',\n  'thumbnail_image': '/img/preview/h/e/heartless0.png'},\n {'name': 'Toony Line',\n  'author': 'Mans Greback',\n  'downloads': 202,\n  'link': 'https://www.dafont.com/toony-line.font',\n  'theme': 'Cartoon',\n  'license': 'Free for personal use',\n  'supported_glyphs': 'à, €',\n  'thumbnail_image': '/img/preview/t/o/toony_line0.png'},\n {'name': 'New Machiato',\n  'author': 'Storytype Studio',\n  'downloads': 9,\n  'link': 'https://www.dafont.com/new-machiato.font',\n  'theme': 'Retro',\n  'license': 'Free for personal use',\n  'supported_glyphs': 'à, €',\n  'thumbnail_image': '/img/preview/n/e/new_machiato0.png'},\n {'name': 'Metropolitan',\n  'author': 'Empire of Dust',\n  'downloads': 425,\n  'link': 'https://www.dafont.com/metropolitan.font',\n  'theme': 'Distorted',\n  'license': '100% Free',\n  'supported_glyphs': 'not provided: Message: Unable to locate element: div.lv1left > span.contain\\n',\n  'thumbnail_image': '/img/preview/m/e/metropolitan0.png'},\n {'name': 'Magic Retro',\n  'author': 'HansCo',\n  'downloads': 513,\n  'link': 'https://www.dafont.com/magic-retro.font',\n  'theme': 'Retro',\n  'license': 'Free for personal use',\n  'supported_glyphs': 'à, €',\n  'thumbnail_image': '/img/preview/m/a/magic_retro0.png'},\n {'name': 'Gods Must',\n  'author': 'Storytype Studio',\n  'downloads': 8,\n  'link': 'https://www.dafont.com/gods-must.font',\n  'theme': 'Cartoon',\n  'license': 'Free for personal use',\n  'supported_glyphs': 'à, €',\n  'thumbnail_image': '/img/preview/g/o/gods_must0.png'},\n {'name': 'Darling',\n  'author': 'GFR Creative',\n  'downloads': 652,\n  'link': 'https://www.dafont.com/darling-3.font',\n  'theme': 'Curly',\n  'license': 'Free for personal use',\n  'supported_glyphs': 'à, €',\n  'thumbnail_image': '/img/preview/d/a/darling_30.png'},\n {'name': 'Jumbo Sale',\n  'author': 'Eko Bimantara',\n  'downloads': 51,\n  'link': 'https://www.dafont.com/jumbo-sale.font',\n  'theme': 'Cartoon',\n  'license': 'Free for personal use',\n  'supported_glyphs': 'à, €',\n  'thumbnail_image': '/img/preview/j/u/jumbo_sale0.png'},\n {'name': 'Shlop',\n  'author': 'Typodermic Fonts',\n  'downloads': 505,\n  'link': 'https://www.dafont.com/shlop.font',\n  'theme': 'Horror',\n  'license': '100% Free',\n  'supported_glyphs': 'à, €',\n  'thumbnail_image': '/img/preview/s/h/shlop0.png'},\n {'name': 'Monday Banana',\n  'author': 'Khurasan',\n  'downloads': 46,\n  'link': 'https://www.dafont.com/monday-banana.font',\n  'theme': 'Cartoon',\n  'license': '100% Free',\n  'supported_glyphs': '€',\n  'thumbnail_image': '/img/preview/m/o/monday_banana0.png'},\n {'name': 'Curse of the Zombie',\n  'author': 'imagex',\n  'downloads': 929,\n  'link': 'https://www.dafont.com/curse-of-the-zombie.font',\n  'theme': 'Horror',\n  'license': 'Free for personal use',\n  'supported_glyphs': '€',\n  'thumbnail_image': '/img/preview/c/u/curse_of_the_zombie0.png'},\n {'name': 'KG Happy',\n  'author': 'Kimberly Geswein',\n  'downloads': 3,\n  'link': 'https://www.dafont.com/kg-happy.font',\n  'theme': 'Comic',\n  'license': 'Free for personal use',\n  'supported_glyphs': 'à, €',\n  'thumbnail_image': '/img/preview/k/g/kg_happy0.png'},\n {'name': 'The Death Dog',\n  'author': 'Woodcutter',\n  'downloads': 7,\n  'link': 'https://www.dafont.com/the-death-dog.font',\n  'theme': 'Horror',\n  'license': 'Free for personal use',\n  'supported_glyphs': 'not provided: Message: Unable to locate element: div.lv1left > span.contain\\n',\n  'thumbnail_image': '/img/preview/t/h/the_death_dog0.png'},\n {'name': 'The Amazing Spider-Man',\n  'author': 'SpideRaYsfoNtS',\n  'downloads': 2,\n  'link': 'https://www.dafont.com/the-amazing-spider-man.font',\n  'theme': 'Comic',\n  'license': 'Free for personal use',\n  'supported_glyphs': 'not provided: Message: Unable to locate element: div.lv1left > span.contain\\n',\n  'thumbnail_image': '/img/preview/t/h/the_amazing_spider_man0.png'},\n {'name': 'Help Me',\n  'author': 'GGBotNet',\n  'downloads': 361,\n  'link': 'https://www.dafont.com/help-me.font',\n  'theme': 'Horror',\n  'license': 'Public domain / GPL / OFL',\n  'supported_glyphs': '€',\n  'thumbnail_image': '/img/preview/h/e/help_me0.png'},\n {'name': 'Saint Carell',\n  'author': 'Mans Greback',\n  'downloads': 261,\n  'link': 'https://www.dafont.com/saint-carell.font',\n  'theme': 'Retro',\n  'license': 'Free for personal use',\n  'supported_glyphs': 'à, €',\n  'thumbnail_image': '/img/preview/s/a/saint_carell1.png'},\n {'name': 'Nightcore',\n  'author': 'The Branded Quotes',\n  'downloads': 398,\n  'link': 'https://www.dafont.com/nightcore.font',\n  'theme': 'Horror',\n  'license': 'Demo',\n  'supported_glyphs': 'not provided: Message: Unable to locate element: div.lv1left > span.contain\\n',\n  'thumbnail_image': '/img/preview/n/i/nightcore0.png'},\n {'name': 'Super Squad',\n  'author': 'Hawtpixel',\n  'downloads': 62,\n  'link': 'https://www.dafont.com/super-squad.font',\n  'theme': 'Comic',\n  'license': 'Free for personal use',\n  'supported_glyphs': 'à, €',\n  'thumbnail_image': '/img/preview/s/u/super_squad3.png'},\n {'name': 'Anime Ace BB',\n  'author': 'Blambot',\n  'downloads': 1,\n  'link': 'https://www.dafont.com/anime-ace-bb.font',\n  'theme': 'Comic',\n  'license': 'Free for personal use',\n  'supported_glyphs': 'à',\n  'thumbnail_image': '/img/preview/a/n/anime_ace_bb5.png'},\n {'name': 'Blue Ocean',\n  'author': 'Storytype Studio',\n  'downloads': 206,\n  'link': 'https://www.dafont.com/blue-ocean-3.font',\n  'theme': 'Groovy',\n  'license': 'Free for personal use',\n  'supported_glyphs': 'à, €',\n  'thumbnail_image': '/img/preview/b/l/blue_ocean_30.png'},\n {'name': 'Friday 13',\n  'author': 'Norfok Incredible Font Design',\n  'downloads': 1,\n  'link': 'https://www.dafont.com/friday13.font',\n  'theme': 'Horror',\n  'license': 'Demo',\n  'supported_glyphs': 'not provided: Message: Unable to locate element: div.lv1left > span.contain\\n',\n  'thumbnail_image': '/img/preview/f/r/friday132.png'},\n {'name': 'Hanging Letters',\n  'author': 'Hareesh Seela',\n  'downloads': 6,\n  'link': 'https://www.dafont.com/hanging-letters.font',\n  'theme': 'Decorative',\n  'license': 'Free for personal use',\n  'supported_glyphs': 'not provided: Message: Unable to locate element: div.lv1left > span.contain\\n',\n  'thumbnail_image': '/img/preview/h/a/hanging_letters0.png'},\n {'name': 'Candy Beans',\n  'author': 'Chequered Ink',\n  'downloads': 1,\n  'link': 'https://www.dafont.com/candy-beans.font',\n  'theme': 'Cartoon',\n  'license': 'Free for personal use',\n  'supported_glyphs': 'à, €',\n  'thumbnail_image': '/img/preview/c/a/candy_beans0.png'},\n {'name': 'Jersey M54',\n  'author': 'justme54s',\n  'downloads': 1,\n  'link': 'https://www.dafont.com/jersey-m54.font',\n  'theme': 'Old School',\n  'license': 'Free for personal use',\n  'supported_glyphs': 'not provided: Message: Unable to locate element: div.lv1left > span.contain\\n',\n  'thumbnail_image': '/img/preview/j/e/jersey_m540.png'},\n {'name': 'a Abstract Groovy',\n  'author': 'wep',\n  'downloads': 853,\n  'link': 'https://www.dafont.com/a-abstract-groovy.font',\n  'theme': 'Groovy',\n  'license': 'Donationware',\n  'supported_glyphs': 'not provided: Message: Unable to locate element: div.lv1left > span.contain\\n',\n  'thumbnail_image': '/img/preview/a/_/a_abstract_groovy1.png'},\n {'name': 'Organical',\n  'author': 'Billy Argel Fonts ®',\n  'downloads': 57,\n  'link': 'https://www.dafont.com/organical.font',\n  'theme': 'Decorative',\n  'license': 'Free for personal use',\n  'supported_glyphs': 'à, €',\n  'thumbnail_image': '/img/preview/o/r/organical0.png'},\n {'name': 'Vintage King',\n  'author': 'PutraCetol Studio',\n  'downloads': 990,\n  'link': 'https://www.dafont.com/vintage-king.font',\n  'theme': 'Groovy',\n  'license': 'Free for personal use',\n  'supported_glyphs': 'à, €',\n  'thumbnail_image': '/img/preview/v/i/vintage_king0.png'},\n {'name': 'Evil Empire',\n  'author': 'Tup Wanders',\n  'downloads': 412,\n  'link': 'https://www.dafont.com/evil-empire.font',\n  'theme': 'Retro',\n  'license': 'Public domain / GPL / OFL',\n  'supported_glyphs': 'à, €',\n  'thumbnail_image': '/img/preview/e/v/evil_empire0.png'},\n {'name': 'Kaoly',\n  'author': 'Creative Media Lab',\n  'downloads': 541,\n  'link': 'https://www.dafont.com/kaoly.font',\n  'theme': 'Retro',\n  'license': 'Free for personal use',\n  'supported_glyphs': 'not provided: Message: Unable to locate element: div.lv1left > span.contain\\n',\n  'thumbnail_image': '/img/preview/k/a/kaoly0.png'},\n {'name': 'College',\n  'author': 'Matthew Welch',\n  'downloads': 3,\n  'link': 'https://www.dafont.com/college.font',\n  'theme': 'Old School',\n  'license': '100% Free',\n  'supported_glyphs': 'not provided: Message: Unable to locate element: div.lv1left > span.contain\\n',\n  'thumbnail_image': '/img/preview/c/o/college1.png'},\n {'name': 'Magic Sound',\n  'author': 'imagex',\n  'downloads': 478,\n  'link': 'https://www.dafont.com/magic-sound.font',\n  'theme': 'Cartoon',\n  'license': 'Free for personal use',\n  'supported_glyphs': 'à, €',\n  'thumbnail_image': '/img/preview/m/a/magic_sound0.png'},\n {'name': 'Giver Made',\n  'author': '177Studio',\n  'downloads': 19,\n  'link': 'https://www.dafont.com/giver-made.font',\n  'theme': 'Distorted',\n  'license': 'Free for personal use',\n  'supported_glyphs': 'à',\n  'thumbnail_image': '/img/preview/g/i/giver_made1.png'},\n {'name': 'Bright',\n  'author': 'Dharmas Studio',\n  'downloads': 689,\n  'link': 'https://www.dafont.com/bright-2.font',\n  'theme': 'Retro',\n  'license': 'Free for personal use',\n  'supported_glyphs': 'not provided: Message: Unable to locate element: div.lv1left > span.contain\\n',\n  'thumbnail_image': '/img/preview/b/r/bright_20.png'},\n {'name': 'Soopafresh',\n  'author': 'fuelfonts type foundry',\n  'downloads': 971,\n  'link': 'https://www.dafont.com/soopafresh.font',\n  'theme': 'Distorted',\n  'license': 'Shareware',\n  'supported_glyphs': 'à',\n  'thumbnail_image': '/img/preview/s/o/soopafresh0.png'},\n {'name': 'Blazed',\n  'author': 'Bright Ideas',\n  'downloads': 4,\n  'link': 'https://www.dafont.com/blazed.font',\n  'theme': 'Fire, Ice',\n  'license': 'not provided: Message: Unable to locate element: a.tdn.help.black\\n',\n  'supported_glyphs': 'à',\n  'thumbnail_image': '/img/preview/b/l/blazed0.png'},\n {'name': \"Mom's Typewriter\",\n  'author': 'Christoph Mueller',\n  'downloads': 2,\n  'link': 'https://www.dafont.com/moms-typewriter.font',\n  'theme': 'Typewriter',\n  'license': '100% Free',\n  'supported_glyphs': 'not provided: Message: Unable to locate element: div.lv1left > span.contain\\n',\n  'thumbnail_image': '/img/preview/m/o/moms_typewriter0.png'},\n {'name': 'Annabel',\n  'author': 'Peter Olexa',\n  'downloads': 655,\n  'link': 'https://www.dafont.com/annabel.font',\n  'theme': 'Retro',\n  'license': 'Free for personal use',\n  'supported_glyphs': 'not provided: Message: Unable to locate element: div.lv1left > span.contain\\n',\n  'thumbnail_image': '/img/preview/a/n/annabel1.png'},\n {'name': 'Hyper Super Fast',\n  'author': 'Bisou',\n  'downloads': 21,\n  'link': 'https://www.dafont.com/hypersuperfast.font',\n  'theme': 'Various',\n  'license': 'Donationware',\n  'supported_glyphs': 'à, €',\n  'thumbnail_image': '/img/preview/h/y/hypersuperfast1.png'},\n {'name': 'Super Summer',\n  'author': 'fsuarez913',\n  'downloads': 451,\n  'link': 'https://www.dafont.com/super-summer.font',\n  'theme': 'Groovy',\n  'license': 'Free for personal use',\n  'supported_glyphs': 'à, €',\n  'thumbnail_image': '/img/preview/s/u/super_summer0.png'},\n {'name': 'Magazine Letter',\n  'author': 'brentuserr',\n  'downloads': 168,\n  'link': 'https://www.dafont.com/magazine-letter.font',\n  'theme': 'Decorative',\n  'license': 'Free for personal use',\n  'supported_glyphs': 'not provided: Message: Unable to locate element: div.lv1left > span.contain\\n',\n  'thumbnail_image': '/img/preview/m/a/magazine_letter0.png'},\n {'name': 'Texas Tango',\n  'author': 'Billy Argel Fonts ®',\n  'downloads': 1,\n  'link': 'https://www.dafont.com/texas-tango.font',\n  'theme': 'Western',\n  'license': 'Free for personal use',\n  'supported_glyphs': 'à, €',\n  'thumbnail_image': '/img/preview/t/e/texas_tango0.png'}]"
     },
     "execution_count": 24,
     "metadata": {},
     "output_type": "execute_result"
    }
   ],
   "source": [
    "# 모은 데이터 확인\n",
    "fonts_info"
   ],
   "metadata": {
    "collapsed": false,
    "ExecuteTime": {
     "end_time": "2023-10-30T09:49:08.474441Z",
     "start_time": "2023-10-30T09:49:08.458060Z"
    }
   },
   "id": "b178d6cbb9eb0b18"
  },
  {
   "cell_type": "markdown",
   "source": [
    "### 데이터 저장\n",
    "모은 fonts_info 데이터를 txt, csv, xlsx 파일로 저장한다. save_path 변수는 어떤 디렉토리에 저장할지를 지정한다. (현재 디렉토리에 exported 폴더를 생성하는 것으로 되어 있다.) 만약 해당 디렉토리가 존재하지 않는다면 생성한다. file_name 변수는 어떤 파일 이름으로 저장할지를 지정한다."
   ],
   "metadata": {
    "collapsed": false
   },
   "id": "f6880d546efbe04a"
  },
  {
   "cell_type": "code",
   "execution_count": 34,
   "outputs": [],
   "source": [
    "# dataframe 생성\n",
    "df = pd.DataFrame(fonts_info)\n",
    "\n",
    "save_path = \"./exported/\"\n",
    "directory = os.path.dirname(save_path)\n",
    "if not os.path.exists(directory):\n",
    "    os.makedirs(directory)\n",
    "\n",
    "file_name = \"font_info\"\n",
    "\n",
    "# Export to txt (tab-separated)\n",
    "df.to_csv(save_path + file_name + \".txt\", sep='\\t', index=False)\n",
    "\n",
    "# Export to xlsx\n",
    "df.to_excel(save_path + file_name + \".xlsx\", index=False)\n",
    "\n",
    "# Export to csv\n",
    "df.to_csv(save_path + file_name + \".csv\", index=False)"
   ],
   "metadata": {
    "collapsed": false,
    "ExecuteTime": {
     "start_time": "2023-10-30T11:10:42.097866Z"
    }
   },
   "id": "958b872bde521cd7"
  }
 ],
 "metadata": {
  "kernelspec": {
   "display_name": "Python 3 (ipykernel)",
   "language": "python",
   "name": "python3"
  },
  "language_info": {
   "codemirror_mode": {
    "name": "ipython",
    "version": 3
   },
   "file_extension": ".py",
   "mimetype": "text/x-python",
   "name": "python",
   "nbconvert_exporter": "python",
   "pygments_lexer": "ipython3",
   "version": "3.11.4"
  }
 },
 "nbformat": 4,
 "nbformat_minor": 5
}
