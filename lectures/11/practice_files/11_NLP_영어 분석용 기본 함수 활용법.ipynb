{
 "cells": [
  {
   "cell_type": "markdown",
   "metadata": {},
   "source": [
    "# NLP(Natural Language Processing) - 영어 분석 (기본문법)"
   ]
  },
  {
   "cell_type": "markdown",
   "metadata": {},
   "source": [
    "<span style=\"color: red; font-size: 18pt\">\n",
    "1. nltk 모듈을 임포트 및 nltk.download( )메소드를 호출  \n",
    "</span>"
   ]
  },
  {
   "cell_type": "code",
   "execution_count": 1,
   "metadata": {
    "ExecuteTime": {
     "end_time": "2023-11-08T00:36:51.829734Z",
     "start_time": "2023-11-08T00:36:45.599145Z"
    }
   },
   "outputs": [
    {
     "name": "stdout",
     "output_type": "stream",
     "text": [
      "showing info https://raw.githubusercontent.com/nltk/nltk_data/gh-pages/index.xml\n"
     ]
    },
    {
     "data": {
      "text/plain": "True"
     },
     "execution_count": 1,
     "metadata": {},
     "output_type": "execute_result"
    }
   ],
   "source": [
    "#nltk : Natural Language Took Kit\n",
    "\n",
    "import nltk  \n",
    "nltk.download( )  "
   ]
  },
  {
   "cell_type": "code",
   "execution_count": 2,
   "metadata": {
    "ExecuteTime": {
     "end_time": "2023-11-08T00:36:56.217596Z",
     "start_time": "2023-11-08T00:36:56.199854Z"
    }
   },
   "outputs": [],
   "source": [
    "#type(nltk.download( ))  #nltk.download( ) 타입은 bool"
   ]
  },
  {
   "cell_type": "markdown",
   "metadata": {},
   "source": [
    "<span style=\"color: red; font-size: 18pt\">\n",
    "2. 문장 토큰화(tokenization) \n",
    "</span>"
   ]
  },
  {
   "cell_type": "markdown",
   "metadata": {},
   "source": [
    "<span style=\"color:#0000ff\">  \n",
    "영어는 다음과 같은 함수로 문장을 토큰화할 수 있다.  <br>  \n",
    "① nltk에서 제공하는 word_tokenize( )  <br> \n",
    "② nltk.tokenize에서 제공하는 WordPunctTokenizer.tokenize( )    <br> \n",
    "③ nltk.tokenize.regexp에서 제공하는 RegexpTokenizer.tokenize( )  <br> \n",
    "</span>"
   ]
  },
  {
   "cell_type": "code",
   "execution_count": 3,
   "metadata": {
    "ExecuteTime": {
     "end_time": "2023-11-08T00:36:58.090505Z",
     "start_time": "2023-11-08T00:36:58.078551Z"
    }
   },
   "outputs": [],
   "source": [
    "#문장 예시\n",
    "ex_sentence = '''I love apple, apple , and orange but hate cherry ,\n",
    "           I don't love mango '''"
   ]
  },
  {
   "cell_type": "code",
   "execution_count": 4,
   "metadata": {
    "ExecuteTime": {
     "end_time": "2023-11-08T00:36:58.557735Z",
     "start_time": "2023-11-08T00:36:58.537052Z"
    }
   },
   "outputs": [
    {
     "data": {
      "text/plain": "\"I love apple, apple , and orange but hate cherry ,\\n           I don't love mango \""
     },
     "execution_count": 4,
     "metadata": {},
     "output_type": "execute_result"
    }
   ],
   "source": [
    "ex_sentence"
   ]
  },
  {
   "cell_type": "markdown",
   "metadata": {},
   "source": [
    "<span style=\"color:blue; font-size: 14pt\">\n",
    "2.1. nltk에서 제공하는 word_tokenize( ) 사용하여 문장 토큰화하기\n",
    "</span>"
   ]
  },
  {
   "cell_type": "markdown",
   "metadata": {},
   "source": [
    "<span style=\"color:#0000ff\">  \n",
    "아래와 같이 nltk에서 제공하는 word_tokenize( ) 함수는 don't 가 'do', \"n't\" 으로 토큰화됨\n",
    "</span>    "
   ]
  },
  {
   "cell_type": "code",
   "execution_count": 5,
   "metadata": {
    "ExecuteTime": {
     "end_time": "2023-11-08T00:37:01.585622Z",
     "start_time": "2023-11-08T00:37:01.555427Z"
    }
   },
   "outputs": [
    {
     "name": "stdout",
     "output_type": "stream",
     "text": [
      "● 토큰화된 단어 \n",
      "['I', 'love', 'apple', ',', 'apple', ',', 'and', 'orange', 'but', 'hate', 'cherry', ',', 'I', 'do', \"n't\", 'love', 'mango']\n",
      "● 토큰화된 단어 개수 : 17\n"
     ]
    }
   ],
   "source": [
    "ex_token_1 = nltk.word_tokenize(ex_sentence)\n",
    "print(\"● 토큰화된 단어 \")\n",
    "print(ex_token_1)\n",
    "\n",
    "print(\"● 토큰화된 단어 개수 :\", len(ex_token_1))"
   ]
  },
  {
   "cell_type": "markdown",
   "metadata": {},
   "source": [
    "<span style=\"color:blue; font-size: 14pt\">\n",
    "2.2. nltk.tokenize에서 제공하는 WordPunctTokenizer.tokenize( ) 사용하여 문장 토큰화하기\n",
    "</span>"
   ]
  },
  {
   "cell_type": "markdown",
   "metadata": {},
   "source": [
    "<span style=\"color:#0000ff\">  \n",
    "아래와 같이 WordPunctTokenizer에서 제공하는 tokenize()를 사용하면 'don', \"'\" 과 같이 알파벳과 어포스트로피(apostrophe)로 토큰화됨\n",
    "</span>    "
   ]
  },
  {
   "cell_type": "code",
   "execution_count": 6,
   "metadata": {
    "ExecuteTime": {
     "end_time": "2023-11-08T00:37:13.543589Z",
     "start_time": "2023-11-08T00:37:13.525616Z"
    }
   },
   "outputs": [],
   "source": [
    "from nltk.tokenize  import WordPunctTokenizer\n",
    "\n",
    "tokenizer = WordPunctTokenizer( )"
   ]
  },
  {
   "cell_type": "code",
   "execution_count": 7,
   "metadata": {
    "ExecuteTime": {
     "end_time": "2023-11-08T00:37:14.947227Z",
     "start_time": "2023-11-08T00:37:14.933917Z"
    }
   },
   "outputs": [
    {
     "data": {
      "text/plain": "WordPunctTokenizer(pattern='\\\\w+|[^\\\\w\\\\s]+', gaps=False, discard_empty=True, flags=re.UNICODE|re.MULTILINE|re.DOTALL)"
     },
     "execution_count": 7,
     "metadata": {},
     "output_type": "execute_result"
    }
   ],
   "source": [
    "tokenizer"
   ]
  },
  {
   "cell_type": "code",
   "execution_count": 8,
   "metadata": {
    "ExecuteTime": {
     "end_time": "2023-11-08T00:37:16.144215Z",
     "start_time": "2023-11-08T00:37:16.123300Z"
    }
   },
   "outputs": [
    {
     "name": "stdout",
     "output_type": "stream",
     "text": [
      "● 토큰화된 단어 \n",
      "['I', 'love', 'apple', ',', 'apple', ',', 'and', 'orange', 'but', 'hate', 'cherry', ',', 'I', 'don', \"'\", 't', 'love', 'mango']\n",
      "● 토큰화된 단어 개수 : 18\n"
     ]
    }
   ],
   "source": [
    "ex_token_2 = tokenizer.tokenize(ex_sentence)\n",
    "print(\"● 토큰화된 단어 \")\n",
    "print(ex_token_2)\n",
    "\n",
    "print(\"● 토큰화된 단어 개수 :\", len(ex_token_2))"
   ]
  },
  {
   "cell_type": "markdown",
   "metadata": {},
   "source": [
    "<span style=\"color:blue; font-size: 14pt\">\n",
    "2.3. nltk.tokenize.regexp에서 제공하는 RegexpTokenizer.tokenize( ) 사용하여 문장 토큰화하기\n",
    "</span>"
   ]
  },
  {
   "cell_type": "markdown",
   "metadata": {},
   "source": [
    "<span style=\"color:#0000ff\">  \n",
    "아래와 같이  RegexpTokenizer에서 제공하는 tokenize()를 사용하면 \"don't\"로 토큰화됨  <br>\n",
    "RegexpTokenizer에서 제공하는 정규식 표현법 \"[\\w']+\" 를 사용  \n",
    "</span>  "
   ]
  },
  {
   "cell_type": "code",
   "execution_count": 9,
   "metadata": {
    "ExecuteTime": {
     "end_time": "2023-11-08T00:37:37.092285Z",
     "start_time": "2023-11-08T00:37:37.086697Z"
    }
   },
   "outputs": [],
   "source": [
    "from nltk.tokenize.regexp import RegexpTokenizer\n",
    "\n",
    "#\"[\\w']+\" 정규식 표현법으로 ' 를 만나면 '의 앞뒤 단어를 연결하고, 콤마(,)는 제외하고 파싱함\n",
    "tokenizer = RegexpTokenizer( \"[\\w']+\") "
   ]
  },
  {
   "cell_type": "code",
   "execution_count": 10,
   "metadata": {
    "ExecuteTime": {
     "end_time": "2023-11-08T00:37:38.151897Z",
     "start_time": "2023-11-08T00:37:38.136377Z"
    }
   },
   "outputs": [
    {
     "data": {
      "text/plain": "RegexpTokenizer(pattern=\"[\\\\w']+\", gaps=False, discard_empty=True, flags=re.UNICODE|re.MULTILINE|re.DOTALL)"
     },
     "execution_count": 10,
     "metadata": {},
     "output_type": "execute_result"
    }
   ],
   "source": [
    "tokenizer"
   ]
  },
  {
   "cell_type": "code",
   "execution_count": 11,
   "metadata": {
    "ExecuteTime": {
     "end_time": "2023-11-08T00:37:42.081375Z",
     "start_time": "2023-11-08T00:37:42.060553Z"
    }
   },
   "outputs": [
    {
     "name": "stdout",
     "output_type": "stream",
     "text": [
      "● 토큰화된 단어 \n",
      "['I', 'love', 'apple', 'apple', 'and', 'orange', 'but', 'hate', 'cherry', 'I', \"don't\", 'love', 'mango']\n",
      "● 정규표현법으로 토큰화된 단어 개수 : 13\n"
     ]
    }
   ],
   "source": [
    "ex_token_3 = tokenizer.tokenize(ex_sentence) #don't로 토큰화됨\n",
    "\n",
    "print(\"● 토큰화된 단어 \")\n",
    "print(ex_token_3)\n",
    "\n",
    "print(\"● 정규표현법으로 토큰화된 단어 개수 :\", len(ex_token_3))"
   ]
  },
  {
   "cell_type": "markdown",
   "metadata": {},
   "source": [
    "<span style=\"color: red; font-size: 18pt\">\n",
    "<참고>   토큰화된 단어 Tag 확인하기 \n",
    "</span> "
   ]
  },
  {
   "cell_type": "markdown",
   "metadata": {},
   "source": [
    "<span style=\"color:#0000ff\">  \n",
    "nltk는 Pennsylvania 대학교에서 구축한 Penn Treebank 기반으로 tagging 처리를 수행함\n",
    "</span>"
   ]
  },
  {
   "cell_type": "markdown",
   "metadata": {},
   "source": [
    "참고 사이트\n",
    "\n",
    "https://bluebreeze.co.kr/1357   "
   ]
  },
  {
   "cell_type": "code",
   "execution_count": 12,
   "metadata": {
    "ExecuteTime": {
     "end_time": "2023-11-08T00:37:47.934709Z",
     "start_time": "2023-11-08T00:37:47.881329Z"
    }
   },
   "outputs": [
    {
     "name": "stdout",
     "output_type": "stream",
     "text": [
      "['I', 'love', 'apple', 'apple', 'and', 'orange', 'but', 'hate', 'cherry', 'I', \"don't\", 'love', 'mango']\n"
     ]
    }
   ],
   "source": [
    "#정규표현법 RegexpTokenizer.tokenize( )방식을 사용한 예시\n",
    "\n",
    "print(ex_token_3)\n",
    "tagged = nltk.pos_tag(ex_token_3)  #토큰화되어있는 데이터를 태깅 처리"
   ]
  },
  {
   "cell_type": "code",
   "execution_count": 13,
   "metadata": {
    "ExecuteTime": {
     "end_time": "2023-11-08T00:37:48.699634Z",
     "start_time": "2023-11-08T00:37:48.684620Z"
    }
   },
   "outputs": [
    {
     "name": "stdout",
     "output_type": "stream",
     "text": [
      "[('I', 'PRP'), ('love', 'VBP'), ('apple', 'NN'), ('apple', 'NN'), ('and', 'CC'), ('orange', 'NN'), ('but', 'CC'), ('hate', 'NN'), ('cherry', 'NN'), ('I', 'PRP'), (\"don't\", 'VBP'), ('love', 'VB'), ('mango', 'NN')]\n",
      "<class 'list'>\n"
     ]
    }
   ],
   "source": [
    "print(tagged)\n",
    "print(type(tagged))"
   ]
  },
  {
   "cell_type": "code",
   "execution_count": 14,
   "metadata": {
    "ExecuteTime": {
     "end_time": "2023-11-08T00:37:49.548383Z",
     "start_time": "2023-11-08T00:37:49.535074Z"
    }
   },
   "outputs": [
    {
     "data": {
      "text/plain": "[('I', 'PRP'),\n ('love', 'VBP'),\n ('apple', 'NN'),\n ('apple', 'NN'),\n ('and', 'CC'),\n ('orange', 'NN')]"
     },
     "execution_count": 14,
     "metadata": {},
     "output_type": "execute_result"
    }
   ],
   "source": [
    "tagged[0:6]  #슬라이싱으로 간단히 확인"
   ]
  },
  {
   "cell_type": "code",
   "execution_count": 15,
   "metadata": {
    "ExecuteTime": {
     "end_time": "2023-11-08T00:37:50.393793Z",
     "start_time": "2023-11-08T00:37:50.373918Z"
    }
   },
   "outputs": [
    {
     "name": "stdout",
     "output_type": "stream",
     "text": [
      "('but', 'CC')\n"
     ]
    },
    {
     "data": {
      "text/plain": "tuple"
     },
     "execution_count": 15,
     "metadata": {},
     "output_type": "execute_result"
    }
   ],
   "source": [
    "print(tagged[6])\n",
    "type(tagged[6])"
   ]
  },
  {
   "cell_type": "markdown",
   "metadata": {},
   "source": [
    "<span style=\"color: red; font-size: 18pt\">\n",
    "3.  불용어 제거하기\n",
    "</span> "
   ]
  },
  {
   "cell_type": "markdown",
   "metadata": {},
   "source": [
    "<span style=\"color:blue; font-size: 14pt\">\n",
    "3.1. 기본적으로 제공되는 불용어 사전 함수 stopwords를 임포트하여 불용어 제거하기\n",
    "</span>"
   ]
  },
  {
   "cell_type": "code",
   "execution_count": 16,
   "metadata": {
    "ExecuteTime": {
     "end_time": "2023-11-08T00:37:54.142365Z",
     "start_time": "2023-11-08T00:37:54.119741Z"
    }
   },
   "outputs": [],
   "source": [
    "from nltk.corpus import stopwords  #stopwords는 기본적으로 제공되는 불용어 사전 함수\n",
    "\n",
    "#print(stopwords.words()) #기본적으로 제공되는 불용어 확인"
   ]
  },
  {
   "cell_type": "code",
   "execution_count": 17,
   "metadata": {
    "ExecuteTime": {
     "end_time": "2023-11-08T00:37:54.825296Z",
     "start_time": "2023-11-08T00:37:54.771265Z"
    }
   },
   "outputs": [
    {
     "name": "stdout",
     "output_type": "stream",
     "text": [
      "● 불용어 제거 전 : ['I', 'love', 'apple', 'apple', 'and', 'orange', 'but', 'hate', 'cherry', 'I', \"don't\", 'love', 'mango']\n",
      "● 불용어 제거 전 남은 단어 개수 : 13\n",
      "----------------------------------------------------------------------------------------------------\n",
      "● 불용어에 해당하는 단어 : ['and', 'but', \"don't\"]\n",
      "● 불용어 제거 후 남은 단어 : ['I', 'love', 'apple', 'apple', 'orange', 'hate', 'cherry', 'I', 'love', 'mango']\n",
      "● 불용어 제거 후 남은 단어 개수 : 10\n"
     ]
    }
   ],
   "source": [
    "#정규표현법 RegexpTokenizer.tokenize( )방식을 사용한 예시\n",
    "\n",
    "print(\"● 불용어 제거 전 :\", ex_token_3)\n",
    "print(\"● 불용어 제거 전 남은 단어 개수 :\", len(ex_token_3))\n",
    "print('-'*100)\n",
    "\n",
    "stop_1 = [ i for i in ex_token_3   #불용어에 해당하면 stop_1 리스트에 추가\n",
    "          if i in stopwords.words() ]\n",
    "\n",
    "result_1= [ j for j in ex_token_3  #불용어에 해당하지 않으면 result_1 리스트에 추가\n",
    "          if j not in stopwords.words() ]\n",
    "\n",
    "print(\"● 불용어에 해당하는 단어 :\", stop_1)\n",
    "print(\"● 불용어 제거 후 남은 단어 :\", result_1)\n",
    "print(\"● 불용어 제거 후 남은 단어 개수 :\", len(result_1))"
   ]
  },
  {
   "cell_type": "markdown",
   "metadata": {},
   "source": [
    "<span style=\"color:blue; font-size: 14pt\">\n",
    "3.2. 불용어 사전을 직접 만들어서 추가 불용어 제거\n",
    "</span>"
   ]
  },
  {
   "cell_type": "code",
   "execution_count": 37,
   "metadata": {
    "ExecuteTime": {
     "end_time": "2023-11-08T00:41:21.998076Z",
     "start_time": "2023-11-08T00:41:21.975015Z"
    }
   },
   "outputs": [
    {
     "name": "stdout",
     "output_type": "stream",
     "text": [
      "hate\n",
      "love\n"
     ]
    }
   ],
   "source": [
    "file_path = './stopword_list.txt'\n",
    "\n",
    "make_stopword = open(file_path).read()\n",
    "print(make_stopword)"
   ]
  },
  {
   "cell_type": "code",
   "execution_count": 38,
   "metadata": {
    "ExecuteTime": {
     "end_time": "2023-11-08T00:41:22.557930Z",
     "start_time": "2023-11-08T00:41:22.534995Z"
    }
   },
   "outputs": [
    {
     "name": "stdout",
     "output_type": "stream",
     "text": [
      "● 직접 만든 불용어 제거 전 : ['I', 'love', 'apple', 'apple', 'orange', 'hate', 'cherry', 'I', 'love', 'mango']\n",
      "● 직접 만든 불용어 제거 전 남은 단어 개수 : 10\n",
      "----------------------------------------------------------------------------------------------------\n",
      "● 직접 만든 불용어에 해당하는 단어 : ['love', 'hate', 'love']\n",
      "● 직접 만든 불용어 제거 후 남은 단어 :  ['I', 'apple', 'apple', 'orange', 'cherry', 'I', 'mango']\n",
      "● 직접 만든 불용어 제거 후 남은 단어 개수 : 7\n"
     ]
    }
   ],
   "source": [
    "print(\"● 직접 만든 불용어 제거 전 :\", result_1)\n",
    "print(\"● 직접 만든 불용어 제거 전 남은 단어 개수 :\", len(result_1))\n",
    "print('-'*100)\n",
    "\n",
    "stop_2 = [ stop_word for stop_word in result_1   #불용어에 해당하면 stop 리스트에 추가\n",
    "          if stop_word in make_stopword ]\n",
    "\n",
    "result_2= [ each_word for each_word in result_1  #불용어에 해당하지 않으면 result_1 리스트에 추가\n",
    "          if each_word not in make_stopword ]\n",
    "\n",
    "print(\"● 직접 만든 불용어에 해당하는 단어 :\", stop_2)\n",
    "print(\"● 직접 만든 불용어 제거 후 남은 단어 : \", result_2)\n",
    "print(\"● 직접 만든 불용어 제거 후 남은 단어 개수 :\", len(result_2))"
   ]
  },
  {
   "cell_type": "markdown",
   "metadata": {},
   "source": [
    "<span style=\"color:blue; font-size: 14pt\">\n",
    "3.3. 글자수로 불용어 제거\n",
    "</span>"
   ]
  },
  {
   "cell_type": "code",
   "execution_count": 39,
   "metadata": {
    "ExecuteTime": {
     "end_time": "2023-11-08T00:41:23.621922Z",
     "start_time": "2023-11-08T00:41:23.611318Z"
    }
   },
   "outputs": [
    {
     "name": "stdout",
     "output_type": "stream",
     "text": [
      "● 글자 수 제한으로 불용어 제거 전 : ['I', 'apple', 'apple', 'orange', 'cherry', 'I', 'mango']\n",
      "● 글자 수 제한으로 불용어 제거 전 남은 단어 개수 : 7\n",
      "----------------------------------------------------------------------------------------------------\n",
      "● 글자수 제한으로 불용어에 해당하는 단어 : I\n",
      "● 글자수 제한으로 불용어에 해당하는 단어 : I\n",
      "----------------------------------------------------------------------------------------------------\n",
      "● 글자수 제한으로 남은 단어 :  ['apple', 'apple', 'orange', 'cherry', 'mango']\n",
      "● 글자수 제한으로 남은 단어 개수 : 5\n"
     ]
    }
   ],
   "source": [
    "print(\"● 글자 수 제한으로 불용어 제거 전 :\", result_2)\n",
    "print(\"● 글자 수 제한으로 불용어 제거 전 남은 단어 개수 :\", len(result_2))\n",
    "print('-'*100)\n",
    "\n",
    "#글자 수가 2 이상이고, 10 이하인 글자만 추출     \n",
    "result_3 = []\n",
    "for i in result_2 :\n",
    "    if len(i) >= 2 and len(i) <= 10 :   \n",
    "        result_3.append(i) \n",
    "    else :\n",
    "        print(\"● 글자수 제한으로 불용어에 해당하는 단어 :\", i)    \n",
    "        \n",
    "print('-'*100)\n",
    "print(\"● 글자수 제한으로 남은 단어 : \", result_3)\n",
    "print(\"● 글자수 제한으로 남은 단어 개수 :\", len(result_3))"
   ]
  },
  {
   "cell_type": "markdown",
   "metadata": {},
   "source": [
    "<span style=\"color: red; font-size: 18pt\">\n",
    "4.  추출된 단어의 출력 빈도수 산출하기\n",
    "</span> "
   ]
  },
  {
   "cell_type": "code",
   "execution_count": 40,
   "metadata": {
    "ExecuteTime": {
     "end_time": "2023-11-08T00:41:25.047274Z",
     "start_time": "2023-11-08T00:41:25.033225Z"
    }
   },
   "outputs": [
    {
     "name": "stdout",
     "output_type": "stream",
     "text": [
      "Counter({'apple': 2, 'orange': 1, 'cherry': 1, 'mango': 1})\n",
      "<class 'collections.Counter'>\n"
     ]
    }
   ],
   "source": [
    "from collections import Counter\n",
    "\n",
    "freq_result = Counter(result_3) #단어별 빈도수 생성\n",
    "\n",
    "print(freq_result)\n",
    "print(type(freq_result))\n"
   ]
  },
  {
   "cell_type": "code",
   "execution_count": 41,
   "metadata": {
    "ExecuteTime": {
     "end_time": "2023-11-08T00:41:27.871020Z",
     "start_time": "2023-11-08T00:41:27.855522Z"
    }
   },
   "outputs": [
    {
     "name": "stdout",
     "output_type": "stream",
     "text": [
      "[('apple', 2), ('orange', 1), ('cherry', 1), ('mango', 1)]\n",
      "<class 'list'>\n"
     ]
    }
   ],
   "source": [
    "#'collections.Counter'타입 데이터를 most_common()함수로 내림차순 정렬 후 리스트 타입으로 받음\n",
    "\n",
    "li_desc_freq_result = freq_result.most_common() \n",
    "\n",
    "print(li_desc_freq_result)\n",
    "print(type(li_desc_freq_result))"
   ]
  },
  {
   "cell_type": "code",
   "execution_count": 42,
   "metadata": {
    "ExecuteTime": {
     "end_time": "2023-11-08T00:41:28.380950Z",
     "start_time": "2023-11-08T00:41:28.305272Z"
    }
   },
   "outputs": [
    {
     "name": "stdout",
     "output_type": "stream",
     "text": [
      "{'apple': 2, 'orange': 1, 'cherry': 1, 'mango': 1}\n",
      "<class 'dict'>\n"
     ]
    }
   ],
   "source": [
    "#nltk.probability에서 제공하는 FreqDist()를 활용하여 그래프 그리기위해서 딕셔너리 타입으로 변형\n",
    "\n",
    "dic_desc_freq_result = dict(li_desc_freq_result) \n",
    "print(dic_desc_freq_result)\n",
    "print(type(dic_desc_freq_result))"
   ]
  },
  {
   "cell_type": "markdown",
   "metadata": {},
   "source": [
    "<span style=\"color: red; font-size: 18pt\">\n",
    "5.  추출된 단어의 출력 빈도수를 그래프를 활용하여 시각화하기\n",
    "</span>   "
   ]
  },
  {
   "cell_type": "markdown",
   "metadata": {},
   "source": [
    "<span style=\"color:blue; font-size: 14pt\">\n",
    "5.1. 리스트 타입의 데이터를 기반으로 그래프 그리기 <br>             \n",
    "</span>  "
   ]
  },
  {
   "cell_type": "markdown",
   "metadata": {},
   "source": [
    "<span style=\"color:#0000ff\">  \n",
    "nltk.Text()를 활용하여 list 타입의 데이터를 plot()을 활용하여 그래프로 표현  \n",
    "</span>  "
   ]
  },
  {
   "cell_type": "code",
   "execution_count": 43,
   "metadata": {
    "ExecuteTime": {
     "end_time": "2023-11-08T00:41:30.358581Z",
     "start_time": "2023-11-08T00:41:30.339416Z"
    }
   },
   "outputs": [
    {
     "name": "stdout",
     "output_type": "stream",
     "text": [
      "['apple', 'apple', 'orange', 'cherry', 'mango']\n",
      "<class 'list'>\n",
      "----------------------------------------------------------------------------------------------------\n",
      "<Text: apple apple orange cherry mango...>\n",
      "<class 'nltk.text.Text'>\n"
     ]
    }
   ],
   "source": [
    "#글자 수 제한으로 불용어가 제거된 최종 리스트를 기반으로 그래프 그리기\n",
    "\n",
    "print(result_3)  #리스트 타입(글자수가 2이상 10이하인 결과 데이터)\n",
    "print(type(result_3))\n",
    "print('-'*100)\n",
    "\n",
    "text_graph = nltk.Text(result_3) #nltk.Text는 불용어가 제거된 list를 받음\n",
    "print(text_graph) \n",
    "print(type(text_graph)) "
   ]
  },
  {
   "cell_type": "markdown",
   "metadata": {},
   "source": [
    "<span style=\"color:#0000ff\">  \n",
    "plot(플롯)은 일반적으로 둘 이상의 변수 간의 관계를 나타내는 그래프로 데이터 세트를 나타내는 그래픽 기술 \n",
    "</span>  "
   ]
  },
  {
   "cell_type": "code",
   "execution_count": 44,
   "metadata": {
    "ExecuteTime": {
     "end_time": "2023-11-08T00:41:31.415954Z",
     "start_time": "2023-11-08T00:41:31.366656Z"
    }
   },
   "outputs": [
    {
     "data": {
      "text/plain": "<Figure size 640x480 with 1 Axes>",
      "image/png": "[encoded data removed]"
     },
     "metadata": {},
     "output_type": "display_data"
    },
    {
     "data": {
      "text/plain": "<Axes: xlabel='Samples', ylabel='Counts'>"
     },
     "execution_count": 44,
     "metadata": {},
     "output_type": "execute_result"
    }
   ],
   "source": [
    "#class 'nltk.text.Text인 타입의 데이터를 plot을 활용하여 그래프로 출력\n",
    "\n",
    "text_graph.plot(4)   "
   ]
  },
  {
   "cell_type": "markdown",
   "metadata": {},
   "source": [
    "<span style=\"color:blue; font-size: 14pt\">\n",
    "5.2. 딕셔너리 타입의 데이터를 기반으로 그래프 그리기   <br>  \n",
    "</span>  "
   ]
  },
  {
   "cell_type": "markdown",
   "metadata": {},
   "source": [
    "<span style=\"color:#0000ff\">  \n",
    "nltk.probability에서 제공하는 FreqDist()를 활용하여 딕셔너리 타입의 데이터를 plot()을 활용하여 그래프로 표현   \n",
    "</span>  "
   ]
  },
  {
   "cell_type": "code",
   "execution_count": 45,
   "metadata": {
    "scrolled": true,
    "ExecuteTime": {
     "end_time": "2023-11-08T00:41:33.305998Z",
     "start_time": "2023-11-08T00:41:33.294865Z"
    }
   },
   "outputs": [
    {
     "data": {
      "text/plain": "{'apple': 2, 'orange': 1, 'cherry': 1, 'mango': 1}"
     },
     "execution_count": 45,
     "metadata": {},
     "output_type": "execute_result"
    }
   ],
   "source": [
    "dic_desc_freq_result  #딕셔너리 타입"
   ]
  },
  {
   "cell_type": "markdown",
   "metadata": {},
   "source": [
    "<span style=\"color:#0000ff\">  \n",
    "matplotlib를 활용하여 그래프 출력   \n",
    "</span>  "
   ]
  },
  {
   "cell_type": "code",
   "execution_count": 46,
   "metadata": {
    "ExecuteTime": {
     "end_time": "2023-11-08T00:41:34.088154Z",
     "start_time": "2023-11-08T00:41:34.071770Z"
    }
   },
   "outputs": [],
   "source": [
    "import matplotlib\n",
    "import matplotlib.font_manager as fm   #한글 사용을 위해서 임포트\n",
    "import matplotlib.pyplot as plt  #그래프에서 title 출력을 위해서 \n",
    "\n",
    "# %matplotlib qt5 "
   ]
  },
  {
   "cell_type": "code",
   "execution_count": 47,
   "metadata": {
    "ExecuteTime": {
     "end_time": "2023-11-08T00:41:34.612281Z",
     "start_time": "2023-11-08T00:41:34.604807Z"
    }
   },
   "outputs": [],
   "source": [
    "font_location=\"./fonts/Pretendard-Regular.otf\"  #한글 폰트를 셋팅함\n",
    "\n",
    "font_name=fm.FontProperties(fname=font_location).get_name() \n",
    "\n",
    "matplotlib.rc('font',family=font_name) #한글 깨짐을 방지하기 위해서 반드시 해야할 부분"
   ]
  },
  {
   "cell_type": "code",
   "execution_count": 48,
   "metadata": {
    "ExecuteTime": {
     "end_time": "2023-11-08T00:41:35.396110Z",
     "start_time": "2023-11-08T00:41:35.350200Z"
    }
   },
   "outputs": [
    {
     "data": {
      "text/plain": "<Figure size 640x480 with 1 Axes>",
      "image/png": "[encoded data removed]"
     },
     "metadata": {},
     "output_type": "display_data"
    }
   ],
   "source": [
    "plt.title('단어별 빈도수 출력') #plot 그래프에서 제목에 해당하는 부분 출력 \n",
    "plt.show()"
   ]
  },
  {
   "cell_type": "code",
   "execution_count": 49,
   "metadata": {
    "ExecuteTime": {
     "end_time": "2023-11-08T00:41:36.313428Z",
     "start_time": "2023-11-08T00:41:36.297351Z"
    }
   },
   "outputs": [
    {
     "name": "stdout",
     "output_type": "stream",
     "text": [
      "<class 'nltk.probability.FreqDist'>\n"
     ]
    }
   ],
   "source": [
    "from nltk.probability import FreqDist\n",
    "\n",
    "#FreqDist(Frequency Distribution)\n",
    "final_graph = FreqDist(dic_desc_freq_result) #FreqDist()는 딕셔너리 타입의 데이터를 셋팅해야 함\n",
    "\n",
    "print(type(final_graph))\n"
   ]
  },
  {
   "cell_type": "code",
   "execution_count": 50,
   "metadata": {
    "scrolled": true,
    "ExecuteTime": {
     "end_time": "2023-11-08T00:41:37.085956Z",
     "start_time": "2023-11-08T00:41:37.044966Z"
    }
   },
   "outputs": [
    {
     "data": {
      "text/plain": "<Figure size 640x480 with 1 Axes>",
      "image/png": "[encoded data removed]"
     },
     "metadata": {},
     "output_type": "display_data"
    }
   ],
   "source": [
    "final_graph.plot(3)  #여기에서 (3)의 의미는 빈도수가 높은것부터 3개를 그래프에 출력하겠다는 뜻\n",
    "plt.show()  #<AxesSubplot:xlabel='Samples', ylabel='Counts'> 정보 출력이 안됨 "
   ]
  },
  {
   "cell_type": "code",
   "execution_count": 51,
   "metadata": {
    "ExecuteTime": {
     "end_time": "2023-11-08T00:41:43.464691Z",
     "start_time": "2023-11-08T00:41:43.416957Z"
    }
   },
   "outputs": [
    {
     "data": {
      "text/plain": "<Figure size 640x480 with 1 Axes>",
      "image/png": "[encoded data removed]"
     },
     "metadata": {},
     "output_type": "display_data"
    }
   ],
   "source": [
    "#제목을 포함한 최종 그래프 출력 \n",
    "plt.title('단어별 빈도수 출력') #plot 그래프에서 제목에 해당하는 부분 출력 \n",
    "final_graph.plot(3) \n",
    "plt.show() "
   ]
  },
  {
   "cell_type": "markdown",
   "metadata": {},
   "source": [
    "<span style=\"color: red; font-size: 18pt\">\n",
    "6.  추출된 단어의 빈도수를 워드클라우드를 활용하여 시각화하기 <br>\n",
    "</span>   "
   ]
  },
  {
   "cell_type": "markdown",
   "metadata": {},
   "source": [
    "<span style=\"color:#0000ff\">  \n",
    "딕셔너리 타입의 데이터 사용\n",
    "</span>  "
   ]
  },
  {
   "cell_type": "code",
   "execution_count": 52,
   "metadata": {
    "ExecuteTime": {
     "end_time": "2023-11-08T00:41:45.031013Z",
     "start_time": "2023-11-08T00:41:45.007757Z"
    }
   },
   "outputs": [
    {
     "data": {
      "text/plain": "{'apple': 2, 'orange': 1, 'cherry': 1, 'mango': 1}"
     },
     "execution_count": 52,
     "metadata": {},
     "output_type": "execute_result"
    }
   ],
   "source": [
    "dic_desc_freq_result"
   ]
  },
  {
   "cell_type": "code",
   "execution_count": 54,
   "metadata": {
    "ExecuteTime": {
     "end_time": "2023-11-08T00:41:57.685803Z",
     "start_time": "2023-11-08T00:41:57.641423Z"
    }
   },
   "outputs": [],
   "source": [
    "from wordcloud import WordCloud\n",
    "wordcloud_1 = WordCloud(font_path='./fonts/Pretendard-Regular.otf' ,\n",
    "                      relative_scaling = 0.5 ,\n",
    "                      background_color='#003333' ).generate_from_frequencies(dic_desc_freq_result) #딕셔너리 타입을 셋팅"
   ]
  },
  {
   "cell_type": "code",
   "execution_count": 55,
   "metadata": {
    "ExecuteTime": {
     "end_time": "2023-11-08T00:41:58.509342Z",
     "start_time": "2023-11-08T00:41:58.424414Z"
    }
   },
   "outputs": [
    {
     "data": {
      "text/plain": "<Figure size 1000x400 with 1 Axes>",
      "image/png": "[encoded data removed]"
     },
     "metadata": {},
     "output_type": "display_data"
    }
   ],
   "source": [
    "#import matplotlib.pyplot as plt 여기에서 plt 제공됨\n",
    "\n",
    "plt.figure(figsize=(10,4)) #가로 너비 10인치, 세로 높이 4인치 \n",
    "plt.axis('on') #또는 plt.axis('off')\n",
    "plt.title('워드클라우드 시각화')\n",
    "plt.imshow(wordcloud_1)\n",
    "plt.show()"
   ]
  },
  {
   "cell_type": "code",
   "execution_count": 56,
   "metadata": {
    "ExecuteTime": {
     "end_time": "2023-11-08T00:41:59.828551Z",
     "start_time": "2023-11-08T00:41:59.812800Z"
    }
   },
   "outputs": [
    {
     "data": {
      "text/plain": "{'apple': 2, 'orange': 1, 'cherry': 1, 'mango': 1}"
     },
     "execution_count": 56,
     "metadata": {},
     "output_type": "execute_result"
    }
   ],
   "source": [
    "dic_desc_freq_result"
   ]
  },
  {
   "cell_type": "code",
   "execution_count": 57,
   "metadata": {
    "ExecuteTime": {
     "end_time": "2023-11-08T00:42:02.075687Z",
     "start_time": "2023-11-08T00:42:02.062005Z"
    }
   },
   "outputs": [
    {
     "data": {
      "text/plain": "{'apple': 100, 'orange': 10, 'cherry': 1, 'mango': 1}"
     },
     "execution_count": 57,
     "metadata": {},
     "output_type": "execute_result"
    }
   ],
   "source": [
    "#참고\n",
    "dic_desc_freq_result.update(apple = 100)\n",
    "dic_desc_freq_result.update(orange = 10)\n",
    "dic_desc_freq_result"
   ]
  },
  {
   "cell_type": "code",
   "execution_count": 59,
   "metadata": {
    "ExecuteTime": {
     "end_time": "2023-11-08T00:42:29.514794Z",
     "start_time": "2023-11-08T00:42:29.414183Z"
    }
   },
   "outputs": [
    {
     "data": {
      "text/plain": "<Figure size 1000x400 with 1 Axes>",
      "image/png": "[encoded data removed]"
     },
     "metadata": {},
     "output_type": "display_data"
    }
   ],
   "source": [
    "wordcloud_2 = WordCloud(font_path='./fonts/Pretendard-Regular.otf' ,\n",
    "                      relative_scaling = 0.5 ,\n",
    "                      background_color='#990089').generate_from_frequencies(dic_desc_freq_result) #딕셔너리 타입을 셋팅\n",
    "\n",
    "plt.figure(figsize=(10,4)) #가로 너비 10인치, 세로 높이 4인치 \n",
    "plt.axis('off') #또는 plt.axis('on')\n",
    "plt.title('워드클라우드 시각화')\n",
    "plt.imshow(wordcloud_2)\n",
    "plt.show()"
   ]
  },
  {
   "cell_type": "markdown",
   "metadata": {},
   "source": [
    "# 딕셔너리 참고 문법"
   ]
  },
  {
   "cell_type": "code",
   "execution_count": 60,
   "metadata": {
    "ExecuteTime": {
     "end_time": "2023-11-08T00:42:30.946780Z",
     "start_time": "2023-11-08T00:42:30.929200Z"
    }
   },
   "outputs": [
    {
     "data": {
      "text/plain": "{'apple': 100, 'orange': 10, 'cherry': 1, 'mango': 1}"
     },
     "execution_count": 60,
     "metadata": {},
     "output_type": "execute_result"
    }
   ],
   "source": [
    "dic_desc_freq_result"
   ]
  },
  {
   "cell_type": "code",
   "execution_count": 61,
   "metadata": {
    "ExecuteTime": {
     "end_time": "2023-11-08T00:42:31.298498Z",
     "start_time": "2023-11-08T00:42:31.285403Z"
    }
   },
   "outputs": [
    {
     "data": {
      "text/plain": "dict_keys(['apple', 'orange', 'cherry', 'mango'])"
     },
     "execution_count": 61,
     "metadata": {},
     "output_type": "execute_result"
    }
   ],
   "source": [
    "#참고 - 딕셔너리 키 출력 \n",
    "dic_desc_freq_result.keys()"
   ]
  },
  {
   "cell_type": "code",
   "execution_count": 62,
   "metadata": {
    "ExecuteTime": {
     "end_time": "2023-11-08T00:42:31.579261Z",
     "start_time": "2023-11-08T00:42:31.565053Z"
    }
   },
   "outputs": [
    {
     "data": {
      "text/plain": "dict_values([100, 10, 1, 1])"
     },
     "execution_count": 62,
     "metadata": {},
     "output_type": "execute_result"
    }
   ],
   "source": [
    "#참고 - 딕셔너리 값 추력 \n",
    "dic_desc_freq_result.values()"
   ]
  },
  {
   "cell_type": "code",
   "execution_count": 63,
   "metadata": {
    "ExecuteTime": {
     "end_time": "2023-11-08T00:42:31.740076Z",
     "start_time": "2023-11-08T00:42:31.727730Z"
    }
   },
   "outputs": [
    {
     "name": "stdout",
     "output_type": "stream",
     "text": [
      "●  {'apple': 100, 'orange': 10, 'cherry': 1, 'mango': 1}\n",
      "----------------------------------------------------------------------------------------------------\n",
      "●  [('apple', 100), ('cherry', 1), ('mango', 1), ('orange', 10)]\n",
      "●  {'apple': 100, 'cherry': 1, 'mango': 1, 'orange': 10}\n"
     ]
    }
   ],
   "source": [
    "#딕셔너리 key를 기준으로 오름차순 정렬됨\n",
    "print(\"● \",dic_desc_freq_result)\n",
    "print('-'*100)\n",
    "\n",
    "a = sorted(dic_desc_freq_result.items()) #오름차순\n",
    "print(\"● \",a) #리스트 \n",
    "\n",
    "dic_a = dict(a) #딕셔너리로 변환 \n",
    "print(\"● \",dic_a)  #딕셔너리 "
   ]
  },
  {
   "cell_type": "code",
   "execution_count": 64,
   "metadata": {
    "ExecuteTime": {
     "end_time": "2023-11-08T00:42:32.300058Z",
     "start_time": "2023-11-08T00:42:32.287870Z"
    }
   },
   "outputs": [
    {
     "name": "stdout",
     "output_type": "stream",
     "text": [
      "●  {'apple': 100, 'orange': 10, 'cherry': 1, 'mango': 1}\n",
      "----------------------------------------------------------------------------------------------------\n",
      "●  [('orange', 10), ('mango', 1), ('cherry', 1), ('apple', 100)]\n",
      "●  {'orange': 10, 'mango': 1, 'cherry': 1, 'apple': 100}\n"
     ]
    }
   ],
   "source": [
    "#딕셔너리 key를 기준으로 내림차순 정렬됨\n",
    "print(\"● \",dic_desc_freq_result)\n",
    "print('-'*100)\n",
    "\n",
    "b = sorted(dic_desc_freq_result.items(), reverse=True) #reverse=True 내림차순\n",
    "print(\"● \",b) #리스트 \n",
    "\n",
    "dic_b = dict(b) #딕셔너리로 변환 \n",
    "print(\"● \",dic_b)  #딕셔너리 "
   ]
  },
  {
   "cell_type": "code",
   "execution_count": 65,
   "metadata": {
    "ExecuteTime": {
     "end_time": "2023-11-08T00:42:32.648271Z",
     "start_time": "2023-11-08T00:42:32.635093Z"
    }
   },
   "outputs": [
    {
     "name": "stdout",
     "output_type": "stream",
     "text": [
      "{'사과': 1, '바나나': 2, '오렌지': 3}\n"
     ]
    }
   ],
   "source": [
    "#딕셔너리 생성\n",
    "x = {'사과': 1, '바나나': 2, '오렌지':3}\n",
    "print(x)"
   ]
  },
  {
   "cell_type": "code",
   "execution_count": 66,
   "metadata": {
    "ExecuteTime": {
     "end_time": "2023-11-08T00:42:33.002460Z",
     "start_time": "2023-11-08T00:42:32.982029Z"
    }
   },
   "outputs": [
    {
     "name": "stdout",
     "output_type": "stream",
     "text": [
      "{'사과': 1, '바나나': 20, '오렌지': 3}\n"
     ]
    }
   ],
   "source": [
    "#딕셔너리 바나나 값을 20으로 변경\n",
    "x.update(바나나=20)\n",
    "print(x)\n",
    "결과값 : {'사과': 1, '바나나': 20, '오렌지': 3}"
   ]
  },
  {
   "cell_type": "code",
   "execution_count": 67,
   "metadata": {
    "ExecuteTime": {
     "end_time": "2023-11-08T00:42:33.604601Z",
     "start_time": "2023-11-08T00:42:33.592371Z"
    }
   },
   "outputs": [
    {
     "name": "stdout",
     "output_type": "stream",
     "text": [
      "{'사과': 1, '바나나': 20, '오렌지': 3, '망고': 50}\n"
     ]
    }
   ],
   "source": [
    "#딕셔너리에 없는 키(망고)를 지정한 후 값을 생성\n",
    "x.update(망고=50)\n",
    "print(x)"
   ]
  },
  {
   "cell_type": "code",
   "execution_count": 68,
   "metadata": {
    "ExecuteTime": {
     "end_time": "2023-11-08T00:42:33.894958Z",
     "start_time": "2023-11-08T00:42:33.878343Z"
    }
   },
   "outputs": [
    {
     "name": "stdout",
     "output_type": "stream",
     "text": [
      "{'사과': 1, '바나나': 20, '오렌지': 3, '망고': 50, '파인애플': 50}\n"
     ]
    }
   ],
   "source": [
    "#딕셔너리에 없는 키(파인애플)를 지정한 후 값을 생성\n",
    "x.update(파인애플=50)\n",
    "print(x)"
   ]
  },
  {
   "cell_type": "code",
   "execution_count": 69,
   "metadata": {
    "ExecuteTime": {
     "end_time": "2023-11-08T00:42:34.158175Z",
     "start_time": "2023-11-08T00:42:34.143569Z"
    }
   },
   "outputs": [
    {
     "name": "stdout",
     "output_type": "stream",
     "text": [
      "●  {'사과': 1, '바나나': 20, '오렌지': 3, '망고': 50, '파인애플': 50}\n",
      "----------------------------------------------------------------------------------------------------\n",
      "●  [('망고', 50), ('파인애플', 50), ('바나나', 20), ('오렌지', 3), ('사과', 1)]\n",
      "●  {'망고': 50, '파인애플': 50, '바나나': 20, '오렌지': 3, '사과': 1}\n"
     ]
    }
   ],
   "source": [
    "#딕셔너리 value를 기준으로 오름차순 정렬됨\n",
    "import operator\n",
    "\n",
    "print(\"● \", x)\n",
    "print('-'*100)\n",
    "\n",
    "#내림차순 정렬 sorted함수 옵션 중 reverse=True)\n",
    "sort_x1 = sorted(x.items(),key=operator.itemgetter(1), reverse=True)\n",
    "print(\"● \",  sort_x1)  #타입이 list로 변환됨\n",
    "\n",
    "dic_sort_x1 = dict(sort_x1) #딕셔너리로 변환 \n",
    "print(\"● \", dic_sort_x1 )  #딕셔너리 "
   ]
  },
  {
   "cell_type": "code",
   "execution_count": 70,
   "metadata": {
    "ExecuteTime": {
     "end_time": "2023-11-08T00:42:34.739791Z",
     "start_time": "2023-11-08T00:42:34.724372Z"
    }
   },
   "outputs": [
    {
     "name": "stdout",
     "output_type": "stream",
     "text": [
      "●  {'사과': 1, '바나나': 20, '오렌지': 3, '망고': 50, '파인애플': 50}\n",
      "----------------------------------------------------------------------------------------------------\n",
      "●  [('사과', 1), ('오렌지', 3), ('바나나', 20), ('망고', 50), ('파인애플', 50)]\n",
      "●  {'사과': 1, '오렌지': 3, '바나나': 20, '망고': 50, '파인애플': 50}\n"
     ]
    }
   ],
   "source": [
    "print(\"● \", x)\n",
    "print('-'*100)\n",
    "\n",
    "#오름차순 정렬 (sorted함수 옵션 중 reverse=False)\n",
    "sort_x2 = sorted(x.items(),key=operator.itemgetter(1), reverse=False)\n",
    "print(\"● \", sort_x2)  #타입이 list로 변환됨\n",
    "\n",
    "dic_sort_x2 = dict(sort_x2) #딕셔너리로 변환 \n",
    "print(\"● \", dic_sort_x2 )  #딕셔너리 "
   ]
  },
  {
   "cell_type": "code",
   "execution_count": null,
   "metadata": {},
   "outputs": [],
   "source": []
  },
  {
   "cell_type": "code",
   "execution_count": null,
   "metadata": {},
   "outputs": [],
   "source": []
  }
 ],
 "metadata": {
  "kernelspec": {
   "display_name": "Python 3 (ipykernel)",
   "language": "python",
   "name": "python3"
  },
  "language_info": {
   "codemirror_mode": {
    "name": "ipython",
    "version": 3
   },
   "file_extension": ".py",
   "mimetype": "text/x-python",
   "name": "python",
   "nbconvert_exporter": "python",
   "pygments_lexer": "ipython3",
   "version": "3.11.4"
  }
 },
 "nbformat": 4,
 "nbformat_minor": 2
}
