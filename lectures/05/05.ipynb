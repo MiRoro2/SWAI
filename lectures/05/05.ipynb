{
 "cells": [
  {
   "cell_type": "code",
   "execution_count": 16,
   "id": "initial_id",
   "metadata": {
    "collapsed": true,
    "ExecuteTime": {
     "end_time": "2023-09-13T02:06:42.732421500Z",
     "start_time": "2023-09-13T02:06:42.721886100Z"
    }
   },
   "outputs": [],
   "source": [
    "import os\n",
    "\n",
    "f = open('readme.txt', 'r', encoding=\"UTF-8\")"
   ]
  },
  {
   "cell_type": "code",
   "execution_count": 4,
   "outputs": [],
   "source": [
    "snack = f.readlines()"
   ],
   "metadata": {
    "collapsed": false,
    "ExecuteTime": {
     "end_time": "2023-09-13T00:53:54.753461800Z",
     "start_time": "2023-09-13T00:53:54.747350300Z"
    }
   },
   "id": "79c1626558ca971e"
  },
  {
   "cell_type": "code",
   "execution_count": 9,
   "outputs": [
    {
     "name": "stdout",
     "output_type": "stream",
     "text": [
      "1. 새우깡 2. 맛동산 3. 오레오 4. 치토스 "
     ]
    }
   ],
   "source": [
    "for i in snack:\n",
    "    print(i.split(\"\\n\")[0], end=\" \")"
   ],
   "metadata": {
    "collapsed": false,
    "ExecuteTime": {
     "end_time": "2023-09-13T00:54:55.916445300Z",
     "start_time": "2023-09-13T00:54:55.908189800Z"
    }
   },
   "id": "d846856d747f6877"
  },
  {
   "cell_type": "code",
   "execution_count": 20,
   "outputs": [],
   "source": [
    "import pandas as pd\n",
    "import openpyxl"
   ],
   "metadata": {
    "collapsed": false,
    "ExecuteTime": {
     "end_time": "2023-09-13T02:09:08.339815Z",
     "start_time": "2023-09-13T02:09:08.010619900Z"
    }
   },
   "id": "7ac8cf3805a18e58"
  },
  {
   "cell_type": "code",
   "execution_count": 11,
   "outputs": [
    {
     "name": "stdout",
     "output_type": "stream",
     "text": [
      "[100, 200, 300]\n"
     ]
    }
   ],
   "source": [
    "no = []\n",
    "no.append(100)\n",
    "no.append(200)\n",
    "no.append(300)\n",
    "print(no)"
   ],
   "metadata": {
    "collapsed": false,
    "ExecuteTime": {
     "end_time": "2023-09-13T02:02:16.949938100Z",
     "start_time": "2023-09-13T02:02:16.942652100Z"
    }
   },
   "id": "1ecb1a0fa55e135b"
  },
  {
   "cell_type": "code",
   "execution_count": 12,
   "outputs": [
    {
     "name": "stdout",
     "output_type": "stream",
     "text": [
      "['math', 'science', 'big_data']\n"
     ]
    }
   ],
   "source": [
    "subject_name = []\n",
    "subject_name.append(\"math\")\n",
    "subject_name.append(\"science\")\n",
    "subject_name.append(\"big_data\")\n",
    "print(subject_name)"
   ],
   "metadata": {
    "collapsed": false,
    "ExecuteTime": {
     "end_time": "2023-09-13T02:02:53.821472200Z",
     "start_time": "2023-09-13T02:02:53.815371300Z"
    }
   },
   "id": "f8cba5496163d02"
  },
  {
   "cell_type": "code",
   "execution_count": 13,
   "outputs": [
    {
     "name": "stdout",
     "output_type": "stream",
     "text": [
      "   과목코드       과목명\n",
      "0   100      math\n",
      "1   200   science\n",
      "2   300  big_data\n"
     ]
    }
   ],
   "source": [
    "table = pd.DataFrame()\n",
    "table[\"과목코드\"] = no\n",
    "table[\"과목명\"] = subject_name\n",
    "print(table)"
   ],
   "metadata": {
    "collapsed": false,
    "ExecuteTime": {
     "end_time": "2023-09-13T02:03:34.756230400Z",
     "start_time": "2023-09-13T02:03:34.735934Z"
    }
   },
   "id": "4682874bb1644964"
  },
  {
   "cell_type": "code",
   "execution_count": 17,
   "outputs": [],
   "source": [
    "os.makedirs(\"DATA\")"
   ],
   "metadata": {
    "collapsed": false,
    "ExecuteTime": {
     "end_time": "2023-09-13T02:06:45.958252800Z",
     "start_time": "2023-09-13T02:06:45.947771400Z"
    }
   },
   "id": "b273254e853baa84"
  },
  {
   "cell_type": "code",
   "execution_count": 18,
   "outputs": [],
   "source": [
    "table.to_csv(\"DATA/subject_False.csv\", encoding=\"utf-8-sig\", index=False)\n",
    "table.to_csv(\"DATA/subject_True.csv\", encoding=\"utf-8-sig\", index=True)"
   ],
   "metadata": {
    "collapsed": false,
    "ExecuteTime": {
     "end_time": "2023-09-13T02:06:46.870845Z",
     "start_time": "2023-09-13T02:06:46.861438600Z"
    }
   },
   "id": "6640689af6f9d30"
  },
  {
   "cell_type": "code",
   "execution_count": 21,
   "outputs": [],
   "source": [
    "table.to_excel(\"DATA/subject_False.xlsx\", sheet_name=\"Sheet1\", index=False)\n",
    "table.to_excel(\"DATA/subject_True.xlsx\", sheet_name=\"Sheet1\", index=True)"
   ],
   "metadata": {
    "collapsed": false,
    "ExecuteTime": {
     "end_time": "2023-09-13T02:09:10.478666700Z",
     "start_time": "2023-09-13T02:09:10.442035300Z"
    }
   },
   "id": "76f64ec6bf2e2167"
  },
  {
   "cell_type": "markdown",
   "source": [
    "# Processing with Given Data"
   ],
   "metadata": {
    "collapsed": false
   },
   "id": "1532c6fb56b3dca9"
  },
  {
   "cell_type": "code",
   "execution_count": 22,
   "outputs": [],
   "source": [
    "wb = openpyxl.load_workbook(\"people.xlsx\")"
   ],
   "metadata": {
    "collapsed": false,
    "ExecuteTime": {
     "end_time": "2023-09-13T02:11:16.711287200Z",
     "start_time": "2023-09-13T02:11:16.607954400Z"
    }
   },
   "id": "9976dd64330590fa"
  },
  {
   "cell_type": "code",
   "execution_count": 23,
   "outputs": [
    {
     "name": "stdout",
     "output_type": "stream",
     "text": [
      "연 Excel 파일의 Worksheet 이름:  <Worksheet \"Sheet1\">\n",
      "연 Excel 파일의 Worksheet에서의 마지막 데이터 행 번호 4\n"
     ]
    }
   ],
   "source": [
    "sheet = wb[\"Sheet1\"]\n",
    "print(\"연 Excel 파일의 Worksheet 이름: \", sheet)\n",
    "print(\"연 Excel 파일의 Worksheet에서의 마지막 데이터 행 번호\", sheet.max_row)"
   ],
   "metadata": {
    "collapsed": false,
    "ExecuteTime": {
     "end_time": "2023-09-13T02:13:31.172549Z",
     "start_time": "2023-09-13T02:13:31.164762900Z"
    }
   },
   "id": "9277beed745823ae"
  },
  {
   "cell_type": "code",
   "execution_count": 25,
   "outputs": [
    {
     "name": "stdout",
     "output_type": "stream",
     "text": [
      "전우치\n",
      "ccc@naver.com\n"
     ]
    }
   ],
   "source": [
    "a = sheet.cell(2, 2).value\n",
    "print(a)\n",
    "b = sheet.cell(4, 3).value\n",
    "print(b)\n"
   ],
   "metadata": {
    "collapsed": false,
    "ExecuteTime": {
     "end_time": "2023-09-13T02:14:22.221380700Z",
     "start_time": "2023-09-13T02:14:22.209094800Z"
    }
   },
   "id": "5a7e805a5acf4563"
  },
  {
   "cell_type": "code",
   "execution_count": null,
   "outputs": [],
   "source": [],
   "metadata": {
    "collapsed": false
   },
   "id": "9acad3e61f69253c"
  }
 ],
 "metadata": {
  "kernelspec": {
   "display_name": "Python 3",
   "language": "python",
   "name": "python3"
  },
  "language_info": {
   "codemirror_mode": {
    "name": "ipython",
    "version": 2
   },
   "file_extension": ".py",
   "mimetype": "text/x-python",
   "name": "python",
   "nbconvert_exporter": "python",
   "pygments_lexer": "ipython2",
   "version": "2.7.6"
  }
 },
 "nbformat": 4,
 "nbformat_minor": 5
}
