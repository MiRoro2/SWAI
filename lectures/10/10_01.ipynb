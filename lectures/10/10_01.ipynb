{
 "cells": [
  {
   "cell_type": "code",
   "execution_count": 2,
   "id": "initial_id",
   "metadata": {
    "collapsed": true,
    "ExecuteTime": {
     "end_time": "2023-11-01T00:52:04.706862Z",
     "start_time": "2023-11-01T00:52:04.683355Z"
    }
   },
   "outputs": [],
   "source": [
    "from konlpy.tag import *"
   ]
  },
  {
   "cell_type": "code",
   "execution_count": 6,
   "outputs": [],
   "source": [
    "okt = Okt()\n",
    "kkma = Kkma()"
   ],
   "metadata": {
    "collapsed": false,
    "ExecuteTime": {
     "end_time": "2023-11-01T00:54:10.967935Z",
     "start_time": "2023-11-01T00:54:10.963405Z"
    }
   },
   "id": "2c78d9e71ed90d1a"
  },
  {
   "cell_type": "code",
   "execution_count": 9,
   "outputs": [],
   "source": [
    "sentence_1 = \"이게 무슨 일이야 이렇게 좋은 날에\""
   ],
   "metadata": {
    "collapsed": false,
    "ExecuteTime": {
     "end_time": "2023-11-01T00:57:04.824178Z",
     "start_time": "2023-11-01T00:57:04.816941Z"
    }
   },
   "id": "f20c3e90fa1e4f70"
  },
  {
   "cell_type": "markdown",
   "source": [
    ".pos()는 품사별로 나누고, .nouns는 그 중 명사를, .morphs는 형태소별로 나누어 출력한다."
   ],
   "metadata": {
    "collapsed": false
   },
   "id": "6da9967eca04a0dc"
  },
  {
   "cell_type": "code",
   "execution_count": 11,
   "outputs": [
    {
     "data": {
      "text/plain": "[('이', 'Noun'),\n ('게', 'Josa'),\n ('무슨', 'Noun'),\n ('일이', 'Noun'),\n ('야', 'Josa'),\n ('이렇게', 'Adverb'),\n ('좋은', 'Adjective'),\n ('날', 'Noun'),\n ('에', 'Josa')]"
     },
     "execution_count": 11,
     "metadata": {},
     "output_type": "execute_result"
    }
   ],
   "source": [
    "# disassemble with okt.pos()\n",
    "\n",
    "sentence_1_okt_pos = okt.pos(sentence_1)\n",
    "sentence_1_okt_pos"
   ],
   "metadata": {
    "collapsed": false,
    "ExecuteTime": {
     "start_time": "2023-11-01T00:58:13.987625Z"
    }
   },
   "id": "c3959bbecb5c64c9"
  },
  {
   "cell_type": "code",
   "execution_count": 13,
   "outputs": [
    {
     "data": {
      "text/plain": "['이', '무슨', '일이', '날']"
     },
     "execution_count": 13,
     "metadata": {},
     "output_type": "execute_result"
    }
   ],
   "source": [
    "# Extract only nouns with okt\n",
    "\n",
    "okt.nouns(sentence_1)"
   ],
   "metadata": {
    "collapsed": false,
    "ExecuteTime": {
     "end_time": "2023-11-01T01:00:57.072286Z",
     "start_time": "2023-11-01T01:00:57.039778Z"
    }
   },
   "id": "4d3fedf0084c4dea"
  },
  {
   "cell_type": "code",
   "execution_count": 15,
   "outputs": [
    {
     "data": {
      "text/plain": "['이', '게', '무슨', '일이', '야', '이렇게', '좋은', '날', '에']"
     },
     "execution_count": 15,
     "metadata": {},
     "output_type": "execute_result"
    }
   ],
   "source": [
    "okt.morphs(sentence_1)"
   ],
   "metadata": {
    "collapsed": false,
    "ExecuteTime": {
     "end_time": "2023-11-01T01:47:03.109255Z",
     "start_time": "2023-11-01T01:47:03.096727Z"
    }
   },
   "id": "ac99c51f023dba4c"
  },
  {
   "cell_type": "code",
   "execution_count": 17,
   "outputs": [
    {
     "data": {
      "text/plain": "['무슨', '무슨 일이', '좋은 날', '일이']"
     },
     "execution_count": 17,
     "metadata": {},
     "output_type": "execute_result"
    }
   ],
   "source": [
    "# 구(phrase) 추출\n",
    "okt.phrases(sentence_1)"
   ],
   "metadata": {
    "collapsed": false,
    "ExecuteTime": {
     "end_time": "2023-11-01T01:49:48.543914Z",
     "start_time": "2023-11-01T01:49:48.500143Z"
    }
   },
   "id": "14425e642c581e64"
  },
  {
   "cell_type": "code",
   "execution_count": 35,
   "outputs": [
    {
     "data": {
      "text/plain": "'ㅐㅐㅐ'"
     },
     "execution_count": 35,
     "metadata": {},
     "output_type": "execute_result"
    }
   ],
   "source": [
    "# 교정(normalize)\n",
    "normalized = okt.normalize(\"ㅐㅐㅐ\")\n",
    "normalized"
   ],
   "metadata": {
    "collapsed": false,
    "ExecuteTime": {
     "end_time": "2023-11-01T01:55:27.723973Z",
     "start_time": "2023-11-01T01:55:27.713814Z"
    }
   },
   "id": "3197a430099c5bfe"
  },
  {
   "cell_type": "code",
   "execution_count": 12,
   "outputs": [
    {
     "data": {
      "text/plain": "[('이것', 'NP'),\n ('이', 'JKS'),\n ('무슨', 'MDT'),\n ('일', 'NNG'),\n ('이야', 'JX'),\n ('이렇', 'VA'),\n ('게', 'ECD'),\n ('좋', 'VA'),\n ('은', 'ETD'),\n ('날', 'NNG'),\n ('에', 'JKM')]"
     },
     "execution_count": 12,
     "metadata": {},
     "output_type": "execute_result"
    }
   ],
   "source": [
    "# disassemble with kkma.pos()\n",
    "\n",
    "sentence_1_kkma_pos = kkma.pos(sentence_1)\n",
    "sentence_1_kkma_pos"
   ],
   "metadata": {
    "collapsed": false,
    "ExecuteTime": {
     "end_time": "2023-11-01T00:58:31.707765Z",
     "start_time": "2023-11-01T00:58:29.512625Z"
    }
   },
   "id": "2847d0f5c76c10b3"
  },
  {
   "cell_type": "code",
   "execution_count": 14,
   "outputs": [
    {
     "data": {
      "text/plain": "['이것', '일', '날']"
     },
     "execution_count": 14,
     "metadata": {},
     "output_type": "execute_result"
    }
   ],
   "source": [
    "# Extract only nouns with kkma\n",
    "\n",
    "kkma.nouns(sentence_1)"
   ],
   "metadata": {
    "collapsed": false,
    "ExecuteTime": {
     "end_time": "2023-11-01T01:01:53.781516Z",
     "start_time": "2023-11-01T01:01:53.754725Z"
    }
   },
   "id": "ebc45d9c4206fb2b"
  },
  {
   "cell_type": "code",
   "execution_count": 16,
   "outputs": [
    {
     "data": {
      "text/plain": "['이것', '이', '무슨', '일', '이야', '이렇', '게', '좋', '은', '날', '에']"
     },
     "execution_count": 16,
     "metadata": {},
     "output_type": "execute_result"
    }
   ],
   "source": [
    "kkma.morphs(sentence_1)"
   ],
   "metadata": {
    "collapsed": false,
    "ExecuteTime": {
     "end_time": "2023-11-01T01:47:23.148846Z",
     "start_time": "2023-11-01T01:47:23.111181Z"
    }
   },
   "id": "da4e7cfa783423ac"
  },
  {
   "cell_type": "code",
   "execution_count": 45,
   "outputs": [
    {
     "data": {
      "text/plain": "['이동 메뉴를 사용하면 문서 폴더 또는 최근에 사용한 폴더와 같은 특정 폴더로 바로 이동할 수 있습니다',\n '폴더의 정확한 이름과 위치를 알고 있는 경우, 폴더의 경로 이름을 입력해도 해당 폴더를 열 수 있습니다']"
     },
     "execution_count": 45,
     "metadata": {},
     "output_type": "execute_result"
    }
   ],
   "source": [
    "kkma.sentences(\"이동 메뉴를 사용하면 문서 폴더 또는 최근에 사용한 폴더와 같은 특정 폴더로 바로 이동할 수 있습니다 폴더의 정확한 이름과 위치를 알고 있는 경우, 폴더의 경로 이름을 입력해도 해당 폴더를 열 수 있습니다\")"
   ],
   "metadata": {
    "collapsed": false,
    "ExecuteTime": {
     "end_time": "2023-11-01T01:59:35.886841Z",
     "start_time": "2023-11-01T01:59:35.858292Z"
    }
   },
   "id": "95cfb3b450eb1bcc"
  },
  {
   "cell_type": "code",
   "execution_count": null,
   "outputs": [],
   "source": [],
   "metadata": {
    "collapsed": false
   },
   "id": "74b1f44cf32be963"
  }
 ],
 "metadata": {
  "kernelspec": {
   "display_name": "Python 3",
   "language": "python",
   "name": "python3"
  },
  "language_info": {
   "codemirror_mode": {
    "name": "ipython",
    "version": 2
   },
   "file_extension": ".py",
   "mimetype": "text/x-python",
   "name": "python",
   "nbconvert_exporter": "python",
   "pygments_lexer": "ipython2",
   "version": "2.7.6"
  }
 },
 "nbformat": 4,
 "nbformat_minor": 5
}
