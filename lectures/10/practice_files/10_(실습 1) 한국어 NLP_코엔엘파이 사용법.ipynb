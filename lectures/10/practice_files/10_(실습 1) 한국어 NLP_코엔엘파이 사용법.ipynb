{
 "cells": [
  {
   "cell_type": "markdown",
   "metadata": {},
   "source": [
    "# NLP(Natural Language Processing) \n",
    "\n",
    "# Konlpy를 활용한 한국어 분석"
   ]
  },
  {
   "cell_type": "markdown",
   "metadata": {},
   "source": [
    "<span style=\"color: red; font-size: 18pt\">\n",
    "● konlpy.tag 모듈로부터 제공되는 Okt()와 Kkma() 함수를 활용하여 한국어 분석\n",
    "</span> \n"
   ]
  },
  {
   "cell_type": "markdown",
   "metadata": {},
   "source": [
    "<span style=\"color: red ; font-size: 18pt\">\n",
    "● Okt()와 Kkma() 함수 비교 \n",
    "</span>"
   ]
  },
  {
   "cell_type": "markdown",
   "metadata": {},
   "source": [
    "<span style=\"color: blue ; font-size: 14pt\">\n",
    "● Okt(Opensource Korean Text Processor)   \n",
    "</span>\n",
    "\n",
    "- 과거에는 Twitter( )함수였는데 Okt(Opensource Korean Text)로 이름이 바뀌었음   \n",
    "- 트위터에서 개발한 한국어 처리기에에서 파생된 오픈소스 한국어 처리기   \n",
    "- 간단한 한국어 처리를 통해 색인어을 추출하는 목표를 갖고 있기 때문에 완전한 수준의 형태소 분석 X   \n",
    "- 띄어쓰기가 어느 정도 되어있는 문장을 빠르게 분석할 때 사용 "
   ]
  },
  {
   "cell_type": "markdown",
   "metadata": {},
   "source": [
    "<span style=\"color: blue ; font-size: 14pt\">\n",
    "● Kkma 꼬꼬마\n",
    "</span>\n",
    "\n",
    "- Kkma 꼬꼬마 관련 문서 사이트   http://kkma.snu.ac.kr/   \n",
    "- 서울대학교 IDS(Intelligent Data Systems) http://ids.snu.ac.kr/site/  연구실에서 개발  \n",
    "- 꼬꼬마 프로젝트는 서울대학교 IDS(Intelligent Data Systems) 연구실에서 자연어 처리를 하기 위해서  \n",
    "  다양한 모듈 및 자료를 구축하기 위한 과제로 크게 '형태소 분석기 및 자연어 처리 모듈 개발' 부분과   \n",
    "  '세종 말뭉치 활용 시스템'으로 구분된다.  "
   ]
  },
  {
   "cell_type": "markdown",
   "metadata": {},
   "source": [
    "<span style=\"color: red ; font-size: 18pt\"> ● okt() & kkma()의 공통 함수 <br> </span>  \n",
    "\n",
    "<span style=\"color: red ; font-size: 16pt\"> 1. pos( ) </span>  : 입력한 문장에서 형태소와 품사 추출 (형태소와 품사가 튜플로 묶여서 리스트로 리턴)  \n",
    "\n",
    "<span style=\"color: blue ; font-size: 12pt\"> ▶ okt.pos()의 경우,  출력되는 품사는 다음과 같다.  <br>\n",
    "  Noun : 명사, Josa : 조사, Punctuation : 구두점, Adjective : 형용사, Verb : 동사 등등..  <br><br> </span>  \n",
    "  \n",
    "<span style=\"color: blue ; font-size: 12pt\"> ▶ kkma.pos()의 경우,  출력되는 품사는 다음과 같다.  <br>\n",
    "NP : 대명사, JX : 보조사, NNG : 보통명사, NNP: 고유명사, SP : 쉼표,가운뎃점,콜론,빗금, JKS : 주격조사,   \n",
    "VA : 형용사, VV : 동사, EFN : 평서형 종결 어미 등등..  </span>    \n",
    "---------------------------------------------------------------------------------------------------\n",
    "<span style=\"color: red ; font-size: 16pt\"> 2. nouns( ) </span>  : 입력한 문장에서 품사가 명사인 단어만 추출  (명사에 해당되는 단어를 모두 리스트로 리턴) \n",
    "\n",
    "<span style=\"color: blue ; font-size: 12pt\"> ▶ okt.nouns()의 경우, 중복되는 명사를 모두 리스트로 리턴  <br>\n",
    "  \n",
    "<span style=\"color: blue ; font-size: 12pt\"> ▶ kkma.nouns()의 경우, 중복되는 명사는 1번만 추출하여 리스트로 리턴 </span>    \n",
    "    \n",
    "---------------------------------------------------------------------------------------------------\n",
    "    \n",
    "<span style=\"color: red ; font-size: 16pt\"> 3. morphs( ) </span>  : 입력한 문장을 형태소 분리 (분리된 형태소가 리스트로 리턴)\n",
    "    \n",
    "<span style=\"color: blue ; font-size: 12pt\"> ▶ okt.morphs()의 경우, 입력된 문장 그대로 형태소가 분리된 후 리스트로 리턴 <br>\n",
    "\n",
    "<span style=\"color: blue ; font-size: 12pt\"> ▶ kkma.morphs()의 경우,\n",
    "    입력된 문장에 형태론이 적용되어 형태소가 분리된 후 리스트로 리턴  </span>    \n"
   ]
  },
  {
   "cell_type": "markdown",
   "metadata": {},
   "source": [
    "<span style=\"color: magenta ; font-size: 18pt\"> ● okt()에만 존재하는 함수 </span>  "
   ]
  },
  {
   "cell_type": "markdown",
   "metadata": {},
   "source": [
    "<span style=\"color: magenta ; font-size: 16pt\"> phrases( ) </span>  : 입력한 문장에서 어구 추출 (오늘 날씨가 좋아요 → ['오늘', '오늘 날씨', '날씨'])   \n",
    "\n",
    "\n",
    "<span style=\"color: magenta ; font-size: 16pt\"> normalize( ) </span>  : 입력한 문장 정규화 (정규화 이전 : 사랑햌ㅋㅋ  →  정규화 이후 : 사랑해 ㅋㅋ)  "
   ]
  },
  {
   "cell_type": "markdown",
   "metadata": {},
   "source": [
    "<span style=\"color: orange; font-size: 18pt\"> ● kkma()에만 존재하는 함수 </span>  "
   ]
  },
  {
   "cell_type": "markdown",
   "metadata": {},
   "source": [
    "<span style=\"color: orange ; font-size: 16pt\"> sentence( ) </span>  : 입력한 문장을 분리한 후 리스트로 리턴"
   ]
  },
  {
   "cell_type": "markdown",
   "metadata": {},
   "source": [
    "### ---------------------------------------------------------------------------------------------------------------------------------"
   ]
  },
  {
   "cell_type": "code",
   "execution_count": 1,
   "metadata": {
    "ExecuteTime": {
     "end_time": "2023-11-01T00:46:41.058389Z",
     "start_time": "2023-11-01T00:46:40.376533Z"
    }
   },
   "outputs": [],
   "source": [
    "from konlpy.tag import *        \n",
    "\n",
    "#konlpy.tag 에서 제공되는 함수 Okt(), Kkma( ) 호출 \n",
    "okt = Okt() \n",
    "kkma = Kkma()"
   ]
  },
  {
   "cell_type": "code",
   "execution_count": 2,
   "metadata": {
    "ExecuteTime": {
     "end_time": "2023-11-01T00:46:42.784835Z",
     "start_time": "2023-11-01T00:46:42.770050Z"
    }
   },
   "outputs": [
    {
     "data": {
      "text/plain": "<konlpy.tag._okt.Okt at 0x105d8d750>"
     },
     "execution_count": 2,
     "metadata": {},
     "output_type": "execute_result"
    }
   ],
   "source": [
    "okt"
   ]
  },
  {
   "cell_type": "code",
   "execution_count": 3,
   "metadata": {
    "ExecuteTime": {
     "end_time": "2023-11-01T00:46:43.828227Z",
     "start_time": "2023-11-01T00:46:43.812944Z"
    }
   },
   "outputs": [
    {
     "data": {
      "text/plain": "konlpy.tag._okt.Okt"
     },
     "execution_count": 3,
     "metadata": {},
     "output_type": "execute_result"
    }
   ],
   "source": [
    "type(okt)"
   ]
  },
  {
   "cell_type": "code",
   "execution_count": 4,
   "metadata": {},
   "outputs": [
    {
     "data": {
      "text/plain": [
       "<konlpy.tag._kkma.Kkma at 0x28ba95c8f50>"
      ]
     },
     "execution_count": 4,
     "metadata": {},
     "output_type": "execute_result"
    }
   ],
   "source": [
    "kkma"
   ]
  },
  {
   "cell_type": "code",
   "execution_count": 4,
   "metadata": {
    "ExecuteTime": {
     "end_time": "2023-11-01T00:46:45.879702Z",
     "start_time": "2023-11-01T00:46:45.858205Z"
    }
   },
   "outputs": [
    {
     "data": {
      "text/plain": "konlpy.tag._kkma.Kkma"
     },
     "execution_count": 4,
     "metadata": {},
     "output_type": "execute_result"
    }
   ],
   "source": [
    "type(kkma)"
   ]
  },
  {
   "cell_type": "markdown",
   "metadata": {},
   "source": [
    "### ---------------------------------------------------------------------------------------------------------------------------------"
   ]
  },
  {
   "cell_type": "markdown",
   "metadata": {},
   "source": [
    "<span style=\"color: red; font-size: 16pt\">\n",
    "1. pos() : 형태소와 품사 추출  (입력 인자는 string 타입, 리턴값은 list 타입)"
   ]
  },
  {
   "cell_type": "markdown",
   "metadata": {},
   "source": [
    "##  POS(Part Of Speech) 참고 사이트"
   ]
  },
  {
   "cell_type": "markdown",
   "metadata": {},
   "source": [
    "<span style=\"color:blue\">\n",
    "한글 형태소 품사 (POS; Part Of Speech) 엑셀 태그표\n",
    "    \n",
    "https://docs.google.com/spreadsheets/d/1OGAjUvalBuX-oZvZ_-9tEfYD2gQe7hTGsgUpiiBSXI8/edit#gid=0  \n",
    "    \n",
    "꼬꼬마 POS 참고사이트      \n",
    "http://kkma.snu.ac.kr/documents/?doc=postag     \n",
    "</span> "
   ]
  },
  {
   "cell_type": "markdown",
   "metadata": {},
   "source": [
    "<span style=\"color: red; font-size: 14pt\">\n",
    "1.1 okt.pos()를 활용하여 품사 정보 출력하기    \n",
    "</span> "
   ]
  },
  {
   "cell_type": "markdown",
   "metadata": {},
   "source": [
    "### <문장 1> 나는 나는 사과, 사과 , 복숭아, 복숭아가 좋아요"
   ]
  },
  {
   "cell_type": "code",
   "execution_count": 6,
   "metadata": {},
   "outputs": [
    {
     "name": "stdout",
     "output_type": "stream",
     "text": [
      "나는 나는 사과, 사과, 복숭아, 복숭아가 좋아요\n"
     ]
    }
   ],
   "source": [
    "sentence_1 = \"나는 나는 사과, 사과, 복숭아, 복숭아가 좋아요\"\n",
    "print(sentence_1)"
   ]
  },
  {
   "cell_type": "code",
   "execution_count": 7,
   "metadata": {},
   "outputs": [],
   "source": [
    "okt_pos = okt.pos(sentence_1)  "
   ]
  },
  {
   "cell_type": "code",
   "execution_count": 8,
   "metadata": {},
   "outputs": [
    {
     "data": {
      "text/plain": [
       "[('나', 'Noun'),\n",
       " ('는', 'Josa'),\n",
       " ('나', 'Noun'),\n",
       " ('는', 'Josa'),\n",
       " ('사과', 'Noun'),\n",
       " (',', 'Punctuation'),\n",
       " ('사과', 'Noun'),\n",
       " (',', 'Punctuation'),\n",
       " ('복숭아', 'Noun'),\n",
       " (',', 'Punctuation'),\n",
       " ('복숭아', 'Noun'),\n",
       " ('가', 'Josa'),\n",
       " ('좋아요', 'Adjective')]"
      ]
     },
     "execution_count": 8,
     "metadata": {},
     "output_type": "execute_result"
    }
   ],
   "source": [
    "okt_pos "
   ]
  },
  {
   "cell_type": "code",
   "execution_count": 9,
   "metadata": {},
   "outputs": [
    {
     "name": "stdout",
     "output_type": "stream",
     "text": [
      "[('나', 'Noun'), ('는', 'Josa'), ('나', 'Noun'), ('는', 'Josa'), ('사과', 'Noun'), (',', 'Punctuation'), ('사과', 'Noun'), (',', 'Punctuation'), ('복숭아', 'Noun'), (',', 'Punctuation'), ('복숭아', 'Noun'), ('가', 'Josa'), ('좋아요', 'Adjective')]\n",
      "==================================================\n",
      "<class 'list'>\n",
      "==================================================\n",
      "튜플의 개수 :  13\n"
     ]
    }
   ],
   "source": [
    "print(okt_pos)   #리스트 안에 튜플이 있는 구조 \n",
    "print('='*50)\n",
    "print(type(okt_pos))  #타입은 리스트\n",
    "print('='*50)\n",
    "print('튜플의 개수 : ', len(okt_pos))"
   ]
  },
  {
   "cell_type": "markdown",
   "metadata": {},
   "source": [
    "<span style=\"color: blue; font-size: 12pt\">\n",
    "okt.pos()의 경우, 출력되는 품사의 의미  <br>\n",
    "Noun : 명사, Josa : 조사, Punctuation : 구두점, Adjective : 형용사, Verb : 동사 등등..  \n",
    "</span> "
   ]
  },
  {
   "cell_type": "code",
   "execution_count": 10,
   "metadata": {},
   "outputs": [
    {
     "name": "stdout",
     "output_type": "stream",
     "text": [
      "● okt_pos[0] :  ('나', 'Noun')\n",
      "● type(okt_pos[0]) :  <class 'tuple'>\n"
     ]
    }
   ],
   "source": [
    "print(\"● okt_pos[0] : \",okt_pos[0])\n",
    "print(\"● type(okt_pos[0]) : \", type(okt_pos[0]))"
   ]
  },
  {
   "cell_type": "code",
   "execution_count": 11,
   "metadata": {},
   "outputs": [
    {
     "name": "stdout",
     "output_type": "stream",
     "text": [
      "■ okt_pos[0][0] :  나\n",
      "■ type(okt_pos[0][0]) :  <class 'str'>\n"
     ]
    }
   ],
   "source": [
    "print(\"■ okt_pos[0][0] : \", okt_pos[0][0])\n",
    "print(\"■ type(okt_pos[0][0]) : \", type(okt_pos[0][0]))"
   ]
  },
  {
   "cell_type": "code",
   "execution_count": 12,
   "metadata": {},
   "outputs": [
    {
     "name": "stdout",
     "output_type": "stream",
     "text": [
      "▣ okt_pos[0][1] :  Noun\n",
      "▣ type(okt_pos[0][1]) :  <class 'str'>\n"
     ]
    }
   ],
   "source": [
    "print(\"▣ okt_pos[0][1] : \", okt_pos[0][1])\n",
    "print(\"▣ type(okt_pos[0][1]) : \", type(okt_pos[0][1]))"
   ]
  },
  {
   "cell_type": "code",
   "execution_count": 13,
   "metadata": {},
   "outputs": [
    {
     "name": "stdout",
     "output_type": "stream",
     "text": [
      "[('나', 'Noun'), ('는', 'Josa'), ('나', 'Noun'), ('는', 'Josa'), ('사과', 'Noun'), (',', 'Punctuation'), ('사과', 'Noun'), (',', 'Punctuation'), ('복숭아', 'Noun'), (',', 'Punctuation'), ('복숭아', 'Noun'), ('가', 'Josa'), ('좋아요', 'Adjective')]\n"
     ]
    }
   ],
   "source": [
    "print(okt_pos)  #리스트 안에 튜플이 있는 구조 "
   ]
  },
  {
   "cell_type": "code",
   "execution_count": 14,
   "metadata": {},
   "outputs": [
    {
     "name": "stdout",
     "output_type": "stream",
     "text": [
      "● okt_pos[1] :  ('는', 'Josa')\n",
      "● type(okt_pos[1]) :  <class 'tuple'>\n"
     ]
    }
   ],
   "source": [
    "print(\"● okt_pos[1] : \", okt_pos[1])\n",
    "print(\"● type(okt_pos[1]) : \", type(okt_pos[1]))"
   ]
  },
  {
   "cell_type": "code",
   "execution_count": 15,
   "metadata": {},
   "outputs": [
    {
     "name": "stdout",
     "output_type": "stream",
     "text": [
      "■ okt_pos[1][0] :  는\n",
      "■ ype(okt_pos[1][0]) :  <class 'str'>\n"
     ]
    }
   ],
   "source": [
    "print(\"■ okt_pos[1][0] : \", okt_pos[1][0])\n",
    "print(\"■ ype(okt_pos[1][0]) : \", type(okt_pos[1][0]))"
   ]
  },
  {
   "cell_type": "code",
   "execution_count": 16,
   "metadata": {},
   "outputs": [
    {
     "name": "stdout",
     "output_type": "stream",
     "text": [
      "▣ okt_pos[1][1] :  Josa\n",
      "▣  type(okt_pos[1][1]) :  <class 'str'>\n"
     ]
    }
   ],
   "source": [
    "print(\"▣ okt_pos[1][1] : \", okt_pos[1][1])\n",
    "print(\"▣  type(okt_pos[1][1]) : \", type(okt_pos[1][1]))"
   ]
  },
  {
   "cell_type": "markdown",
   "metadata": {},
   "source": [
    "<span style=\"color: red; font-size: 14pt\">\n",
    "1.2   kkma.pos()를 활용하여 품사 정보 출력하기    \n",
    "</span> "
   ]
  },
  {
   "cell_type": "code",
   "execution_count": 17,
   "metadata": {},
   "outputs": [
    {
     "data": {
      "text/plain": [
       "'나는 나는 사과, 사과, 복숭아, 복숭아가 좋아요'"
      ]
     },
     "execution_count": 17,
     "metadata": {},
     "output_type": "execute_result"
    }
   ],
   "source": [
    "sentence_1"
   ]
  },
  {
   "cell_type": "code",
   "execution_count": 18,
   "metadata": {},
   "outputs": [],
   "source": [
    "kkma_pos = kkma.pos(sentence_1)"
   ]
  },
  {
   "cell_type": "code",
   "execution_count": 19,
   "metadata": {},
   "outputs": [
    {
     "data": {
      "text/plain": [
       "[('나', 'NP'),\n",
       " ('는', 'JX'),\n",
       " ('나', 'NP'),\n",
       " ('는', 'JX'),\n",
       " ('사과', 'NNG'),\n",
       " (',', 'SP'),\n",
       " ('사과', 'NNG'),\n",
       " (',', 'SP'),\n",
       " ('복숭아', 'NNG'),\n",
       " (',', 'SP'),\n",
       " ('복숭아', 'NNG'),\n",
       " ('가', 'JKS'),\n",
       " ('좋', 'VA'),\n",
       " ('아요', 'EFN')]"
      ]
     },
     "execution_count": 19,
     "metadata": {},
     "output_type": "execute_result"
    }
   ],
   "source": [
    "kkma_pos"
   ]
  },
  {
   "cell_type": "code",
   "execution_count": 20,
   "metadata": {},
   "outputs": [
    {
     "name": "stdout",
     "output_type": "stream",
     "text": [
      "[('나', 'NP'), ('는', 'JX'), ('나', 'NP'), ('는', 'JX'), ('사과', 'NNG'), (',', 'SP'), ('사과', 'NNG'), (',', 'SP'), ('복숭아', 'NNG'), (',', 'SP'), ('복숭아', 'NNG'), ('가', 'JKS'), ('좋', 'VA'), ('아요', 'EFN')]\n",
      "==================================================\n",
      "<class 'list'>\n",
      "==================================================\n",
      "튜플의 개수 :  14\n"
     ]
    }
   ],
   "source": [
    "print(kkma_pos)   #리스트 안에 튜플이 있는 구조 \n",
    "print('='*50)\n",
    "print(type(kkma_pos))  #타입은 리스트\n",
    "print('='*50)\n",
    "print('튜플의 개수 : ', len(kkma_pos))\n",
    "\n",
    "#kkma.pos()는 품사 구분이 더 구체적이며 '좋아요'가 '좋' 그리고'아요'로 파싱됨"
   ]
  },
  {
   "cell_type": "markdown",
   "metadata": {},
   "source": [
    "<span style=\"color: blue; font-size: 12pt\">\n",
    "kkma.pos()의 경우, 출력되는 품사의 의미 <br>\n",
    "NP : 대명사, JX : 보조사, NNG : 보통명사, NNP: 고유명사,   <br>\n",
    "SP : 쉼표,가운뎃점,콜론,빗금, JKS : 주격조사, VA : 형용사, VV : 동사, EFN : 평서형 종결 어미 등등..     \n",
    "</span> "
   ]
  },
  {
   "cell_type": "code",
   "execution_count": 21,
   "metadata": {},
   "outputs": [
    {
     "name": "stdout",
     "output_type": "stream",
     "text": [
      "● kkma_pos[0] :  ('나', 'NP')\n",
      "● type(kkma_pos[0]) :  <class 'tuple'>\n"
     ]
    }
   ],
   "source": [
    "print(\"● kkma_pos[0] : \",kkma_pos[0])\n",
    "print(\"● type(kkma_pos[0]) : \", type(kkma_pos[0]))"
   ]
  },
  {
   "cell_type": "code",
   "execution_count": 22,
   "metadata": {},
   "outputs": [
    {
     "name": "stdout",
     "output_type": "stream",
     "text": [
      "■ kkma_pos[0][0] :  나\n",
      "■ type(kkma_pos[0][0]) :  <class 'str'>\n"
     ]
    }
   ],
   "source": [
    "print(\"■ kkma_pos[0][0] : \", kkma_pos[0][0])\n",
    "print(\"■ type(kkma_pos[0][0]) : \", type(kkma_pos[0][0]))"
   ]
  },
  {
   "cell_type": "code",
   "execution_count": 23,
   "metadata": {},
   "outputs": [
    {
     "name": "stdout",
     "output_type": "stream",
     "text": [
      "▣ kkma_pos[0][1] :  NP\n",
      "▣ type(kkma_pos[0][1]) :  <class 'str'>\n"
     ]
    }
   ],
   "source": [
    "print(\"▣ kkma_pos[0][1] : \", kkma_pos[0][1])\n",
    "print(\"▣ type(kkma_pos[0][1]) : \", type(kkma_pos[0][1]))"
   ]
  },
  {
   "cell_type": "code",
   "execution_count": 24,
   "metadata": {},
   "outputs": [
    {
     "name": "stdout",
     "output_type": "stream",
     "text": [
      "[('나', 'NP'), ('는', 'JX'), ('나', 'NP'), ('는', 'JX'), ('사과', 'NNG'), (',', 'SP'), ('사과', 'NNG'), (',', 'SP'), ('복숭아', 'NNG'), (',', 'SP'), ('복숭아', 'NNG'), ('가', 'JKS'), ('좋', 'VA'), ('아요', 'EFN')]\n"
     ]
    }
   ],
   "source": [
    "print(kkma_pos)  #리스트 안에 튜플이 있는 구조 "
   ]
  },
  {
   "cell_type": "code",
   "execution_count": 25,
   "metadata": {},
   "outputs": [
    {
     "name": "stdout",
     "output_type": "stream",
     "text": [
      "● kkma_pos[1] :  ('는', 'JX')\n",
      "● type(kkma_pos[1]) :  <class 'tuple'>\n"
     ]
    }
   ],
   "source": [
    "print(\"● kkma_pos[1] : \", kkma_pos[1])\n",
    "print(\"● type(kkma_pos[1]) : \", type(kkma_pos[1]))"
   ]
  },
  {
   "cell_type": "code",
   "execution_count": 26,
   "metadata": {},
   "outputs": [
    {
     "name": "stdout",
     "output_type": "stream",
     "text": [
      "■ kkma_pos[1][0] :  는\n",
      "■ type(kkma_pos[1][0]) :  <class 'str'>\n"
     ]
    }
   ],
   "source": [
    "print(\"■ kkma_pos[1][0] : \", kkma_pos[1][0])\n",
    "print(\"■ type(kkma_pos[1][0]) : \", type(kkma_pos[1][0]))"
   ]
  },
  {
   "cell_type": "code",
   "execution_count": 27,
   "metadata": {},
   "outputs": [
    {
     "name": "stdout",
     "output_type": "stream",
     "text": [
      "▣ kkma_pos[1][1] :  JX\n",
      "▣ type(kkma_pos[1][1]) :  <class 'str'>\n"
     ]
    }
   ],
   "source": [
    "print(\"▣ kkma_pos[1][1] : \", kkma_pos[1][1])\n",
    "print(\"▣ type(kkma_pos[1][1]) : \", type(kkma_pos[1][1]))"
   ]
  },
  {
   "cell_type": "markdown",
   "metadata": {},
   "source": [
    "<span style=\"color: red; font-size: 14pt\">\n",
    "1.3  okt.pos()과 kkma.pos()의 비교 \n",
    "</span> "
   ]
  },
  {
   "cell_type": "code",
   "execution_count": 28,
   "metadata": {},
   "outputs": [
    {
     "data": {
      "text/plain": [
       "'나는 나는 사과, 사과, 복숭아, 복숭아가 좋아요'"
      ]
     },
     "execution_count": 28,
     "metadata": {},
     "output_type": "execute_result"
    }
   ],
   "source": [
    "sentence_1"
   ]
  },
  {
   "cell_type": "code",
   "execution_count": 29,
   "metadata": {},
   "outputs": [
    {
     "name": "stdout",
     "output_type": "stream",
     "text": [
      "● okt_pos : 튜플 개수 13 \n",
      " [('나', 'Noun'), ('는', 'Josa'), ('나', 'Noun'), ('는', 'Josa'), ('사과', 'Noun'), (',', 'Punctuation'), ('사과', 'Noun'), (',', 'Punctuation'), ('복숭아', 'Noun'), (',', 'Punctuation'), ('복숭아', 'Noun'), ('가', 'Josa'), ('좋아요', 'Adjective')]\n",
      "----------------------------------------------------------------------------------------------------\n",
      "● kkma_pos : 튜플 개수 14 \n",
      " [('나', 'NP'), ('는', 'JX'), ('나', 'NP'), ('는', 'JX'), ('사과', 'NNG'), (',', 'SP'), ('사과', 'NNG'), (',', 'SP'), ('복숭아', 'NNG'), (',', 'SP'), ('복숭아', 'NNG'), ('가', 'JKS'), ('좋', 'VA'), ('아요', 'EFN')]\n"
     ]
    }
   ],
   "source": [
    "#okt.pos()와 kkma.pos() 비교 \n",
    "print(\"● okt_pos : 튜플 개수\", len(okt_pos), \"\\n\" , okt_pos)\n",
    "print('-'*100)\n",
    "print(\"● kkma_pos : 튜플 개수\", len(kkma_pos), \"\\n\" , kkma_pos)"
   ]
  },
  {
   "cell_type": "markdown",
   "metadata": {},
   "source": [
    "### ---------------------------------------------------------------------------------------------------------------------------------"
   ]
  },
  {
   "cell_type": "markdown",
   "metadata": {},
   "source": [
    "<span style=\"color:red; font-size: 14pt\">\n",
    "2. nouns() : 품사가 명사인 단어만 추출 (입력 인자는 string 타입, 리턴값은 list 타입)\n",
    "</span> "
   ]
  },
  {
   "cell_type": "markdown",
   "metadata": {},
   "source": [
    "<span style=\"color: red; font-size: 14pt\">\n",
    "2.1   okt.nouns()의 경우\n",
    "</span> "
   ]
  },
  {
   "cell_type": "code",
   "execution_count": 30,
   "metadata": {},
   "outputs": [
    {
     "data": {
      "text/plain": [
       "'나는 나는 사과, 사과, 복숭아, 복숭아가 좋아요'"
      ]
     },
     "execution_count": 30,
     "metadata": {},
     "output_type": "execute_result"
    }
   ],
   "source": [
    "sentence_1"
   ]
  },
  {
   "cell_type": "code",
   "execution_count": 31,
   "metadata": {},
   "outputs": [
    {
     "name": "stdout",
     "output_type": "stream",
     "text": [
      "[('나', 'Noun'), ('는', 'Josa'), ('나', 'Noun'), ('는', 'Josa'), ('사과', 'Noun'), (',', 'Punctuation'), ('사과', 'Noun'), (',', 'Punctuation'), ('복숭아', 'Noun'), (',', 'Punctuation'), ('복숭아', 'Noun'), ('가', 'Josa'), ('좋아요', 'Adjective')]\n"
     ]
    }
   ],
   "source": [
    "print(okt.pos(sentence_1))"
   ]
  },
  {
   "cell_type": "code",
   "execution_count": 32,
   "metadata": {},
   "outputs": [
    {
     "data": {
      "text/plain": [
       "['나', '나', '사과', '사과', '복숭아', '복숭아']"
      ]
     },
     "execution_count": 32,
     "metadata": {},
     "output_type": "execute_result"
    }
   ],
   "source": [
    "okt.nouns(sentence_1) \n",
    "\n",
    "# ('나', 'Noun'),('사과', 'Noun'),('복숭아', 'Noun')  \n",
    "#'나', '사과', '복숭아' 를 명사(Noun)로 인식하고 있음 "
   ]
  },
  {
   "cell_type": "markdown",
   "metadata": {},
   "source": [
    "<span style=\"color: red; font-size: 14pt\">\n",
    "2.2    kkma.nouns()의 경우\n",
    "</span> "
   ]
  },
  {
   "cell_type": "code",
   "execution_count": 33,
   "metadata": {},
   "outputs": [
    {
     "name": "stdout",
     "output_type": "stream",
     "text": [
      "[('나', 'NP'), ('는', 'JX'), ('나', 'NP'), ('는', 'JX'), ('사과', 'NNG'), (',', 'SP'), ('사과', 'NNG'), (',', 'SP'), ('복숭아', 'NNG'), (',', 'SP'), ('복숭아', 'NNG'), ('가', 'JKS'), ('좋', 'VA'), ('아요', 'EFN')]\n"
     ]
    }
   ],
   "source": [
    "print(kkma.pos(sentence_1))"
   ]
  },
  {
   "cell_type": "markdown",
   "metadata": {},
   "source": [
    "kkma.pos()의 경우  \n",
    "NP : 대명사, JX : 보조사, NNG : 보통명사, NNP: 고유명사,  \n",
    "SP : 쉼표,가운뎃점,콜론,빗금, JKS : 주격조사, VA : 형용사, VV : 동사, EFN : 평서형 종결 어미 등등..     "
   ]
  },
  {
   "cell_type": "code",
   "execution_count": 34,
   "metadata": {
    "scrolled": true
   },
   "outputs": [
    {
     "data": {
      "text/plain": [
       "['나', '사과', '복숭아']"
      ]
     },
     "execution_count": 34,
     "metadata": {},
     "output_type": "execute_result"
    }
   ],
   "source": [
    "kkma.nouns(sentence_1)\n",
    "\n",
    "#kkma.nouns는 현재 문장에서 중복된 명사는 무시하고, 첫번째로 나오는 명사를 1번만 출력\n",
    "#('나', 'NP'), ('사과', 'NNG'), ('복숭아', 'NNG') \n",
    "#첫번째 '나'에서는 '나'를 대명사(NP)로 인식하고 명사(Noun)에 포함한다. "
   ]
  },
  {
   "cell_type": "markdown",
   "metadata": {},
   "source": [
    "<span style=\"color: red; font-size: 14pt\">\n",
    "2.3    okt.nouns()과 kkma.nouns()의 비교 \n",
    "</span> "
   ]
  },
  {
   "cell_type": "markdown",
   "metadata": {},
   "source": [
    "### <문장 2> 나는 코딩, 코딩 , 파이썬, 파이썬이 좋아요"
   ]
  },
  {
   "cell_type": "code",
   "execution_count": 35,
   "metadata": {},
   "outputs": [],
   "source": [
    "sentence_2 = \"나는 코딩, 코딩, 파이썬, 파이썬이 좋아요\""
   ]
  },
  {
   "cell_type": "code",
   "execution_count": 36,
   "metadata": {},
   "outputs": [
    {
     "name": "stdout",
     "output_type": "stream",
     "text": [
      "● okt.pos( )의 경우\n",
      "[('나', 'Noun'), ('는', 'Josa'), ('코딩', 'Noun'), (',', 'Punctuation'), ('코딩', 'Noun'), (',', 'Punctuation'), ('파이썬', 'Noun'), (',', 'Punctuation'), ('파이썬', 'Noun'), ('이', 'Josa'), ('좋아요', 'Adjective')]\n",
      "==================================================\n",
      "<class 'list'>\n",
      "==================================================\n",
      "튜플의 개수 :  11\n"
     ]
    }
   ],
   "source": [
    "okt_pos = okt.pos(sentence_2)\n",
    "\n",
    "print(\"● okt.pos( )의 경우\")\n",
    "print(okt_pos)   #리스트 안에 튜플이 있는 구조 \n",
    "print('='*50)\n",
    "print(type(okt_pos))  #타입은 리스트\n",
    "print('='*50)\n",
    "print('튜플의 개수 : ', len(okt_pos))\n"
   ]
  },
  {
   "cell_type": "markdown",
   "metadata": {},
   "source": [
    "### okt.nouns() 경우 "
   ]
  },
  {
   "cell_type": "code",
   "execution_count": 37,
   "metadata": {},
   "outputs": [
    {
     "name": "stdout",
     "output_type": "stream",
     "text": [
      "● okt.nouns( )의 경우\n",
      "['나', '코딩', '코딩', '파이썬', '파이썬']\n",
      "==================================================\n",
      "<class 'list'>\n"
     ]
    }
   ],
   "source": [
    "okt_nouns = okt.nouns(sentence_2)\n",
    "\n",
    "print(\"● okt.nouns( )의 경우\")\n",
    "print(okt_nouns)\n",
    "print('='*50)\n",
    "print(type(okt_nouns))\n",
    "\n",
    "#('나', 'Noun'),('코딩', 'Noun'),('코딩', 'Noun'),('파이썬', 'Noun'), ('파이썬', 'Noun')     \n",
    "# Noun 명사"
   ]
  },
  {
   "cell_type": "markdown",
   "metadata": {},
   "source": [
    "### kkma.nouns() 경우 "
   ]
  },
  {
   "cell_type": "code",
   "execution_count": 38,
   "metadata": {},
   "outputs": [
    {
     "name": "stdout",
     "output_type": "stream",
     "text": [
      "● okt.kkma( )의 경우\n",
      "[('나', 'VV'), ('는', 'ETD'), ('코딩', 'NNG'), (',', 'SP'), ('코딩', 'NNG'), (',', 'SP'), ('파이', 'NNG'), ('썰', 'VV'), ('ㄴ', 'ETD'), (',', 'SP'), ('파이', 'NNG'), ('썰', 'VV'), ('ㄴ', 'ETD'), ('이', 'MDT'), ('좋', 'VA'), ('아요', 'EFN')]\n",
      "==================================================\n",
      "<class 'list'>\n",
      "==================================================\n",
      "튜플의 개수 :  16\n"
     ]
    }
   ],
   "source": [
    "kkma_pos = kkma.pos(sentence_2)\n",
    "\n",
    "print(\"● okt.kkma( )의 경우\")\n",
    "print(kkma_pos)   #리스트 안에 튜플이 있는 구조 \n",
    "print('='*50)\n",
    "print(type(kkma_pos))  #타입은 리스트\n",
    "print('='*50)\n",
    "print('튜플의 개수 : ', len(kkma_pos))\n"
   ]
  },
  {
   "cell_type": "code",
   "execution_count": 39,
   "metadata": {},
   "outputs": [
    {
     "name": "stdout",
     "output_type": "stream",
     "text": [
      "● kkma.nouns( )의 경우\n",
      "['코딩', '파이']\n",
      "==================================================\n",
      "<class 'list'>\n"
     ]
    }
   ],
   "source": [
    "kkma_nouns = kkma.nouns(sentence_2)\n",
    "\n",
    "print(\"● kkma.nouns( )의 경우\")\n",
    "print(kkma_nouns)\n",
    "print('='*50)\n",
    "print(type(kkma_nouns))\n",
    "\n",
    "#('코딩', 'NNG'), ('파이', 'NNG') \n",
    "#'파이썬' 단어가 '('파이', 'NNG'), ('썰', 'VV'), ('ㄴ', 'ETD')으로 분리됨 \n",
    "# NNG 보통명사, VV 동사,  ETD 관형형 전성 어미 "
   ]
  },
  {
   "cell_type": "markdown",
   "metadata": {},
   "source": [
    "### ---------------------------------------------------------------------------------------------------------------------------------"
   ]
  },
  {
   "cell_type": "markdown",
   "metadata": {},
   "source": [
    "<span style=\"color: red; font-size: 14pt\">\n",
    "3. morphs() : 형태소 분리 (입력 인자는 string 타입, 리턴값은 list 타입)\n",
    "</span> "
   ]
  },
  {
   "cell_type": "markdown",
   "metadata": {},
   "source": [
    "<span style=\"color: red; font-size: 14pt\">\n",
    "3.1   okt.morphs() 경우\n",
    "</span> "
   ]
  },
  {
   "cell_type": "code",
   "execution_count": 40,
   "metadata": {},
   "outputs": [
    {
     "data": {
      "text/plain": [
       "'나는 나는 사과, 사과, 복숭아, 복숭아가 좋아요'"
      ]
     },
     "execution_count": 40,
     "metadata": {},
     "output_type": "execute_result"
    }
   ],
   "source": [
    "sentence_1"
   ]
  },
  {
   "cell_type": "code",
   "execution_count": 41,
   "metadata": {
    "scrolled": true
   },
   "outputs": [
    {
     "name": "stdout",
     "output_type": "stream",
     "text": [
      "나는 나는 사과, 사과, 복숭아, 복숭아가 좋아요\n",
      "================================================== \n",
      "\n",
      "● okt.pos( )의 경우 \n",
      "\n",
      "[('나', 'Noun'), ('는', 'Josa'), ('나', 'Noun'), ('는', 'Josa'), ('사과', 'Noun'), (',', 'Punctuation'), ('사과', 'Noun'), (',', 'Punctuation'), ('복숭아', 'Noun'), (',', 'Punctuation'), ('복숭아', 'Noun'), ('가', 'Josa'), ('좋아요', 'Adjective')]\n",
      "튜플 개수 :  13\n",
      "================================================== \n",
      "\n",
      "● okt.morphs( )의 경우 \n",
      "['나', '는', '나', '는', '사과', ',', '사과', ',', '복숭아', ',', '복숭아', '가', '좋아요']\n",
      "==================================================\n",
      "분리된 형태소 개수 :  13\n"
     ]
    }
   ],
   "source": [
    "okt_morphs = okt.morphs(sentence_1)  \n",
    "\n",
    "print(sentence_1)\n",
    "print('='*50, \"\\n\")\n",
    "\n",
    "print(\"● okt.pos( )의 경우 \\n\")\n",
    "print(okt.pos(sentence_1)) \n",
    "print(\"튜플 개수 : \", len(okt.pos(sentence_1)))\n",
    "print('='*50, \"\\n\")\n",
    "\n",
    "print(\"● okt.morphs( )의 경우 \")\n",
    "print(okt_morphs)\n",
    "print('='*50)\n",
    "print('분리된 형태소 개수 : ', len(okt_morphs))\n",
    "\n",
    "\n",
    "#okt.pos()의 경우, 출력되는 품사의 의미\n",
    "#Noun : 명사, Josa : 조사, Punctuation : 구두점, Adjective : 형용사, Verb : 동사 등등.."
   ]
  },
  {
   "cell_type": "markdown",
   "metadata": {},
   "source": [
    "### <문장 3> 나는 나는 블루베리가 맛있어요"
   ]
  },
  {
   "cell_type": "code",
   "execution_count": 42,
   "metadata": {},
   "outputs": [
    {
     "name": "stdout",
     "output_type": "stream",
     "text": [
      "나는 나는 블루베리가 맛있어요\n"
     ]
    }
   ],
   "source": [
    "sentence_3 = \"나는 나는 블루베리가 맛있어요\" \n",
    "print(sentence_3)"
   ]
  },
  {
   "cell_type": "code",
   "execution_count": 43,
   "metadata": {
    "scrolled": true
   },
   "outputs": [
    {
     "name": "stdout",
     "output_type": "stream",
     "text": [
      "나는 나는 블루베리가 맛있어요\n",
      "================================================== \n",
      "\n",
      "● okt.pos( )의 경우 \n",
      "\n",
      "[('나', 'Noun'), ('는', 'Josa'), ('나', 'Noun'), ('는', 'Josa'), ('블루베리', 'Noun'), ('가', 'Josa'), ('맛있어요', 'Adjective')]\n",
      "튜플 개수 :  7\n",
      "================================================== \n",
      "\n",
      "● okt.morphs( )의 경우 \n",
      "['나', '는', '나', '는', '블루베리', '가', '맛있어요']\n",
      "==================================================\n",
      "분리된 형태소 개수 :  7\n"
     ]
    }
   ],
   "source": [
    "okt_morphs = okt.morphs(sentence_3)  \n",
    "\n",
    "print(sentence_3)\n",
    "print('='*50, \"\\n\")\n",
    "\n",
    "print(\"● okt.pos( )의 경우 \\n\")\n",
    "print(okt.pos(sentence_3)) \n",
    "print(\"튜플 개수 : \", len(okt.pos(sentence_3)))\n",
    "print('='*50, \"\\n\")\n",
    "\n",
    "print(\"● okt.morphs( )의 경우 \")\n",
    "print(okt_morphs)\n",
    "print('='*50)\n",
    "print('분리된 형태소 개수 : ', len(okt_morphs))\n",
    "\n",
    "#okt.pos()의 경우, 출력되는 품사의 의미\n",
    "#Noun : 명사, Josa : 조사, Punctuation : 구두점, Adjective : 형용사, Verb : 동사 등등.."
   ]
  },
  {
   "cell_type": "markdown",
   "metadata": {},
   "source": [
    "<span style=\"color: red; font-size: 14pt\">\n",
    "3.2   kkma.morphs() 경우\n",
    "</span> "
   ]
  },
  {
   "cell_type": "code",
   "execution_count": 44,
   "metadata": {},
   "outputs": [
    {
     "name": "stdout",
     "output_type": "stream",
     "text": [
      "나는 나는 사과, 사과, 복숭아, 복숭아가 좋아요\n",
      "================================================== \n",
      "\n",
      "● kkma.pos( )의 경우 \n",
      "\n",
      "[('나', 'NP'), ('는', 'JX'), ('나', 'NP'), ('는', 'JX'), ('사과', 'NNG'), (',', 'SP'), ('사과', 'NNG'), (',', 'SP'), ('복숭아', 'NNG'), (',', 'SP'), ('복숭아', 'NNG'), ('가', 'JKS'), ('좋', 'VA'), ('아요', 'EFN')]\n",
      "튜플 개수 :  14\n",
      "================================================== \n",
      "\n",
      "● kkma.morphs( )의 경우 \n",
      "['나', '는', '나', '는', '사과', ',', '사과', ',', '복숭아', ',', '복숭아', '가', '좋', '아요']\n",
      "==================================================\n",
      "분리된 형태소 개수 :  14\n"
     ]
    }
   ],
   "source": [
    "kkma_morphs = kkma.morphs(sentence_1)  \n",
    "\n",
    "print(sentence_1)\n",
    "print('='*50, \"\\n\")\n",
    "\n",
    "print(\"● kkma.pos( )의 경우 \\n\")\n",
    "print(kkma.pos(sentence_1)) \n",
    "print(\"튜플 개수 : \", len(kkma.pos(sentence_1)))\n",
    "print('='*50, \"\\n\")\n",
    "\n",
    "print(\"● kkma.morphs( )의 경우 \")\n",
    "print(kkma_morphs)\n",
    "print('='*50)\n",
    "print('분리된 형태소 개수 : ', len(kkma_morphs))\n",
    "\n",
    "#'좋아요' 가 '좋' 그리고 '이요' 로 파싱됨\n",
    "\n",
    "#kkma.pos()의 경우, 출력되는 품사의 의미\n",
    "#NP : 대명사, JX : 보조사, NNG : 보통명사, NNP: 고유명사,\n",
    "#SP : 쉼표,가운뎃점,콜론,빗금, JKS : 주격조사, VA : 형용사, VV : 동사, EFN : 평서형 종결 어미 등등.."
   ]
  },
  {
   "cell_type": "code",
   "execution_count": 45,
   "metadata": {},
   "outputs": [
    {
     "name": "stdout",
     "output_type": "stream",
     "text": [
      "나는 나는 블루베리가 맛있어요\n",
      "================================================== \n",
      "\n",
      "● kkma.pos( )의 경우 \n",
      "\n",
      "[('나', 'NP'), ('는', 'JX'), ('나', 'NP'), ('는', 'JX'), ('블루', 'NNG'), ('베리', 'NNP'), ('가', 'JKS'), ('맛있', 'VA'), ('어요', 'EFN')]\n",
      "튜플 개수 :  9\n",
      "================================================== \n",
      "\n",
      "● kkma.morphs( )의 경우 \n",
      "['나', '는', '나', '는', '블루', '베리', '가', '맛있', '어요']\n",
      "==================================================\n",
      "분리된 형태소 개수 :  9\n"
     ]
    }
   ],
   "source": [
    "kkma_morphs = kkma.morphs(sentence_3)\n",
    "\n",
    "print(sentence_3)\n",
    "print('='*50, \"\\n\")\n",
    "\n",
    "print(\"● kkma.pos( )의 경우 \\n\")\n",
    "print(kkma.pos(sentence_3)) \n",
    "print(\"튜플 개수 : \", len(kkma.pos(sentence_3)))\n",
    "print('='*50, \"\\n\")\n",
    "\n",
    "print(\"● kkma.morphs( )의 경우 \")\n",
    "print(kkma_morphs)\n",
    "print('='*50)\n",
    "print('분리된 형태소 개수 : ', len(kkma_morphs))\n",
    "\n",
    "#'블루베리' 가 '블루' 그리고 '베리' 로 / '맛있어요'가 '맛있' 그리고 '어요'로 파싱됨\n",
    "\n",
    "#kkma.pos()의 경우, 출력되는 품사의 의미\n",
    "#NP : 대명사, JX : 보조사, NNG : 보통명사, NNP: 고유명사,\n",
    "#SP : 쉼표,가운뎃점,콜론,빗금, JKS : 주격조사, VA : 형용사, VV : 동사, EFN : 평서형 종결 어미 등등.."
   ]
  },
  {
   "cell_type": "markdown",
   "metadata": {},
   "source": [
    "### ---------------------------------------------------------------------------------------------------------------------------------"
   ]
  },
  {
   "cell_type": "markdown",
   "metadata": {},
   "source": [
    "<span style=\"color: magenta ; font-size: 18pt\"> ● okt()에만 존재하는 함수 </span>  "
   ]
  },
  {
   "cell_type": "markdown",
   "metadata": {},
   "source": [
    "<span style=\"color: magenta; font-size: 14pt\">\n",
    "okt.phrases() : 입력한 문장에서 어구 추출  (입력 인자는 string 타입, 리턴값은 list 타입)\n",
    "</span> "
   ]
  },
  {
   "cell_type": "code",
   "execution_count": 46,
   "metadata": {},
   "outputs": [
    {
     "name": "stdout",
     "output_type": "stream",
     "text": [
      "['오늘', '오늘 날씨', '날씨']\n",
      "<class 'list'>\n"
     ]
    }
   ],
   "source": [
    "okt_phrases = okt.phrases('오늘 날씨가 좋아요')\n",
    "print(okt_phrases)\n",
    "print(type(okt_phrases))"
   ]
  },
  {
   "cell_type": "code",
   "execution_count": 47,
   "metadata": {},
   "outputs": [
    {
     "name": "stdout",
     "output_type": "stream",
     "text": [
      "['날카로운 분석', '날카로운 분석과 신뢰감', '날카로운 분석과 신뢰감 있는 진행', '분석', '신뢰', '진행']\n",
      "<class 'list'>\n"
     ]
    }
   ],
   "source": [
    "phrases_result = okt.phrases('날카로운 분석과 신뢰감 있는 진행으로')  \n",
    "print(phrases_result)\n",
    "print(type(phrases_result))"
   ]
  },
  {
   "cell_type": "code",
   "execution_count": 48,
   "metadata": {
    "scrolled": true
   },
   "outputs": [
    {
     "name": "stdout",
     "output_type": "stream",
     "text": [
      "날카로운 분석\n",
      "<class 'str'>\n",
      "--------------------------------------------------\n",
      "날카로운 분석과 신뢰감\n",
      "<class 'str'>\n",
      "--------------------------------------------------\n",
      "날카로운 분석과 신뢰감 있는 진행\n",
      "<class 'str'>\n",
      "--------------------------------------------------\n",
      "분석\n",
      "<class 'str'>\n",
      "--------------------------------------------------\n",
      "신뢰\n",
      "<class 'str'>\n",
      "--------------------------------------------------\n",
      "진행\n",
      "<class 'str'>\n",
      "--------------------------------------------------\n"
     ]
    }
   ],
   "source": [
    "for i in phrases_result :\n",
    "    print(i)\n",
    "    print(type(i))\n",
    "    print('-'*50)"
   ]
  },
  {
   "cell_type": "markdown",
   "metadata": {},
   "source": [
    "<span style=\"color: magenta; font-size: 14pt\">\n",
    "okt.normalize() : 입력한 문장 정규화   (입력 인자는 string 타입, 리턴값은 str 타입)\n",
    "</span> "
   ]
  },
  {
   "cell_type": "code",
   "execution_count": 49,
   "metadata": {},
   "outputs": [
    {
     "name": "stdout",
     "output_type": "stream",
     "text": [
      "● 정규화 전 :  사랑햌ㅋㅋ\n",
      "--------------------------------------------------\n",
      "● 정규화 후 :  사랑해ㅋㅋ\n",
      "<class 'str'>\n"
     ]
    }
   ],
   "source": [
    "print('● 정규화 전 : ', '사랑햌ㅋㅋ')\n",
    "print('-' * 50)\n",
    "\n",
    "okt_normalize = okt.normalize('사랑햌ㅋㅋ')\n",
    "print('● 정규화 후 : ', okt_normalize)\n",
    "print(type(okt_normalize))"
   ]
  },
  {
   "cell_type": "code",
   "execution_count": 50,
   "metadata": {},
   "outputs": [
    {
     "name": "stdout",
     "output_type": "stream",
     "text": [
      "● 정규화 전 :  안녕하세욬ㅎㅎㅎㅎ 반가워요 샤릉해\n",
      "--------------------------------------------------\n",
      "● 정규화 후 :  안녕하세요ㅎㅎㅎ 반가워요 사랑해\n",
      "<class 'str'>\n"
     ]
    }
   ],
   "source": [
    "print('● 정규화 전 : ', '안녕하세욬ㅎㅎㅎㅎ 반가워요 샤릉해')\n",
    "print('-' * 50)\n",
    "\n",
    "okt_normalize = okt.normalize('안녕하세욬ㅎㅎㅎㅎ 반가워요 샤릉해')\n",
    "print('● 정규화 후 : ', okt_normalize)\n",
    "print(type(okt_normalize))"
   ]
  },
  {
   "cell_type": "markdown",
   "metadata": {},
   "source": [
    "<span style=\"color: orange ; font-size: 18pt\"> ● kkma()에만 존재하는 함수 </span>  "
   ]
  },
  {
   "cell_type": "markdown",
   "metadata": {},
   "source": [
    "<span style=\"color: orange; font-size: 14pt\">\n",
    "kkma.sentences() : 입력한 문장 분리  (입력 인자는 string 타입, 리턴값은 list 타입)\n",
    "</span> "
   ]
  },
  {
   "cell_type": "code",
   "execution_count": 51,
   "metadata": {},
   "outputs": [
    {
     "name": "stdout",
     "output_type": "stream",
     "text": [
      "나는 나는 사과, 사과, 복숭아, 복숭아가 좋아요\n",
      "나는 코딩, 코딩, 파이썬, 파이썬이 좋아요\n",
      "나는 나는 블루베리가 맛있어요\n"
     ]
    }
   ],
   "source": [
    "print(sentence_1)\n",
    "print(sentence_2)\n",
    "print(sentence_3)"
   ]
  },
  {
   "cell_type": "code",
   "execution_count": 52,
   "metadata": {},
   "outputs": [
    {
     "name": "stdout",
     "output_type": "stream",
     "text": [
      "나는 나는 사과, 사과, 복숭아, 복숭아가 좋아요나는 코딩, 코딩, 파이썬, 파이썬이 좋아요나는 나는 블루베리가 맛있어요\n",
      "<class 'str'>\n"
     ]
    }
   ],
   "source": [
    "sentence_123 = sentence_1 + sentence_2 + sentence_3\n",
    "print(sentence_123)\n",
    "print(type(sentence_123))"
   ]
  },
  {
   "cell_type": "code",
   "execution_count": 53,
   "metadata": {},
   "outputs": [
    {
     "name": "stdout",
     "output_type": "stream",
     "text": [
      "['나는 나는 사과, 사과, 복숭아, 복숭아가 좋아요', '나는 코딩, 코딩, 파이 썬, 파이 썬 이 좋아요', '나는 나는 블루 베리가 맛있어요']\n",
      "--------------------------------------------------\n",
      "<class 'list'>\n",
      "--------------------------------------------------\n",
      "분리된 개수 :  3\n"
     ]
    }
   ],
   "source": [
    "#kkma.sentences() 문장 출력 함수, 결과를 list 타입으로 반환 \n",
    "\n",
    "sentence_result = kkma.sentences(sentence_123)\n",
    "print(sentence_result)\n",
    "print('-' * 50)\n",
    "print(type(sentence_result))\n",
    "print('-' * 50)\n",
    "print(\"분리된 개수 : \",len(sentence_result))"
   ]
  },
  {
   "cell_type": "code",
   "execution_count": 54,
   "metadata": {},
   "outputs": [
    {
     "name": "stdout",
     "output_type": "stream",
     "text": [
      "나는 나는 사과, 사과, 복숭아, 복숭아가 좋아요\n",
      "<class 'str'>\n",
      "--------------------------------------------------\n",
      "나는 코딩, 코딩, 파이 썬, 파이 썬 이 좋아요\n",
      "<class 'str'>\n",
      "--------------------------------------------------\n",
      "나는 나는 블루 베리가 맛있어요\n",
      "<class 'str'>\n",
      "--------------------------------------------------\n"
     ]
    }
   ],
   "source": [
    "for i in sentence_result :\n",
    "    print(i)\n",
    "    print(type(i))\n",
    "    print('-'*50)"
   ]
  },
  {
   "cell_type": "code",
   "execution_count": null,
   "metadata": {},
   "outputs": [],
   "source": []
  }
 ],
 "metadata": {
  "kernelspec": {
   "display_name": "Python 3 (ipykernel)",
   "language": "python",
   "name": "python3"
  },
  "language_info": {
   "codemirror_mode": {
    "name": "ipython",
    "version": 3
   },
   "file_extension": ".py",
   "mimetype": "text/x-python",
   "name": "python",
   "nbconvert_exporter": "python",
   "pygments_lexer": "ipython3",
   "version": "3.11.4"
  }
 },
 "nbformat": 4,
 "nbformat_minor": 2
}
