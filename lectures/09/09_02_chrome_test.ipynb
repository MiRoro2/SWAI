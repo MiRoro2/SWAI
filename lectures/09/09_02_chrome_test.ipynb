{
 "cells": [
  {
   "cell_type": "code",
   "execution_count": 1,
   "outputs": [],
   "source": [
    "# webdriver setting\n",
    "from selenium import webdriver\n",
    "from webdriver_manager.chrome import ChromeDriverManager\n",
    "\n",
    "driver = webdriver.Chrome(ChromeDriverManager().install())\n",
    "\n",
    "# beautifulSoup, pandas setting\n",
    "from bs4 import BeautifulSoup\n",
    "import pandas as pd\n",
    "\n",
    "# os, time setting\n",
    "import os\n",
    "import time"
   ],
   "metadata": {
    "collapsed": false,
    "ExecuteTime": {
     "end_time": "2023-10-11T02:43:14.984596Z",
     "start_time": "2023-10-11T02:43:11.553876Z"
    }
   },
   "id": "39d54f0b54a6ae"
  },
  {
   "cell_type": "markdown",
   "source": [
    "# Setup Directory Name"
   ],
   "metadata": {
    "collapsed": false
   },
   "id": "d46405ca4abf2a65"
  },
  {
   "cell_type": "code",
   "execution_count": 2,
   "outputs": [
    {
     "name": "stdout",
     "output_type": "stream",
     "text": [
      "current dir :  /Users/leejeongwoo/PycharmProjects/SWAI/lectures/09/naver_blog_AI__20231011_113313\n"
     ]
    }
   ],
   "source": [
    "dirname_base = \"naver_blog_AI\"\n",
    "\n",
    "now = time.localtime()\n",
    "dirname_time = '%04d%02d%02d_%02d%02d%02d' %(now.tm_year, now.tm_mon, now.tm_mday, now.tm_hour, now.tm_min, now.tm_sec)\n",
    "\n",
    "dirname = dirname_base + \"__\" + dirname_time\n",
    "\n",
    "os.mkdir(dirname)\n",
    "os.chdir(dirname)\n",
    "print(\"current dir : \", os.getcwd())"
   ],
   "metadata": {
    "collapsed": false,
    "ExecuteTime": {
     "end_time": "2023-10-11T02:33:13.492791Z",
     "start_time": "2023-10-11T02:33:13.487106Z"
    }
   },
   "id": "e712dbd57fad68f6"
  },
  {
   "cell_type": "code",
   "execution_count": null,
   "outputs": [],
   "source": [],
   "metadata": {
    "collapsed": false
   },
   "id": "bf2d593f871824ea"
  }
 ],
 "metadata": {
  "kernelspec": {
   "display_name": "Python 3",
   "language": "python",
   "name": "python3"
  },
  "language_info": {
   "codemirror_mode": {
    "name": "ipython",
    "version": 2
   },
   "file_extension": ".py",
   "mimetype": "text/x-python",
   "name": "python",
   "nbconvert_exporter": "python",
   "pygments_lexer": "ipython2",
   "version": "2.7.6"
  }
 },
 "nbformat": 4,
 "nbformat_minor": 5
}
