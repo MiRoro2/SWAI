{
 "cells": [
  {
   "cell_type": "code",
   "execution_count": 2,
   "id": "initial_id",
   "metadata": {
    "collapsed": true,
    "ExecuteTime": {
     "end_time": "2023-09-06T01:01:13.977985600Z",
     "start_time": "2023-09-06T01:01:13.969137300Z"
    }
   },
   "outputs": [
    {
     "name": "stdout",
     "output_type": "stream",
     "text": [
      "3와 4의 더한 값은 7입니다\n"
     ]
    },
    {
     "data": {
      "text/plain": "'3와 4의 더한 값은 7입니다'"
     },
     "execution_count": 2,
     "metadata": {},
     "output_type": "execute_result"
    }
   ],
   "source": [
    "def p(x, y):\n",
    "    print(f\"{x}와 {y}의 더한 값은 {x + y}입니다\")\n",
    "    result = f\"{x}와 {y}의 더한 값은 {x + y}입니다\"\n",
    "    \n",
    "    return result\n",
    "\n",
    "p(3, 4)"
   ]
  },
  {
   "cell_type": "code",
   "execution_count": 3,
   "outputs": [],
   "source": [
    "def p(*x): # \n",
    "    summation = 0\n",
    "    for i in x:\n",
    "        summation += i\n",
    "        \n",
    "    return summation"
   ],
   "metadata": {
    "collapsed": false,
    "ExecuteTime": {
     "end_time": "2023-09-06T01:01:56.394547300Z",
     "start_time": "2023-09-06T01:01:56.388822Z"
    }
   },
   "id": "1150309e06bf16e"
  },
  {
   "cell_type": "code",
   "execution_count": 5,
   "outputs": [
    {
     "data": {
      "text/plain": "12"
     },
     "execution_count": 5,
     "metadata": {},
     "output_type": "execute_result"
    }
   ],
   "source": [
    "p(1, 4, 7)"
   ],
   "metadata": {
    "collapsed": false,
    "ExecuteTime": {
     "end_time": "2023-09-06T01:11:38.989735700Z",
     "start_time": "2023-09-06T01:11:38.955316100Z"
    }
   },
   "id": "399e8fd2234e8581"
  },
  {
   "cell_type": "code",
   "execution_count": null,
   "outputs": [],
   "source": [],
   "metadata": {
    "collapsed": false
   },
   "id": "8aab2f8d0c6f8e04"
  }
 ],
 "metadata": {
  "kernelspec": {
   "display_name": "Python 3",
   "language": "python",
   "name": "python3"
  },
  "language_info": {
   "codemirror_mode": {
    "name": "ipython",
    "version": 2
   },
   "file_extension": ".py",
   "mimetype": "text/x-python",
   "name": "python",
   "nbconvert_exporter": "python",
   "pygments_lexer": "ipython2",
   "version": "2.7.6"
  }
 },
 "nbformat": 4,
 "nbformat_minor": 5
}
