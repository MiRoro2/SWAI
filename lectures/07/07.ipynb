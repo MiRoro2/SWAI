{
 "cells": [
  {
   "cell_type": "code",
   "execution_count": 2,
   "id": "initial_id",
   "metadata": {
    "collapsed": true,
    "ExecuteTime": {
     "end_time": "2023-09-20T01:38:00.572483600Z",
     "start_time": "2023-09-20T01:38:00.538790100Z"
    }
   },
   "outputs": [],
   "source": [
    "from bs4 import BeautifulSoup"
   ]
  },
  {
   "cell_type": "code",
   "execution_count": 3,
   "outputs": [],
   "source": [
    "ex3 = '''\n",
    "<html lang=\"ko\">\n",
    "<head>\n",
    "<meta charset=\"utf-8\">\n",
    "<title> HTML 연습 </title>\n",
    "</head>\n",
    "<body>\n",
    "<h3> 학생 식단 </h3>\n",
    "<table border=\"1\">\n",
    "<caption> 개인별 식단표 </caption>\n",
    "<thead>\n",
    "<tr>\n",
    "<th> 번호 </th>\n",
    "<th> 이름 </th>\n",
    "<th> 신청 메뉴 </th>\n",
    "<th> 금액 </th>\n",
    "</tr>\n",
    "</thead>\n",
    "<tbody>\n",
    "<tr>\n",
    "<td> 001 </td>\n",
    "<td> 홍길동 </td>\n",
    "<td> 파스타 </td>\n",
    "<td> 10,000 원 </td>\n",
    "</tr>\n",
    "<tr>\n",
    "<td> 002 </td>\n",
    "<td> 이몽룡 </td>\n",
    "<td> 짜장면 </td>\n",
    "<td> 5,000 원 </td>\n",
    "</tr>\n",
    "<tr>\n",
    "<td> 003 </td>\n",
    "<td> 성춘향 </td>\n",
    "<td> 볶음밥 </td>\n",
    "<td> 8,000 원 </td>\n",
    "</tr>\n",
    "</tbody><tfoot>\n",
    "<tr>\n",
    "<th> 합계 </th>\n",
    "<th> 3명 </th>\n",
    "<th> </th>\n",
    "<th> 23,000 원 </th>\n",
    "</tr>\n",
    "</tfoot>\n",
    "</table>\n",
    "</body>\n",
    "</html\n",
    "'''"
   ],
   "metadata": {
    "collapsed": false,
    "ExecuteTime": {
     "end_time": "2023-09-20T01:38:31.531892800Z",
     "start_time": "2023-09-20T01:38:31.522715900Z"
    }
   },
   "id": "279b6335de38d863"
  },
  {
   "cell_type": "code",
   "execution_count": 5,
   "outputs": [],
   "source": [
    "soup = BeautifulSoup(ex3 , 'html.parser')"
   ],
   "metadata": {
    "collapsed": false,
    "ExecuteTime": {
     "end_time": "2023-09-20T01:38:44.307588300Z",
     "start_time": "2023-09-20T01:38:44.297491800Z"
    }
   },
   "id": "78ad1da2e5430630"
  },
  {
   "cell_type": "code",
   "execution_count": 6,
   "outputs": [],
   "source": [
    "# 태그명으로 찾기\n",
    "txt1 = soup.find_all('td')"
   ],
   "metadata": {
    "collapsed": false,
    "ExecuteTime": {
     "end_time": "2023-09-20T01:39:00.493256700Z",
     "start_time": "2023-09-20T01:39:00.459864300Z"
    }
   },
   "id": "37f6c5c8eb4575e7"
  },
  {
   "cell_type": "code",
   "execution_count": 8,
   "outputs": [
    {
     "data": {
      "text/plain": "[<td> 001 </td>,\n <td> 홍길동 </td>,\n <td> 파스타 </td>,\n <td> 10,000 원 </td>,\n <td> 002 </td>,\n <td> 이몽룡 </td>,\n <td> 짜장면 </td>,\n <td> 5,000 원 </td>,\n <td> 003 </td>,\n <td> 성춘향 </td>,\n <td> 볶음밥 </td>,\n <td> 8,000 원 </td>]"
     },
     "execution_count": 8,
     "metadata": {},
     "output_type": "execute_result"
    }
   ],
   "source": [
    "txt1"
   ],
   "metadata": {
    "collapsed": false,
    "ExecuteTime": {
     "end_time": "2023-09-20T01:39:15.873083100Z",
     "start_time": "2023-09-20T01:39:15.853878700Z"
    }
   },
   "id": "f8c8267f8f02e4cd"
  },
  {
   "cell_type": "code",
   "execution_count": 11,
   "outputs": [
    {
     "name": "stdout",
     "output_type": "stream",
     "text": [
      "<td> 001 </td>\n",
      " 001 \n",
      "<td> 홍길동 </td>\n",
      " 홍길동 \n",
      "<td> 파스타 </td>\n",
      " 파스타 \n",
      "<td> 10,000 원 </td>\n",
      " 10,000 원 \n",
      "<td> 002 </td>\n",
      " 002 \n",
      "<td> 이몽룡 </td>\n",
      " 이몽룡 \n",
      "<td> 짜장면 </td>\n",
      " 짜장면 \n",
      "<td> 5,000 원 </td>\n",
      " 5,000 원 \n",
      "<td> 003 </td>\n",
      " 003 \n",
      "<td> 성춘향 </td>\n",
      " 성춘향 \n",
      "<td> 볶음밥 </td>\n",
      " 볶음밥 \n",
      "<td> 8,000 원 </td>\n",
      " 8,000 원 \n"
     ]
    }
   ],
   "source": [
    "for tdtag in txt1:\n",
    "    print(tdtag)\n",
    "    print(tdtag.string) # .string이 안의 텍스트를 추출하는 역할을 한다."
   ],
   "metadata": {
    "collapsed": false,
    "ExecuteTime": {
     "end_time": "2023-09-20T01:40:08.672244500Z",
     "start_time": "2023-09-20T01:40:08.662865700Z"
    }
   },
   "id": "654aec4fc5d36657"
  },
  {
   "cell_type": "code",
   "execution_count": 13,
   "outputs": [],
   "source": [
    "txt2 = soup.find_all('tr') #<tr>하위 태그를 모두 찾는다."
   ],
   "metadata": {
    "collapsed": false,
    "ExecuteTime": {
     "end_time": "2023-09-20T01:41:02.721234800Z",
     "start_time": "2023-09-20T01:41:02.712669600Z"
    }
   },
   "id": "91cdefdd47db425c"
  },
  {
   "cell_type": "code",
   "execution_count": 14,
   "outputs": [
    {
     "data": {
      "text/plain": "[<tr>\n <th> 번호 </th>\n <th> 이름 </th>\n <th> 신청 메뉴 </th>\n <th> 금액 </th>\n </tr>,\n <tr>\n <td> 001 </td>\n <td> 홍길동 </td>\n <td> 파스타 </td>\n <td> 10,000 원 </td>\n </tr>,\n <tr>\n <td> 002 </td>\n <td> 이몽룡 </td>\n <td> 짜장면 </td>\n <td> 5,000 원 </td>\n </tr>,\n <tr>\n <td> 003 </td>\n <td> 성춘향 </td>\n <td> 볶음밥 </td>\n <td> 8,000 원 </td>\n </tr>,\n <tr>\n <th> 합계 </th>\n <th> 3명 </th>\n <th> </th>\n <th> 23,000 원 </th>\n </tr>]"
     },
     "execution_count": 14,
     "metadata": {},
     "output_type": "execute_result"
    }
   ],
   "source": [
    "txt2"
   ],
   "metadata": {
    "collapsed": false,
    "ExecuteTime": {
     "end_time": "2023-09-20T01:41:06.532621800Z",
     "start_time": "2023-09-20T01:41:06.525100400Z"
    }
   },
   "id": "388619fb6e7b4cff"
  },
  {
   "cell_type": "code",
   "execution_count": 16,
   "outputs": [
    {
     "name": "stdout",
     "output_type": "stream",
     "text": [
      "\n",
      " 번호 \n",
      " 이름 \n",
      " 신청 메뉴 \n",
      " 금액 \n",
      "\n",
      "\n",
      " 001 \n",
      " 홍길동 \n",
      " 파스타 \n",
      " 10,000 원 \n",
      "\n",
      "\n",
      " 002 \n",
      " 이몽룡 \n",
      " 짜장면 \n",
      " 5,000 원 \n",
      "\n",
      "\n",
      " 003 \n",
      " 성춘향 \n",
      " 볶음밥 \n",
      " 8,000 원 \n",
      "\n",
      "\n",
      " 합계 \n",
      " 3명 \n",
      " \n",
      " 23,000 원 \n",
      "\n"
     ]
    }
   ],
   "source": [
    "for tags in txt2:\n",
    "    print(tags.get_text()) # 하위 태그가 더 있을 경우 텍스트를 추출하고 싶을 때는 이렇게"
   ],
   "metadata": {
    "collapsed": false,
    "ExecuteTime": {
     "end_time": "2023-09-20T01:42:17.615171400Z",
     "start_time": "2023-09-20T01:42:17.605369300Z"
    }
   },
   "id": "50fa923f8b7b6670"
  },
  {
   "cell_type": "code",
   "execution_count": null,
   "outputs": [],
   "source": [],
   "metadata": {
    "collapsed": false
   },
   "id": "1f296041ab50b184"
  }
 ],
 "metadata": {
  "kernelspec": {
   "display_name": "Python 3",
   "language": "python",
   "name": "python3"
  },
  "language_info": {
   "codemirror_mode": {
    "name": "ipython",
    "version": 2
   },
   "file_extension": ".py",
   "mimetype": "text/x-python",
   "name": "python",
   "nbconvert_exporter": "python",
   "pygments_lexer": "ipython2",
   "version": "2.7.6"
  }
 },
 "nbformat": 4,
 "nbformat_minor": 5
}
