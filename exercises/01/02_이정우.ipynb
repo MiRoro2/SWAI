{
 "cells": [
  {
   "cell_type": "code",
   "execution_count": 2,
   "id": "initial_id",
   "metadata": {
    "collapsed": true,
    "ExecuteTime": {
     "end_time": "2023-08-30T01:22:16.596678300Z",
     "start_time": "2023-08-30T01:22:05.338044900Z"
    }
   },
   "outputs": [
    {
     "name": "stdout",
     "output_type": "stream",
     "text": [
      "첫 번째 주문하신 음식은 짜장면이고 두 번째 주문하신 음식은 짬뽕입니다.\n"
     ]
    }
   ],
   "source": [
    "answer1 = input(\"첫 번째 주문하실 음식은 무엇인가요?: \")\n",
    "answer2 = input(\"두 번째 주문하실 음식은 무엇인가요?: \")\n",
    "\n",
    "print(f\"첫 번째 주문하신 음식은 {answer1}이고 두 번째 주문하신 음식은 {answer2}입니다.\")"
   ]
  },
  {
   "cell_type": "markdown",
   "source": [],
   "metadata": {
    "collapsed": false
   },
   "id": "b31424b7c972bc37"
  },
  {
   "cell_type": "code",
   "execution_count": null,
   "outputs": [],
   "source": [],
   "metadata": {
    "collapsed": false
   },
   "id": "7d12c8fef0ca5caa"
  }
 ],
 "metadata": {
  "kernelspec": {
   "display_name": "Python 3",
   "language": "python",
   "name": "python3"
  },
  "language_info": {
   "codemirror_mode": {
    "name": "ipython",
    "version": 2
   },
   "file_extension": ".py",
   "mimetype": "text/x-python",
   "name": "python",
   "nbconvert_exporter": "python",
   "pygments_lexer": "ipython2",
   "version": "2.7.6"
  }
 },
 "nbformat": 4,
 "nbformat_minor": 5
}
