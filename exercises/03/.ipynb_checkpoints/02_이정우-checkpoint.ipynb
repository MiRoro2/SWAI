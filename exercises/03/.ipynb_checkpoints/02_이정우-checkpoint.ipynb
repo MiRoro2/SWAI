{
 "cells": [
  {
   "cell_type": "code",
   "execution_count": 2,
   "id": "initial_id",
   "metadata": {
    "ExecuteTime": {
     "end_time": "2023-09-06T02:16:13.760648200Z",
     "start_time": "2023-09-06T02:16:13.736368900Z"
    }
   },
   "outputs": [],
   "source": [
    "menu = {\n",
    "    \"짜장면\" : 2000,\n",
    "    \"짬뽕\" : 6000,\n",
    "    \"군만두\" : 8000,\n",
    "    \"탕수육\" : 10000\n",
    "}"
   ]
  },
  {
   "cell_type": "code",
   "execution_count": 3,
   "id": "ba127dae81e219b8",
   "metadata": {
    "ExecuteTime": {
     "end_time": "2023-09-06T02:16:13.785797Z",
     "start_time": "2023-09-06T02:16:13.741353Z"
    }
   },
   "outputs": [],
   "source": [
    "def print_menu(menu):\n",
    "    # menu에는 menu dictionary가 들어간다.\n",
    "    # 이러한 함수 형식은 menu에 아이템이 추가되나 삭제될 시 유연하게 대처할 수 있다.\n",
    "    items = list(menu.items())\n",
    "    for i in range(0, len(items), 2):\n",
    "        line = \"\"\n",
    "        # 첫 번째 메뉴 아이템\n",
    "        name1, price1 = items[i]\n",
    "        line += f\"{i+1}. {name1} - {price1:,}원\"\n",
    "        \n",
    "        # 두 번째 메뉴 아이템 (있을 경우)\n",
    "        if i + 1 < len(items):\n",
    "            name2, price2 = items[i + 1]\n",
    "            line += f\"{(' ' * (40 - len(line)))}{i+2}. {name2} - {price2:,}원\"\n",
    "        \n",
    "        print(line)"
   ]
  },
  {
   "cell_type": "code",
   "execution_count": 4,
   "id": "c44f7256ef0496ce",
   "metadata": {
    "ExecuteTime": {
     "end_time": "2023-09-06T02:16:14.678884600Z",
     "start_time": "2023-09-06T02:16:14.674432100Z"
    }
   },
   "outputs": [],
   "source": [
    "def input_menu(menu):\n",
    "    while True:\n",
    "        menu_index = input(\"1. 위 메뉴 중 주문할 메뉴의 번호를 쓰세요: \")\n",
    "        menu_count = input(\"2. 위 메뉴의 주문 수량을 쓰세요: \")\n",
    "        total_price = 0\n",
    "        menu_name = \"\"\n",
    "        \n",
    "        try:\n",
    "            menu_name = list(menu.keys())[int(menu_index) - 1]\n",
    "            menu_count = int(menu_count)\n",
    "            total_price = menu[menu_name] * menu_count\n",
    "        except:\n",
    "            print(\"잘못된 입력입니다. 다시 시도해주세요.\")\n",
    "            continue\n",
    "        \n",
    "        break\n",
    "        \n",
    "    return [menu_name, menu_count, total_price]"
   ]
  },
  {
   "cell_type": "code",
   "execution_count": 5,
   "id": "47ef597e4b9349d0",
   "metadata": {
    "ExecuteTime": {
     "end_time": "2023-09-06T02:16:15.616323600Z",
     "start_time": "2023-09-06T02:16:15.612365900Z"
    }
   },
   "outputs": [],
   "source": [
    "def is_doing_additional_order():\n",
    "    while True:\n",
    "        answer = input(\"추가 주문을 하시겠습니까? (Y / N): \")\n",
    "        answer_boolean = False\n",
    "        try:\n",
    "            answer = answer.lower()\n",
    "            if answer == \"y\":\n",
    "                answer_boolean = True\n",
    "            elif answer == \"n\":\n",
    "                answer_boolean = False\n",
    "            else:\n",
    "                raise Exception(\"Y 또는 N을 입력해주세요.\")\n",
    "            \n",
    "        except Exception as e:\n",
    "            print(\"잘못된 입력입니다. 다시 시도해주세요.\", e)\n",
    "            continue\n",
    "            \n",
    "        break\n",
    "        \n",
    "    return answer_boolean\n",
    "    "
   ]
  },
  {
   "cell_type": "code",
   "execution_count": 6,
   "id": "31f48d244b13d8b6",
   "metadata": {
    "ExecuteTime": {
     "end_time": "2023-09-06T02:16:33.296466900Z",
     "start_time": "2023-09-06T02:16:16.667566Z"
    }
   },
   "outputs": [
    {
     "name": "stdout",
     "output_type": "stream",
     "text": [
      "1. 짜장면 - 2,000원                         2. 짬뽕 - 6,000원\n",
      "3. 군만두 - 8,000원                         4. 탕수육 - 10,000원\n",
      "1. 위 메뉴 중 주문할 메뉴의 번호를 쓰세요: 2\n",
      "2. 위 메뉴의 주문 수량을 쓰세요: 10\n",
      "\n",
      "주문하신 메뉴는 짬뽕이고 주문 수량은 10 그릇이며 주문 금액은 60000입니다.\n",
      "\n",
      "추가 주문을 하시겠습니까? (Y / N): y\n",
      "1번째 추가 주문입니다.\n",
      "1. 짜장면 - 2,000원                         2. 짬뽕 - 6,000원\n",
      "3. 군만두 - 8,000원                         4. 탕수육 - 10,000원\n",
      "1. 위 메뉴 중 주문할 메뉴의 번호를 쓰세요: 4\n",
      "2. 위 메뉴의 주문 수량을 쓰세요: 200\n",
      "\n",
      "주문하신 메뉴는 탕수육이고 주문 수량은 200 그릇이며 주문 금액은 2000000입니다.\n",
      "\n",
      "추가 주문을 하시겠습니까? (Y / N): y\n",
      "2번째 추가 주문입니다.\n",
      "1. 짜장면 - 2,000원                         2. 짬뽕 - 6,000원\n",
      "3. 군만두 - 8,000원                         4. 탕수육 - 10,000원\n",
      "1. 위 메뉴 중 주문할 메뉴의 번호를 쓰세요: 5\n",
      "2. 위 메뉴의 주문 수량을 쓰세요: 5\n",
      "잘못된 입력입니다. 다시 시도해주세요.\n",
      "1. 위 메뉴 중 주문할 메뉴의 번호를 쓰세요: 3\n",
      "2. 위 메뉴의 주문 수량을 쓰세요: 254\n",
      "\n",
      "주문하신 메뉴는 군만두이고 주문 수량은 254 그릇이며 주문 금액은 2032000입니다.\n",
      "\n",
      "추가 주문을 하시겠습니까? (Y / N): y\n",
      "3번째 추가 주문입니다.\n",
      "1. 짜장면 - 2,000원                         2. 짬뽕 - 6,000원\n",
      "3. 군만두 - 8,000원                         4. 탕수육 - 10,000원\n",
      "1. 위 메뉴 중 주문할 메뉴의 번호를 쓰세요: 5645645\n",
      "2. 위 메뉴의 주문 수량을 쓰세요: 4564\n",
      "잘못된 입력입니다. 다시 시도해주세요.\n",
      "1. 위 메뉴 중 주문할 메뉴의 번호를 쓰세요: 1\n",
      "2. 위 메뉴의 주문 수량을 쓰세요: 54564564\n",
      "\n",
      "주문하신 메뉴는 짜장면이고 주문 수량은 54564564 그릇이며 주문 금액은 109129128000입니다.\n",
      "\n",
      "추가 주문을 하시겠습니까? (Y / N): y\n",
      "4번째 추가 주문입니다.\n",
      "추가주문은 총 3회까지만 가능합니다.\n"
     ]
    }
   ],
   "source": [
    "additional_order_count = 0\n",
    "\n",
    "while additional_order_count <= 3:\n",
    "    print_menu(menu)\n",
    "    menu_name, menu_count, total_price = input_menu(menu)\n",
    "    \n",
    "    print(f\"\\n주문하신 메뉴는 {menu_name}이고 주문 수량은 {menu_count} 그릇이며 주문 금액은 {total_price}입니다.\\n\")\n",
    "    \n",
    "    \n",
    "    if is_doing_additional_order():\n",
    "        additional_order_count += 1\n",
    "        print(f\"{additional_order_count}번째 추가 주문입니다.\")\n",
    "    else:\n",
    "        break\n",
    "    \n",
    "    \n",
    "if additional_order_count > 3:\n",
    "    print(\"추가주문은 총 3회까지만 가능합니다.\")"
   ]
  },
  {
   "cell_type": "code",
   "execution_count": null,
   "id": "1eba84239b29ccaa",
   "metadata": {},
   "outputs": [],
   "source": []
  }
 ],
 "metadata": {
  "kernelspec": {
   "display_name": "conda-rulrudino",
   "language": "python",
   "name": "conda"
  },
  "language_info": {
   "codemirror_mode": {
    "name": "ipython",
    "version": 3
   },
   "file_extension": ".py",
   "mimetype": "text/x-python",
   "name": "python",
   "nbconvert_exporter": "python",
   "pygments_lexer": "ipython3",
   "version": "3.11.5"
  }
 },
 "nbformat": 4,
 "nbformat_minor": 5
}
