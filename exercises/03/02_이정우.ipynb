{
 "cells": [
  {
   "cell_type": "code",
   "execution_count": 1,
   "id": "initial_id",
   "metadata": {
    "ExecuteTime": {
     "end_time": "2023-09-06T02:28:32.206256300Z",
     "start_time": "2023-09-06T02:28:32.177109Z"
    }
   },
   "outputs": [],
   "source": [
    "menu = {\n",
    "    \"짜장면\" : 2000,\n",
    "    \"짬뽕\" : 6000,\n",
    "    \"군만두\" : 8000,\n",
    "    \"탕수육\" : 10000,\n",
    "    \"유산슬\" : 12000,\n",
    "    \"샥스핀\" : 15000\n",
    "}"
   ]
  },
  {
   "cell_type": "code",
   "execution_count": 2,
   "id": "ba127dae81e219b8",
   "metadata": {
    "ExecuteTime": {
     "end_time": "2023-09-06T02:28:32.207256500Z",
     "start_time": "2023-09-06T02:28:32.179720200Z"
    }
   },
   "outputs": [],
   "source": [
    "def print_menu(menu):\n",
    "    # menu에는 menu dictionary가 들어간다.\n",
    "    # 이러한 함수 형식은 menu에 아이템이 추가되나 삭제될 시 유연하게 대처할 수 있다.\n",
    "    items = list(menu.items())\n",
    "    for i in range(0, len(items), 2):\n",
    "        line = \"\"\n",
    "        # 첫 번째 메뉴 아이템\n",
    "        name1, price1 = items[i]\n",
    "        line += f\"{i+1}. {name1} - {price1:,}원\"\n",
    "        \n",
    "        # 두 번째 메뉴 아이템 (있을 경우)\n",
    "        if i + 1 < len(items):\n",
    "            name2, price2 = items[i + 1]\n",
    "            line += f\"{(' ' * (40 - len(line)))}{i+2}. {name2} - {price2:,}원\"\n",
    "        \n",
    "        print(line)"
   ]
  },
  {
   "cell_type": "code",
   "execution_count": 3,
   "id": "c44f7256ef0496ce",
   "metadata": {
    "ExecuteTime": {
     "end_time": "2023-09-06T02:28:32.936788100Z",
     "start_time": "2023-09-06T02:28:32.912418700Z"
    }
   },
   "outputs": [],
   "source": [
    "def input_menu(menu):\n",
    "    while True:\n",
    "        menu_index = input(\"1. 위 메뉴 중 주문할 메뉴의 번호를 쓰세요: \")\n",
    "        menu_count = input(\"2. 위 메뉴의 주문 수량을 쓰세요: \")\n",
    "        total_price = 0\n",
    "        menu_name = \"\"\n",
    "        \n",
    "        try:\n",
    "            menu_name = list(menu.keys())[int(menu_index) - 1]\n",
    "            menu_count = int(menu_count)\n",
    "            total_price = menu[menu_name] * menu_count\n",
    "        except:\n",
    "            print(\"잘못된 입력입니다. 다시 시도해주세요.\")\n",
    "            continue\n",
    "        \n",
    "        break\n",
    "        \n",
    "    return [menu_name, menu_count, total_price]"
   ]
  },
  {
   "cell_type": "code",
   "execution_count": 4,
   "id": "47ef597e4b9349d0",
   "metadata": {
    "ExecuteTime": {
     "end_time": "2023-09-06T02:28:37.044684300Z",
     "start_time": "2023-09-06T02:28:37.024019600Z"
    }
   },
   "outputs": [],
   "source": [
    "def is_doing_additional_order():\n",
    "    while True:\n",
    "        answer = input(\"추가 주문을 하시겠습니까? (Y / N): \")\n",
    "        answer_boolean = False\n",
    "        try:\n",
    "            answer = answer.lower()\n",
    "            if answer == \"y\":\n",
    "                answer_boolean = True\n",
    "            elif answer == \"n\":\n",
    "                answer_boolean = False\n",
    "            else:\n",
    "                raise Exception(\"Y 또는 N을 입력해주세요.\")\n",
    "            \n",
    "        except Exception as e:\n",
    "            print(\"잘못된 입력입니다. 다시 시도해주세요.\", e)\n",
    "            continue\n",
    "            \n",
    "        break\n",
    "        \n",
    "    return answer_boolean\n",
    "    "
   ]
  },
  {
   "cell_type": "code",
   "execution_count": 5,
   "id": "31f48d244b13d8b6",
   "metadata": {
    "ExecuteTime": {
     "end_time": "2023-09-06T02:28:49.745160Z",
     "start_time": "2023-09-06T02:28:38.742299Z"
    }
   },
   "outputs": [
    {
     "name": "stdout",
     "output_type": "stream",
     "text": [
      "1. 짜장면 - 2,000원                         2. 짬뽕 - 6,000원\n",
      "3. 군만두 - 8,000원                         4. 탕수육 - 10,000원\n",
      "5. 유산슬 - 12,000원                        6. 샥스핀 - 15,000원\n",
      "\n",
      "주문하신 메뉴는 탕수육이고 주문 수량은 1 그릇이며 주문 금액은 10000입니다.\n"
     ]
    }
   ],
   "source": [
    "additional_order_count = 0\n",
    "\n",
    "while additional_order_count <= 3:\n",
    "    print_menu(menu)\n",
    "    menu_name, menu_count, total_price = input_menu(menu)\n",
    "    \n",
    "    print(f\"\\n주문하신 메뉴는 {menu_name}이고 주문 수량은 {menu_count} 그릇이며 주문 금액은 {total_price}원입니다.\\n\")\n",
    "    \n",
    "    additional_order_count += 1\n",
    "    if additional_order_count > 3:\n",
    "        break\n",
    "    \n",
    "    if is_doing_additional_order():\n",
    "        if additional_order_count <= 3:\n",
    "            print(f\"\\n{additional_order_count}번째 추가 주문입니다.\\n\")\n",
    "    else:\n",
    "        break\n",
    "    \n",
    "    \n",
    "if additional_order_count > 3:\n",
    "    print(\"추가주문은 총 3회까지만 가능합니다.\")"
   ]
  },
  {
   "cell_type": "code",
   "execution_count": null,
   "id": "1eba84239b29ccaa",
   "metadata": {},
   "outputs": [],
   "source": []
  }
 ],
 "metadata": {
  "kernelspec": {
   "display_name": "conda-rulrudino",
   "language": "python",
   "name": "conda"
  },
  "language_info": {
   "codemirror_mode": {
    "name": "ipython",
    "version": 3
   },
   "file_extension": ".py",
   "mimetype": "text/x-python",
   "name": "python",
   "nbconvert_exporter": "python",
   "pygments_lexer": "ipython3",
   "version": "3.11.5"
  }
 },
 "nbformat": 4,
 "nbformat_minor": 5
}
