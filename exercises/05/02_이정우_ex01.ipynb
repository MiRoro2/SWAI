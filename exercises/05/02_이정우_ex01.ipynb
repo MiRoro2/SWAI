{
 "cells": [
  {
   "cell_type": "code",
   "execution_count": 2,
   "id": "initial_id",
   "metadata": {
    "ExecuteTime": {
     "end_time": "2023-09-17T07:43:35.191426300Z",
     "start_time": "2023-09-17T07:43:35.169395200Z"
    }
   },
   "outputs": [],
   "source": [
    "import os"
   ]
  },
  {
   "cell_type": "code",
   "execution_count": 3,
   "id": "a4521594d50b53e0",
   "metadata": {
    "ExecuteTime": {
     "end_time": "2023-09-17T07:51:03.999443600Z",
     "start_time": "2023-09-17T07:51:01.489184800Z"
    }
   },
   "outputs": [
    {
     "name": "stdout",
     "output_type": "stream",
     "text": [
      "폴더 이름을 입력하세요(예: C:\\temp) : C:\\Users\\vulpe\\Desktop\\Cats\n",
      "입력하신 경로가 존재하여 C:\\Users\\vulpe\\Desktop\\Cats_2로 폴더를 생성했습니다\n"
     ]
    }
   ],
   "source": [
    "def generate_path():\n",
    "    path = input(\"폴더 이름을 입력하세요(예: C:\\\\temp) : \")\n",
    "    \n",
    "    try:\n",
    "        # 지정된 경로로 만들기 시도\n",
    "        os.makedirs(path)\n",
    "        print(f\"입력하신 {path} 경로의 폴더를 생성했습니다\")\n",
    "        return\n",
    "        \n",
    "    except FileExistsError:\n",
    "        # 파일이 이미 있는 경우\n",
    "        new_path = path + \"_2\"\n",
    "        os.makedirs(new_path)\n",
    "        print(f\"입력하신 경로가 존재하여 {new_path}로 폴더를 생성했습니다\")\n",
    "        return\n",
    "        \n",
    "    except OSError:\n",
    "        # 파일 이름이 잘못된 경우\n",
    "        print(\"파일 이름이 잘못되었습니다. 다시 시도해주세요.\")\n",
    "        generate_path()\n",
    "        \n",
    "generate_path()"
   ]
  },
  {
   "cell_type": "code",
   "execution_count": null,
   "id": "87deada478273c",
   "metadata": {},
   "outputs": [],
   "source": []
  }
 ],
 "metadata": {
  "kernelspec": {
   "display_name": "Python 3 (ipykernel)",
   "language": "python",
   "name": "python3"
  },
  "language_info": {
   "codemirror_mode": {
    "name": "ipython",
    "version": 3
   },
   "file_extension": ".py",
   "mimetype": "text/x-python",
   "name": "python",
   "nbconvert_exporter": "python",
   "pygments_lexer": "ipython3",
   "version": "3.11.3"
  }
 },
 "nbformat": 4,
 "nbformat_minor": 5
}
