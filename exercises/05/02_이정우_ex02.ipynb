{
 "cells": [
  {
   "cell_type": "code",
   "execution_count": 3,
   "id": "initial_id",
   "metadata": {
    "collapsed": true,
    "ExecuteTime": {
     "end_time": "2023-09-17T08:04:39.400673600Z",
     "start_time": "2023-09-17T08:04:39.388558400Z"
    }
   },
   "outputs": [],
   "source": [
    "# 먼저 파일을 읽습니다.\n",
    "\n",
    "urlFile = open(\"url.txt\", \"r\")\n",
    "urls = urlFile.readlines()"
   ]
  },
  {
   "cell_type": "code",
   "execution_count": 4,
   "outputs": [],
   "source": [
    "# 줄을 출력하는 함수입니다.\n",
    "def print_line():\n",
    "    print(\"=\" * 30)"
   ],
   "metadata": {
    "collapsed": false,
    "ExecuteTime": {
     "end_time": "2023-09-17T08:04:40.237223700Z",
     "start_time": "2023-09-17T08:04:40.227576900Z"
    }
   },
   "id": "336616d8185774a9"
  },
  {
   "cell_type": "code",
   "execution_count": 5,
   "outputs": [
    {
     "name": "stdout",
     "output_type": "stream",
     "text": [
      "['https:', '', 'blog.naver.com', 'abc123\\n']\n",
      "['https:', '', 'blog.tistory.com', 'aaa123\\n']\n",
      "['https:', '', 'blog.blog.me', 'bbb456\\n']\n",
      "['https:', '', 'blog.tistory.com', 'abc1234\\n']\n",
      "['https:', '', 'blog.blog.me', 'ddd432\\n']\n",
      "['https:', '', 'blog.naver.com', 'bbaacc234\\n']\n",
      "['https:', '', 'blog.naver.com', 'aacc5435']\n",
      "==============================\n",
      "['blog.naver.com', 'blog.naver.com', 'blog.naver.com']\n",
      "['blog.tistory.com', 'blog.tistory.com']\n",
      "['blog.blog.me', 'blog.blog.me']\n",
      "==============================\n",
      "blog.naver.com의 갯수는 모두 3개입니다\n",
      "blog.tistory.com의 갯수는 모두 2개입니다\n",
      "blog.blog.me의 갯수는 모두 2개입니다\n"
     ]
    }
   ],
   "source": [
    "naver = \"blog.naver.com\"\n",
    "tistory = \"blog.tistory.com\"\n",
    "blog = \"blog.blog.me\"\n",
    "\n",
    "naverList = []\n",
    "tistoryList = []\n",
    "blogList = []\n",
    "\n",
    "# url들을 '/' 문자로 나눕니다.\n",
    "for url in urls:\n",
    "    split_url = url.split('/')\n",
    "    # 각 url 배열 출력\n",
    "    print(split_url)\n",
    "    \n",
    "    # split된 url에 각 블로그 주소가 있다면 append합니다.\n",
    "    for domain in split_url:\n",
    "        if domain == naver:\n",
    "            naverList.append(domain)\n",
    "        if domain == tistory:\n",
    "            tistoryList.append(domain)\n",
    "        if domain == blog:\n",
    "            blogList.append(domain)\n",
    "\n",
    "print_line()\n",
    "# 각 블로그 출력\n",
    "print(naverList)\n",
    "print(tistoryList)\n",
    "print(blogList)\n",
    "\n",
    "print_line()\n",
    "# 각 블로그 갯수 출력\n",
    "print(f\"{naver}의 갯수는 모두 {len(naverList)}개입니다\")\n",
    "print(f\"{tistory}의 갯수는 모두 {len(tistoryList)}개입니다\")\n",
    "print(f\"{blog}의 갯수는 모두 {len(blogList)}개입니다\")"
   ],
   "metadata": {
    "collapsed": false,
    "ExecuteTime": {
     "end_time": "2023-09-17T08:04:40.763758700Z",
     "start_time": "2023-09-17T08:04:40.755122Z"
    }
   },
   "id": "e6f96707ea495847"
  },
  {
   "cell_type": "code",
   "execution_count": null,
   "outputs": [],
   "source": [],
   "metadata": {
    "collapsed": false
   },
   "id": "d428dc961db6c7c2"
  }
 ],
 "metadata": {
  "kernelspec": {
   "display_name": "Python 3",
   "language": "python",
   "name": "python3"
  },
  "language_info": {
   "codemirror_mode": {
    "name": "ipython",
    "version": 2
   },
   "file_extension": ".py",
   "mimetype": "text/x-python",
   "name": "python",
   "nbconvert_exporter": "python",
   "pygments_lexer": "ipython2",
   "version": "2.7.6"
  }
 },
 "nbformat": 4,
 "nbformat_minor": 5
}
